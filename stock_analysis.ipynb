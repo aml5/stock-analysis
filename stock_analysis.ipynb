{
 "cells": [
  {
   "cell_type": "markdown",
   "id": "manual-brother",
   "metadata": {},
   "source": [
    "### RNN Model for Stock Analysis\n",
    "\n",
    "1. import data from csv datsets\n",
    "    - prices\n",
    "    - sector and industry \n",
    "    - revenue\n",
    "    - profit\n",
    "2. compile into timestep sequence\n",
    "3. create lagged y-value set\n",
    "4. create model\n",
    "    - lstm cell\n",
    "    - dense layer\n",
    "    - consider another lstm and dense layer\n",
    "    - output\n",
    "5. run model based on following inputs for each time step\n",
    "    - market cap\n",
    "    - industry (one-hot vector)\n",
    "    - sector (one-hot vector)\n",
    "    - revenue\n",
    "    - profit\n",
    "6. predict\n",
    "    - run model up until the known value is done\n",
    "    - iterate through following values feeding previous output and hidden state"
   ]
  },
  {
   "cell_type": "markdown",
   "id": "lonely-divide",
   "metadata": {},
   "source": [
    "#### Initialize definitions"
   ]
  },
  {
   "cell_type": "code",
   "execution_count": 931,
   "id": "small-delivery",
   "metadata": {
    "scrolled": true,
    "tags": []
   },
   "outputs": [],
   "source": [
    "import numpy as np\n",
    "import pandas as pd\n",
    "import os\n",
    "import random\n",
    "import matplotlib.pyplot as plt\n",
    "from sklearn.preprocessing import MinMaxScaler\n",
    "\n",
    "import tensorflow as tf\n",
    "\n",
    "# using tensorflow.keras may be necessary, keras by itself may not work\n",
    "from tensorflow import keras\n",
    "from tensorflow.keras.layers import Bidirectional, Concatenate, Permute, Dot, Input, LSTM, Multiply, TimeDistributed, Reshape, Dropout\n",
    "from tensorflow.keras.layers import RepeatVector, Dense, Activation, Lambda, LeakyReLU\n",
    "from tensorflow.keras.optimizers import Adam\n",
    "from tensorflow.keras.losses import MeanSquaredError, MeanAbsolutePercentageError\n",
    "from tensorflow.keras.models import load_model, Model\n",
    "from tensorflow.keras.utils import Sequence\n",
    "import tensorflow.keras.backend as K"
   ]
  },
  {
   "cell_type": "code",
   "execution_count": 932,
   "id": "present-position",
   "metadata": {
    "scrolled": true,
    "tags": []
   },
   "outputs": [],
   "source": [
    "# define constants and filepaths\n",
    "\n",
    "shareprices_path = 'raw/us-shareprices-daily.csv'\n",
    "income_path = 'raw/us-income-ttm.csv'\n",
    "# shareprices_path = 'us-shareprices-latest.csv' # latest data only, helps shorten load time while developing\n",
    "\n",
    "MAX_DAYS = 9000 # number of total days possible for a stock\n",
    "T_x = 1 # number of timesteps inputs\n",
    "T_y = 1 # number of timestep outputs, T_x = T_y or 1, depending on the architecture\n",
    "# n_a1 = 256 # number of hidden activation units in first LSTM layer\n",
    "# n_a2 = 256 # number of hidden activation units in second LSTM layer\n",
    "n_inputs = 5 # number of input variables per timestep\n",
    "n_values = n_inputs # number of output predicted variables, may be same as n_inputs\n",
    "n_trailing = T_x # number of trailing days used for prediction\n",
    "n_forward = 2000 # number of timesteps in advance for forward prediction\n",
    "m = 150000 # number of training examples\n",
    "\n",
    "sc = MinMaxScaler(feature_range=(0,1))"
   ]
  },
  {
   "cell_type": "markdown",
   "id": "otherwise-eating",
   "metadata": {},
   "source": [
    "#### Data Preparation\n",
    "\n",
    "1. Import all datasets using pandas\n",
    "2. Add market cap, revenue, profit, and yoy growth by quarter to dataset\n",
    "    - Make data repeat until following quarter\n",
    "3. Create a second dataset with sector of the company\n",
    "4. Slice dataset into arrays of length T_x+1 and pair with sector"
   ]
  },
  {
   "cell_type": "code",
   "execution_count": 933,
   "id": "unauthorized-artist",
   "metadata": {
    "tags": []
   },
   "outputs": [],
   "source": [
    "def load_dataset(path, cols=None, delimiter=';'):\n",
    "    \n",
    "    \"\"\"\n",
    "    Loads a dataset from csv file into pandas dataframe.\n",
    "    \n",
    "    Parameters:\n",
    "    path -- filepath to csv\n",
    "    cols -- column labels to pass into reader, first label should be the date column label\n",
    "    delimiter -- delimiter of values, default semicolon based on project data\n",
    "    \n",
    "    Returns:\n",
    "    df -- dataframe with values from csv\n",
    "    \"\"\"\n",
    "    \n",
    "    df = pd.read_csv(path, delimiter=delimiter, usecols=cols)\n",
    "    df.index = pd.to_datetime(df.pop(cols[0])) # alternatively, df.index = pd.to_datetime(df[cols[0]]); df = df.drop(columns=[cols[0]])\n",
    "    df.index.name = 'Date' # renames column if date column originally has different name\n",
    "    \n",
    "    return df"
   ]
  },
  {
   "cell_type": "code",
   "execution_count": 934,
   "id": "purple-chapel",
   "metadata": {
    "tags": []
   },
   "outputs": [],
   "source": [
    "def clean_data(df, na=False, zeros=None, min_freq=1):\n",
    "    \n",
    "    \"\"\"\n",
    "    Removes rows with incomplete data, either NaN or zero values, based on specified columns.\n",
    "    \n",
    "    Parameters:\n",
    "    df -- input dataframe\n",
    "    na -- labels of columns to consider when removing rows with NaN values, default of False removes no rows (False instead of None because None removes all rows)\n",
    "    zeros -- label of columns considered when removing rows with zero values, default of None removes no rows\n",
    "    min_freq -- minimum number of rows of a ticker to remain in dataset, default of 1 removes no rows\n",
    "    \n",
    "    Returns:\n",
    "    df -- dataframe with data cleaned\n",
    "    \"\"\"\n",
    "    \n",
    "    if na == 'all': na = df.columns[df.dtypes!='object'] # sets to columns with non-string dtypes\n",
    "    if zeros == 'all': zeros = df.columns[df.dtypes!='object']\n",
    "    \n",
    "    if not na is False: df = df.dropna(subset=na) # removes all rows with NaN in specified columns, df.dropna(subset=[na], inplace=True) also works if SettingWithCopyWarning appears\n",
    "    if not zeros is None: df = df[(df[zeros]!=0).all(axis=1)] # removes all rows with zero values in specified columns, see https://stackoverflow.com/a/22650162/6501621 and https://stackoverflow.com/questions/18172851/deleting-dataframe-row-in-pandas-based-on-column-value\n",
    "    df = df[df.groupby('Ticker')['Ticker'].transform(len) >= min_freq] # removes all rows of a stock if stock has less than min_freq entries, see https://stackoverflow.com/a/48514338/6501621\n",
    "    \n",
    "    return df"
   ]
  },
  {
   "cell_type": "code",
   "execution_count": 935,
   "id": "confidential-climb",
   "metadata": {
    "tags": []
   },
   "outputs": [],
   "source": [
    "def add_derived_value(df, method, base_cols, deriv_cols, drop=False, group=None, periods=4):\n",
    "    \n",
    "    \"\"\"\n",
    "    Computes derived value based on method and parameters. Available derived values: percent change, multiplication.\n",
    "    \n",
    "    Parameters:\n",
    "    df -- input dataframe (required)\n",
    "    method -- computation to calculate derived values (required)\n",
    "    base_cols -- list of column labels of base values used to compute derived values (required)\n",
    "    deriv_cols -- list of column label(s) of derived values to add to dataframe (required)\n",
    "    drop -- column label(s) to drop after computation (optional)\n",
    "    group -- column label of grouping if necessary for calculation (optional)\n",
    "    period -- number of periods between percent change calculation (optional)\n",
    "    \n",
    "    Returns:\n",
    "    df -- dataframe with additional column(s) of derived calculations\n",
    "    \"\"\"\n",
    "    \n",
    "    # computes percentage change of base columns and adds to dataframe in new columns\n",
    "    \n",
    "    if method == 'pctchg':\n",
    "        growth = lambda x: x.pct_change(periods=periods).backfill() # defines function to compute percent change and backfills missing data\n",
    "        for base_col, deriv_col in zip(base_cols, deriv_cols): # loops through if applicable to multiple columns\n",
    "            growth_col = df.groupby(group)[base_col].apply(growth) # applies function by group\n",
    "            df[deriv_col] = growth_col # assigns derived values to specified column name\n",
    "        \n",
    "    # multiplies base columns together to create a new column\n",
    "    \n",
    "    elif method == 'multiply':\n",
    "        multiply = df[base_cols[0]] # initializes variable\n",
    "        for col in base_cols[1:]: multiply *= df[col] # loops through all other columns to multiply together into variable\n",
    "        df[deriv_cols] = multiply # assigns derived values to specified column name, only one column can be specified in deriv_cols\n",
    "        \n",
    "    if drop: df = df.drop(columns=base_cols) # delete base columns after calculating derived values\n",
    "\n",
    "    return df"
   ]
  },
  {
   "cell_type": "code",
   "execution_count": 936,
   "id": "starting-values",
   "metadata": {
    "tags": []
   },
   "outputs": [],
   "source": [
    "def access_ticker(df, ticker):\n",
    "    \n",
    "    \"\"\"\n",
    "    Returns the rows of a given ticker.\n",
    "    \n",
    "    Parameters:\n",
    "    df -- input dataframe\n",
    "    ticker -- stock ticker to retrieve values of\n",
    "    \n",
    "    Returns:\n",
    "    df -- dataframe of rows of selected ticker\n",
    "    \"\"\"\n",
    "    \n",
    "    if len(df.index.names) <= 1: # access from single index\n",
    "        return df[df['Ticker']==ticker]\n",
    "    else: # access from MultiIndex\n",
    "        return df.loc[ticker]"
   ]
  },
  {
   "cell_type": "code",
   "execution_count": 937,
   "id": "growing-powder",
   "metadata": {
    "tags": []
   },
   "outputs": [],
   "source": [
    "def rescale_data_by_group(df, group, freq='1D'):\n",
    "    \n",
    "    \"\"\"\n",
    "    Rescales data from original frequency to specified frequency and forward fills empty rows if upscaling.\n",
    "    \n",
    "    Parameters:\n",
    "    df -- input dataframe to rescale\n",
    "    group -- column of grouping\n",
    "    frequency -- frequency of data for each group\n",
    "    \"\"\"\n",
    "    \n",
    "    rescale = lambda x: x.asfreq(freq).pad() # defines function to rescale data to specified frequency\n",
    "    df = df.groupby(group).apply(rescale) # applies function by group\n",
    "    df.pop(group) # df.drop provides same functionality for this use case\n",
    "    df = df.reset_index(level=0)\n",
    "    \n",
    "    return df"
   ]
  },
  {
   "cell_type": "code",
   "execution_count": 938,
   "id": "potential-passenger",
   "metadata": {
    "tags": []
   },
   "outputs": [],
   "source": [
    "def generate_sequences(data, n_trailing=n_trailing, n_forward=n_forward):\n",
    "    \n",
    "    \"\"\"\n",
    "    Generates all sequences of input array given number of timesteps and length of forward projection.\n",
    "    \n",
    "    Parameters:\n",
    "    data -- input array\n",
    "    n_trailing -- number of timesteps used in sequence\n",
    "    n_forward -- projection number of days in advance\n",
    "    \n",
    "    Return:\n",
    "    sequences -- list of sequences generated from array\n",
    "    \"\"\"\n",
    "    \n",
    "    sequences = []\n",
    "    \n",
    "    for i in range(len(data)-n_trailing-n_forward+1):\n",
    "        sequences.append(np.append(data[i:i+n_trailing], [data[i+n_trailing+n_forward-1]], axis=0)) # appends the n_trailing timesteps and timestep n_forward from most recent timestep\n",
    "    \n",
    "    return sequences"
   ]
  },
  {
   "cell_type": "code",
   "execution_count": 939,
   "id": "taken-failing",
   "metadata": {
    "tags": []
   },
   "outputs": [],
   "source": [
    "def notify(title, text=\"\"):\n",
    "    \n",
    "    \"\"\"\n",
    "    Displays a desktop notification with specified text.\n",
    "    \n",
    "    Parameters:\n",
    "    title -- title of notification to be displayed\n",
    "    text -- further details of notification\n",
    "    \n",
    "    Returns:\n",
    "    None\n",
    "    \"\"\"\n",
    "    \n",
    "    os.system(\"\"\"\n",
    "              osascript -e 'display notification \"{}\" with title \"{}\"'\n",
    "              \"\"\".format(text, title))"
   ]
  },
  {
   "cell_type": "markdown",
   "id": "worst-occasion",
   "metadata": {},
   "source": [
    "#### Loss Functions"
   ]
  },
  {
   "cell_type": "code",
   "execution_count": 940,
   "id": "intended-advocacy",
   "metadata": {
    "tags": []
   },
   "outputs": [],
   "source": [
    "def custom_loss_function(loss, weights):\n",
    "    \n",
    "    \"\"\"\n",
    "    Computes a loss function with weighting on specific outputs.\n",
    "    Based on https://keras.io/api/losses/\n",
    "    https://towardsdatascience.com/how-to-create-a-custom-loss-function-keras-3a89156ec69b\n",
    "    https://medium.com/@Bloomore/how-to-write-a-custom-loss-function-with-additional-arguments-in-keras-5f193929f7a0\n",
    "    \n",
    "    Parameters:\n",
    "    loss -- loss options (mean squared error, mean absolute percentage error)\n",
    "    weights -- list of loss weighting of output ['Market Cap', 'Revenue', 'Gross Profit', 'Net Income', 'YoY Revenue']\n",
    "    \n",
    "    Returns:\n",
    "    custom_loss -- defines a custom error with loss weighting\n",
    "    \"\"\"\n",
    "    \n",
    "    loss_weights = K.constant(np.array([weights]))\n",
    "    num_weights = np.sum(np.ones(len(weights))) # workaround because it seems multiplying by len(weights) directly doesn't work\n",
    "    \n",
    "    if loss == 'mse':\n",
    "        def custom_loss(y_true, y_pred):\n",
    "            loss = K.square(y_true - y_pred) # square before weighting losses, otherwise it gets messy\n",
    "            weighted_loss = Multiply()([loss, loss_weights]) / np.sum(loss_weights) * num_weights # multiply by weights / sum of weights * num weights intuitively makes sense; the sum of (weights / sum of weights) = 1, so to recalibrate based on  original neutral weighting, multiply by length of weights (recalibration is unnecessary but nice)\n",
    "            return K.mean(weighted_loss)\n",
    "        \n",
    "    elif loss == 'mape':\n",
    "        def custom_loss(y_true, y_pred):\n",
    "            diff = y_true - y_pred\n",
    "            loss = 100 * K.abs(diff / y_true) # abs includes y_true because y_true may have negative values\n",
    "            weighted_loss = Multiply()([loss, loss_weights]) / np.sum(loss_weights) * num_weights\n",
    "            return K.mean(weighted_loss)\n",
    "    \n",
    "    return custom_loss"
   ]
  },
  {
   "cell_type": "markdown",
   "id": "nutritional-geology",
   "metadata": {},
   "source": [
    "#### Data Processing"
   ]
  },
  {
   "cell_type": "code",
   "execution_count": 941,
   "id": "sunrise-characterization",
   "metadata": {
    "tags": []
   },
   "outputs": [],
   "source": [
    "# initialize income dataset\n",
    "\n",
    "cols = ['Publish Date', 'Ticker', 'Revenue', 'Gross Profit', 'Net Income']\n",
    "df_income = load_dataset(path=income_path, cols=cols)\n",
    "df_income = clean_data(df_income, na='all', zeros='all', min_freq=5) # df_income.dtypes!='object'] is essentially everything except strings, don't forget it is '!=', not '=='\n",
    "df_income = add_derived_value(df=df_income, method='pctchg', group='Ticker', base_cols=['Revenue'], deriv_cols=['YoY Revenue'], periods=4) # add YoY revenue column by calculating percent change\n",
    "df_income = rescale_data_by_group(df_income, group='Ticker', freq='1D') # somehow turns 'Net Income' from int64 to float64?"
   ]
  },
  {
   "cell_type": "code",
   "execution_count": 942,
   "id": "introductory-country",
   "metadata": {
    "tags": []
   },
   "outputs": [],
   "source": [
    "# initialize prices dataset\n",
    "\n",
    "cols = ['Date', 'Ticker', 'Close', 'Shares Outstanding']\n",
    "df_prices = load_dataset(path=shareprices_path, cols=cols)\n",
    "df_prices = clean_data(df_prices, na='all', zeros='all')"
   ]
  },
  {
   "cell_type": "code",
   "execution_count": 943,
   "id": "amazing-scroll",
   "metadata": {
    "tags": []
   },
   "outputs": [],
   "source": [
    "# compute marketcap and remove other variables\n",
    "\n",
    "df_prices = add_derived_value(df=df_prices, method='multiply', base_cols=['Close', 'Shares Outstanding'], deriv_cols=['Market Cap'], group='Ticker', drop=True)\n",
    "df_prices = df_prices[df_prices['Market Cap'] > 1e9] # only companies of value $1B or more"
   ]
  },
  {
   "cell_type": "code",
   "execution_count": 944,
   "id": "lovely-quarter",
   "metadata": {
    "tags": []
   },
   "outputs": [],
   "source": [
    "# merge income and prices\n",
    "\n",
    "df_main = df_prices.merge(df_income, on=['Ticker', 'Date'], how='inner') # inner means stock must be included in both pre-merge; if MultiIndex, the on=[] parameter determines order of pivot table\n",
    "# assert not np.any(np.isnan(df_main))\n",
    "assert not df_main.isna().any(None)"
   ]
  },
  {
   "cell_type": "code",
   "execution_count": 945,
   "id": "incredible-straight",
   "metadata": {},
   "outputs": [],
   "source": [
    "df_main = clean_data(df_main, min_freq=n_forward+1) # takes only those that are sizable enough, though if n_forward is under 365, unnecessary"
   ]
  },
  {
   "cell_type": "code",
   "execution_count": 946,
   "id": "modern-mechanism",
   "metadata": {},
   "outputs": [],
   "source": [
    "# # scale data\n",
    "\n",
    "cols = df_main.columns[df_main.dtypes=='float64'] # ['Market Cap', 'Revenue', 'Gross Profit', 'Net Income']\n",
    "\n",
    "sc = MinMaxScaler(feature_range=(1e-15,1)) # duplicate initialization but useful to define here too, see https://stackoverflow.com/questions/49330195/how-to-use-inverse-transform-in-minmaxscaler-for-a-column-in-a-matrix for more on MinMaxScaler\n",
    "sc = sc.fit(df_main[cols])\n",
    "df_main[cols] = sc.transform(df_main[cols])\n",
    "df_main[cols] = np.log(df_main[cols])\n",
    "# sc2 = MinMaxScaler(feature_range=(0,1)) # not sure if necessary\n",
    "# df_main[cols] = sc2.fit_transform(df_main[cols])"
   ]
  },
  {
   "cell_type": "code",
   "execution_count": 947,
   "id": "significant-sculpture",
   "metadata": {},
   "outputs": [],
   "source": [
    "# convert to list of numpy arrays\n",
    "\n",
    "df_main = pd.pivot_table(df_main, index=['Ticker', 'Date']).reindex(columns=df_main.columns[1:]) # see https://stackoverflow.com/questions/36346071/pandas-pivot-table-changing-order-of-non-index-columns\n",
    "export = lambda x: x.to_numpy()\n",
    "dataset = df_main.groupby('Ticker').apply(export)"
   ]
  },
  {
   "cell_type": "code",
   "execution_count": 948,
   "id": "fundamental-blood",
   "metadata": {},
   "outputs": [],
   "source": [
    "# convert to training data format\n",
    "\n",
    "full_dataset = []\n",
    "for i, stock_data in enumerate(dataset):\n",
    "    full_dataset += [generate_sequences(stock_data)[0]] # see https://www.geeksforgeeks.org/python-ways-to-concatenate-two-lists/"
   ]
  },
  {
   "cell_type": "code",
   "execution_count": 949,
   "id": "olive-cabin",
   "metadata": {},
   "outputs": [],
   "source": [
    "# convert to np array\n",
    "\n",
    "full_data = np.asarray(full_dataset)\n",
    "# np.save('saved/dataset', full_data)"
   ]
  },
  {
   "cell_type": "code",
   "execution_count": 950,
   "id": "electoral-climb",
   "metadata": {},
   "outputs": [],
   "source": [
    "# load from npy file\n",
    "\n",
    "# full_data = np.load('saved/dataset.npy')"
   ]
  },
  {
   "cell_type": "code",
   "execution_count": 951,
   "id": "sharp-expansion",
   "metadata": {},
   "outputs": [
    {
     "data": {
      "text/plain": [
       "(654, 2, 5)"
      ]
     },
     "execution_count": 951,
     "metadata": {},
     "output_type": "execute_result"
    }
   ],
   "source": [
    "full_data.shape"
   ]
  },
  {
   "cell_type": "code",
   "execution_count": 952,
   "id": "solved-berry",
   "metadata": {},
   "outputs": [
    {
     "data": {
      "text/plain": [
       "array([[-11.50746788,  -3.82907086,  -3.1894315 ,  -1.24672777,\n",
       "         -2.7465336 ],\n",
       "       [ -9.23692953,  -3.61018389,  -3.14406559,  -1.24589747,\n",
       "         -2.7462545 ]])"
      ]
     },
     "execution_count": 952,
     "metadata": {},
     "output_type": "execute_result"
    }
   ],
   "source": [
    "full_dataset[5]"
   ]
  },
  {
   "cell_type": "code",
   "execution_count": 953,
   "id": "protected-atlas",
   "metadata": {},
   "outputs": [],
   "source": [
    "indices = np.arange(len(full_data))\n",
    "random.shuffle(indices)\n",
    "m = 725\n",
    "X = full_data[indices[:m],:-1,:]\n",
    "Y = full_data[indices[:m],-1:,:]\n",
    "# Y = Y.reshape(Y.shape[0], Y.shape[2])"
   ]
  },
  {
   "cell_type": "markdown",
   "id": "ready-chess",
   "metadata": {},
   "source": [
    "#### Model Attempt 5"
   ]
  },
  {
   "cell_type": "code",
   "execution_count": 954,
   "id": "subject-necessity",
   "metadata": {},
   "outputs": [],
   "source": [
    "def model5_v1_1():\n",
    "    \n",
    "    \"\"\"\n",
    "    This model is based on model v5.1 but focuses on a single input (e.g., IPO price, or first datapoint).\n",
    "    \"\"\"\n",
    "    \n",
    "    X_input = Input(shape=(1, n_inputs))\n",
    "    X = Dense(units=128, activation='relu')(X_input)\n",
    "    X = Dense(units=128, activation='relu')(X)\n",
    "    X = Dropout(0.2)(X)\n",
    "    X = Dense(units=128, activation='relu')(X)\n",
    "    X = Dropout(0.2)(X)\n",
    "    X = Dense(units=64, activation='relu')(X)\n",
    "    X = Dropout(0.2)(X)\n",
    "    output = Dense(units=n_values, activation='linear')(X)\n",
    "    \n",
    "    model = Model(inputs=X_input, outputs=output)\n",
    "    \n",
    "    return model"
   ]
  },
  {
   "cell_type": "code",
   "execution_count": 955,
   "id": "voluntary-hours",
   "metadata": {},
   "outputs": [],
   "source": [
    "def model5_v1():\n",
    "    \n",
    "    \"\"\"\n",
    "    This model is based on model v4.1 but extends the input to 5 inputs and 5 outputs. Designed with a larger dataset\n",
    "    in mind and additional computation power.\n",
    "    \"\"\"\n",
    "    \n",
    "    X_input = Input(shape=(T_x, n_inputs))\n",
    "    X = LSTM(units=128, return_sequences=True)(X_input)\n",
    "    X = TimeDistributed(Dense(units=256))(X)\n",
    "    X = LSTM(units=256, return_sequences=True)(X)\n",
    "    X = TimeDistributed(Dense(units=256))(X)\n",
    "    X = LSTM(units=128)(X)\n",
    "    X = Dropout(0.3)(X)\n",
    "    X = Dense(units=128)(X)\n",
    "    output = Dense(units=n_values)(X)\n",
    "    \n",
    "    model = Model(inputs=X_input, outputs=output)\n",
    "    \n",
    "    return model"
   ]
  },
  {
   "cell_type": "code",
   "execution_count": 956,
   "id": "entire-begin",
   "metadata": {
    "tags": []
   },
   "outputs": [],
   "source": [
    "def model5():\n",
    "    \n",
    "    \"\"\"\n",
    "    This model is based on model v4.1 but extends the input to 5 inputs and 5 outputs. Designed with a larger dataset\n",
    "    in mind and additional computation power.\n",
    "    \"\"\"\n",
    "    \n",
    "    X_input = Input(shape=(T_x, n_inputs))\n",
    "    X = LSTM(units=128, return_sequences=True)(X_input)\n",
    "    X = TimeDistributed(Dense(units=256))(X)\n",
    "    X = LSTM(units=128)(X)\n",
    "    X = Dropout(0.2)(X)\n",
    "    X = Dense(units=128)(X)\n",
    "    output = Dense(units=n_values)(X)\n",
    "    \n",
    "    model = Model(inputs=X_input, outputs=output)\n",
    "    \n",
    "    return model"
   ]
  },
  {
   "cell_type": "code",
   "execution_count": 957,
   "id": "critical-fiber",
   "metadata": {
    "jupyter": {
     "source_hidden": true
    },
    "tags": []
   },
   "outputs": [],
   "source": [
    "# consider using a data generator, see https://stanford.edu/~shervine/blog/keras-how-to-generate-data-on-the-fly\n",
    "\n",
    "class DataGenerator(Sequence):\n",
    "    'Generates data for Keras'\n",
    "    def __init__(self, list_IDs, labels, batch_size=32, dim=(32,32,32), n_channels=1,\n",
    "                 n_classes=10, shuffle=True):\n",
    "        'Initialization'\n",
    "        self.dim = dim\n",
    "        self.batch_size = batch_size\n",
    "        self.labels = labels\n",
    "        self.list_IDs = list_IDs\n",
    "        self.n_channels = n_channels\n",
    "        self.n_classes = n_classes\n",
    "        self.shuffle = shuffle\n",
    "        self.on_epoch_end()\n",
    "\n",
    "    def __len__(self):\n",
    "        'Denotes the number of batches per epoch'\n",
    "        return int(np.floor(len(self.list_IDs) / self.batch_size))\n",
    "\n",
    "    def __getitem__(self, index):\n",
    "        'Generate one batch of data'\n",
    "        # Generate indexes of the batch\n",
    "        indexes = self.indexes[index*self.batch_size:(index+1)*self.batch_size]\n",
    "\n",
    "        # Find list of IDs\n",
    "        list_IDs_temp = [self.list_IDs[k] for k in indexes]\n",
    "\n",
    "        # Generate data\n",
    "        X, y = self.__data_generation(list_IDs_temp)\n",
    "\n",
    "        return X, y\n",
    "\n",
    "    def on_epoch_end(self):\n",
    "        'Updates indexes after each epoch'\n",
    "        self.indexes = np.arange(len(self.list_IDs))\n",
    "        if self.shuffle == True:\n",
    "            np.random.shuffle(self.indexes)\n",
    "\n",
    "    def __data_generation(self, list_IDs_temp):\n",
    "        'Generates data containing batch_size samples' # X : (n_samples, *dim, n_channels)\n",
    "        # Initialization\n",
    "        X = np.empty((self.batch_size, *self.dim, self.n_channels))\n",
    "        y = np.empty((self.batch_size), dtype=int)\n",
    "\n",
    "        # Generate data\n",
    "        for i, ID in enumerate(list_IDs_temp):\n",
    "            # Store sample\n",
    "            X[i,] = np.load('data/' + ID + '.npy')\n",
    "\n",
    "            # Store class\n",
    "            y[i] = self.labels[ID]\n",
    "\n",
    "        return X, keras.utils.to_categorical(y, num_classes=self.n_classes)"
   ]
  },
  {
   "cell_type": "code",
   "execution_count": 960,
   "id": "applied-bottle",
   "metadata": {
    "tags": []
   },
   "outputs": [],
   "source": [
    "model = model5_v1_1()\n",
    "model.compile(optimizer='adam', loss=custom_loss_function(loss='mse', weights=[1,0,0,0,0]), metrics=['mape']) # consider loss='msle' (mean squared logarithmic error, https://keras.io/api/losses/regression_losses/#meansquaredlogarithmicerror-class), or log during preprocessing (see https://stats.stackexchange.com/questions/213897/best-way-to-optimize-mape)"
   ]
  },
  {
   "cell_type": "code",
   "execution_count": 961,
   "id": "absent-margin",
   "metadata": {
    "tags": []
   },
   "outputs": [
    {
     "name": "stdout",
     "output_type": "stream",
     "text": [
      "Train on 654 samples\n",
      "Epoch 1/100\n",
      "654/654 [==============================] - 1s 2ms/sample - loss: 6.9854 - mape: 140.5033\n",
      "Epoch 2/100\n",
      "654/654 [==============================] - 0s 372us/sample - loss: 2.8310 - mape: 129.1189\n",
      "Epoch 3/100\n",
      "654/654 [==============================] - 0s 373us/sample - loss: 2.3565 - mape: 123.2891\n",
      "Epoch 4/100\n",
      "654/654 [==============================] - 0s 371us/sample - loss: 2.2752 - mape: 117.1025\n",
      "Epoch 5/100\n",
      "654/654 [==============================] - 0s 368us/sample - loss: 2.1696 - mape: 109.1633\n",
      "Epoch 6/100\n",
      "654/654 [==============================] - 0s 365us/sample - loss: 2.1897 - mape: 105.2793\n",
      "Epoch 7/100\n",
      "654/654 [==============================] - 0s 392us/sample - loss: 1.9024 - mape: 107.1816\n",
      "Epoch 8/100\n",
      "654/654 [==============================] - 0s 391us/sample - loss: 2.2069 - mape: 112.1462 - loss: 2.3254 - mape: 113.\n",
      "Epoch 9/100\n",
      "654/654 [==============================] - 0s 380us/sample - loss: 2.0923 - mape: 107.7915\n",
      "Epoch 10/100\n",
      "654/654 [==============================] - 0s 390us/sample - loss: 1.8976 - mape: 108.9321\n",
      "Epoch 11/100\n",
      "654/654 [==============================] - 0s 388us/sample - loss: 1.8434 - mape: 94.8187\n",
      "Epoch 12/100\n",
      "654/654 [==============================] - 0s 368us/sample - loss: 1.7721 - mape: 89.4193\n",
      "Epoch 13/100\n",
      "654/654 [==============================] - 0s 370us/sample - loss: 1.7067 - mape: 95.1046\n",
      "Epoch 14/100\n",
      "654/654 [==============================] - 0s 372us/sample - loss: 1.9142 - mape: 86.7051\n",
      "Epoch 15/100\n",
      "654/654 [==============================] - 0s 368us/sample - loss: 1.8241 - mape: 91.3171\n",
      "Epoch 16/100\n",
      "654/654 [==============================] - 0s 369us/sample - loss: 1.8672 - mape: 94.0567\n",
      "Epoch 17/100\n",
      "654/654 [==============================] - 0s 378us/sample - loss: 1.7676 - mape: 91.6682\n",
      "Epoch 18/100\n",
      "654/654 [==============================] - 0s 373us/sample - loss: 1.7384 - mape: 96.2361\n",
      "Epoch 19/100\n",
      "654/654 [==============================] - 0s 371us/sample - loss: 1.8961 - mape: 95.7019\n",
      "Epoch 20/100\n",
      "654/654 [==============================] - 0s 371us/sample - loss: 1.9609 - mape: 95.5943\n",
      "Epoch 21/100\n",
      "654/654 [==============================] - 0s 355us/sample - loss: 1.8462 - mape: 92.4890\n",
      "Epoch 22/100\n",
      "654/654 [==============================] - 0s 363us/sample - loss: 1.8946 - mape: 90.7782\n",
      "Epoch 23/100\n",
      "654/654 [==============================] - 0s 367us/sample - loss: 1.7737 - mape: 96.2718\n",
      "Epoch 24/100\n",
      "654/654 [==============================] - 0s 397us/sample - loss: 1.8622 - mape: 96.2386\n",
      "Epoch 25/100\n",
      "654/654 [==============================] - 0s 382us/sample - loss: 1.8234 - mape: 94.9789\n",
      "Epoch 26/100\n",
      "654/654 [==============================] - 0s 385us/sample - loss: 1.7025 - mape: 97.1608\n",
      "Epoch 27/100\n",
      "654/654 [==============================] - 0s 391us/sample - loss: 1.8738 - mape: 105.3875\n",
      "Epoch 28/100\n",
      "654/654 [==============================] - 0s 396us/sample - loss: 1.8559 - mape: 100.7561\n",
      "Epoch 29/100\n",
      "654/654 [==============================] - 0s 387us/sample - loss: 1.6161 - mape: 97.3324\n",
      "Epoch 30/100\n",
      "654/654 [==============================] - 0s 374us/sample - loss: 1.7072 - mape: 92.3854\n",
      "Epoch 31/100\n",
      "654/654 [==============================] - 0s 368us/sample - loss: 1.8091 - mape: 86.8104\n",
      "Epoch 32/100\n",
      "654/654 [==============================] - 0s 366us/sample - loss: 1.6478 - mape: 89.2666\n",
      "Epoch 33/100\n",
      "654/654 [==============================] - 0s 360us/sample - loss: 1.8869 - mape: 85.3366\n",
      "Epoch 34/100\n",
      "654/654 [==============================] - 0s 357us/sample - loss: 1.5980 - mape: 88.3779\n",
      "Epoch 35/100\n",
      "654/654 [==============================] - 0s 363us/sample - loss: 1.6632 - mape: 87.0110\n",
      "Epoch 36/100\n",
      "654/654 [==============================] - 0s 385us/sample - loss: 1.6280 - mape: 86.1628\n",
      "Epoch 37/100\n",
      "654/654 [==============================] - 0s 394us/sample - loss: 1.7926 - mape: 85.1640\n",
      "Epoch 38/100\n",
      "654/654 [==============================] - 0s 393us/sample - loss: 1.6489 - mape: 86.7675\n",
      "Epoch 39/100\n",
      "654/654 [==============================] - 0s 391us/sample - loss: 1.6097 - mape: 89.2514\n",
      "Epoch 40/100\n",
      "654/654 [==============================] - 0s 369us/sample - loss: 1.6906 - mape: 92.8063\n",
      "Epoch 41/100\n",
      "654/654 [==============================] - 0s 369us/sample - loss: 1.7715 - mape: 94.6448\n",
      "Epoch 42/100\n",
      "654/654 [==============================] - 0s 367us/sample - loss: 1.6693 - mape: 91.3366\n",
      "Epoch 43/100\n",
      "654/654 [==============================] - 0s 359us/sample - loss: 1.6240 - mape: 88.9128\n",
      "Epoch 44/100\n",
      "654/654 [==============================] - 0s 362us/sample - loss: 1.6990 - mape: 90.5679\n",
      "Epoch 45/100\n",
      "654/654 [==============================] - 0s 390us/sample - loss: 1.5215 - mape: 92.7428\n",
      "Epoch 46/100\n",
      "654/654 [==============================] - 0s 385us/sample - loss: 1.5392 - mape: 95.6497\n",
      "Epoch 47/100\n",
      "654/654 [==============================] - 0s 401us/sample - loss: 1.5792 - mape: 94.2453\n",
      "Epoch 48/100\n",
      "654/654 [==============================] - 0s 388us/sample - loss: 1.6943 - mape: 93.7719\n",
      "Epoch 49/100\n",
      "654/654 [==============================] - 0s 386us/sample - loss: 1.4639 - mape: 99.5335\n",
      "Epoch 50/100\n",
      "654/654 [==============================] - 0s 362us/sample - loss: 1.5756 - mape: 98.2221\n",
      "Epoch 51/100\n",
      "654/654 [==============================] - 0s 371us/sample - loss: 1.6415 - mape: 97.3087\n",
      "Epoch 52/100\n",
      "654/654 [==============================] - 0s 363us/sample - loss: 1.6493 - mape: 95.7407\n",
      "Epoch 53/100\n",
      "654/654 [==============================] - 0s 362us/sample - loss: 1.4984 - mape: 92.9112\n",
      "Epoch 54/100\n",
      "654/654 [==============================] - 0s 369us/sample - loss: 1.4941 - mape: 93.4907\n",
      "Epoch 55/100\n",
      "654/654 [==============================] - 0s 363us/sample - loss: 1.4960 - mape: 97.9637\n",
      "Epoch 56/100\n",
      "654/654 [==============================] - 0s 381us/sample - loss: 1.7917 - mape: 104.5737\n",
      "Epoch 57/100\n",
      "654/654 [==============================] - 0s 355us/sample - loss: 1.6375 - mape: 105.2195\n",
      "Epoch 58/100\n",
      "654/654 [==============================] - 0s 380us/sample - loss: 1.6747 - mape: 103.0267\n",
      "Epoch 59/100\n",
      "654/654 [==============================] - 0s 391us/sample - loss: 1.4711 - mape: 104.1586\n",
      "Epoch 60/100\n",
      "654/654 [==============================] - 0s 407us/sample - loss: 1.6291 - mape: 103.0416\n",
      "Epoch 61/100\n",
      "654/654 [==============================] - 0s 386us/sample - loss: 1.5884 - mape: 101.8616\n",
      "Epoch 62/100\n",
      "654/654 [==============================] - 0s 396us/sample - loss: 1.7044 - mape: 101.0697\n",
      "Epoch 63/100\n",
      "654/654 [==============================] - ETA: 0s - loss: 1.7357 - mape: 102.73 - 0s 394us/sample - loss: 1.6372 - mape: 102.0123\n",
      "Epoch 64/100\n",
      "654/654 [==============================] - 0s 375us/sample - loss: 1.6592 - mape: 97.1784\n",
      "Epoch 65/100\n",
      "654/654 [==============================] - 0s 393us/sample - loss: 1.5219 - mape: 98.3055\n",
      "Epoch 66/100\n",
      "654/654 [==============================] - 0s 393us/sample - loss: 1.4881 - mape: 100.8150\n",
      "Epoch 67/100\n",
      "654/654 [==============================] - 0s 388us/sample - loss: 1.5497 - mape: 98.8022\n",
      "Epoch 68/100\n",
      "654/654 [==============================] - 0s 402us/sample - loss: 1.5571 - mape: 97.3082\n",
      "Epoch 69/100\n",
      "654/654 [==============================] - 0s 395us/sample - loss: 1.6047 - mape: 102.7614\n",
      "Epoch 70/100\n",
      "654/654 [==============================] - 0s 386us/sample - loss: 1.6734 - mape: 103.4771\n",
      "Epoch 71/100\n",
      "654/654 [==============================] - 0s 388us/sample - loss: 1.5862 - mape: 103.6244\n",
      "Epoch 72/100\n",
      "654/654 [==============================] - 0s 376us/sample - loss: 1.5783 - mape: 102.9925 - loss: 1.2082 - mape: \n",
      "Epoch 73/100\n",
      "654/654 [==============================] - 0s 366us/sample - loss: 1.5347 - mape: 101.6105\n",
      "Epoch 74/100\n",
      "654/654 [==============================] - 0s 374us/sample - loss: 1.4378 - mape: 102.3506\n",
      "Epoch 75/100\n",
      "654/654 [==============================] - 0s 371us/sample - loss: 1.4412 - mape: 103.3427\n",
      "Epoch 76/100\n",
      "654/654 [==============================] - 0s 379us/sample - loss: 1.6547 - mape: 101.6959\n",
      "Epoch 77/100\n",
      "654/654 [==============================] - 0s 381us/sample - loss: 1.5449 - mape: 100.8948\n",
      "Epoch 78/100\n",
      "654/654 [==============================] - 0s 378us/sample - loss: 1.5495 - mape: 101.0129\n",
      "Epoch 79/100\n",
      "654/654 [==============================] - 0s 364us/sample - loss: 1.4482 - mape: 103.1943\n",
      "Epoch 80/100\n",
      "654/654 [==============================] - 0s 375us/sample - loss: 1.7306 - mape: 102.3627\n",
      "Epoch 81/100\n",
      "654/654 [==============================] - 0s 363us/sample - loss: 1.5208 - mape: 99.3309\n",
      "Epoch 82/100\n",
      "654/654 [==============================] - 0s 366us/sample - loss: 1.4580 - mape: 99.0422\n",
      "Epoch 83/100\n",
      "654/654 [==============================] - 0s 347us/sample - loss: 1.4361 - mape: 99.4207\n",
      "Epoch 84/100\n",
      "654/654 [==============================] - 0s 372us/sample - loss: 1.6017 - mape: 101.6005\n",
      "Epoch 85/100\n",
      "654/654 [==============================] - 0s 371us/sample - loss: 1.5210 - mape: 101.3205\n",
      "Epoch 86/100\n",
      "654/654 [==============================] - 0s 377us/sample - loss: 1.4961 - mape: 100.3648\n",
      "Epoch 87/100\n",
      "654/654 [==============================] - 0s 371us/sample - loss: 1.4082 - mape: 98.5613\n",
      "Epoch 88/100\n",
      "654/654 [==============================] - 0s 371us/sample - loss: 1.5054 - mape: 99.1694\n",
      "Epoch 89/100\n",
      "654/654 [==============================] - 0s 366us/sample - loss: 1.5739 - mape: 99.3342\n",
      "Epoch 90/100\n",
      "654/654 [==============================] - 0s 366us/sample - loss: 1.4382 - mape: 98.0884\n",
      "Epoch 91/100\n",
      "654/654 [==============================] - 0s 379us/sample - loss: 1.5455 - mape: 97.1986\n",
      "Epoch 92/100\n",
      "654/654 [==============================] - 0s 363us/sample - loss: 1.5165 - mape: 95.2429\n",
      "Epoch 93/100\n",
      "654/654 [==============================] - 0s 365us/sample - loss: 1.4331 - mape: 96.8739\n",
      "Epoch 94/100\n",
      "654/654 [==============================] - 0s 379us/sample - loss: 1.4603 - mape: 96.8071\n",
      "Epoch 95/100\n",
      "654/654 [==============================] - 0s 370us/sample - loss: 1.4374 - mape: 100.7118\n",
      "Epoch 96/100\n",
      "654/654 [==============================] - 0s 368us/sample - loss: 1.4345 - mape: 105.2867\n",
      "Epoch 97/100\n",
      "654/654 [==============================] - 0s 385us/sample - loss: 1.6516 - mape: 107.6022\n",
      "Epoch 98/100\n",
      "654/654 [==============================] - 0s 374us/sample - loss: 1.3746 - mape: 104.2236\n",
      "Epoch 99/100\n",
      "654/654 [==============================] - 0s 370us/sample - loss: 1.5224 - mape: 103.5968\n",
      "Epoch 100/100\n",
      "654/654 [==============================] - 0s 367us/sample - loss: 1.4331 - mape: 104.0492\n"
     ]
    },
    {
     "data": {
      "text/plain": [
       "<tensorflow.python.keras.callbacks.History at 0x7fdfb43d4d50>"
      ]
     },
     "execution_count": 961,
     "metadata": {},
     "output_type": "execute_result"
    }
   ],
   "source": [
    "model.fit(X, Y, batch_size=16, epochs=100)"
   ]
  },
  {
   "cell_type": "code",
   "execution_count": 891,
   "id": "particular-seller",
   "metadata": {},
   "outputs": [],
   "source": [
    "notify(\"Model\", \"Model training complete\")"
   ]
  },
  {
   "cell_type": "code",
   "execution_count": 892,
   "id": "minus-crazy",
   "metadata": {},
   "outputs": [],
   "source": [
    "# model.save('saved/weights_m2_UAL.h5', overwrite=False)"
   ]
  },
  {
   "cell_type": "markdown",
   "id": "compatible-building",
   "metadata": {},
   "source": [
    "#### Output and Prediction"
   ]
  },
  {
   "cell_type": "code",
   "execution_count": 898,
   "id": "worth-nation",
   "metadata": {
    "tags": []
   },
   "outputs": [
    {
     "data": {
      "text/plain": [
       "[10.644340474306626, 9.025341]"
      ]
     },
     "execution_count": 898,
     "metadata": {},
     "output_type": "execute_result"
    }
   ],
   "source": [
    "# X2 = full_data[indices[m:m+0],:-1,:]\n",
    "# Y2 = full_data[indices[m:m+0],-1:,:]\n",
    "# Y2 = Y2.reshape(Y2.shape[0], Y2.shape[2])\n",
    "model.evaluate(X, Y, verbose=0)"
   ]
  },
  {
   "cell_type": "code",
   "execution_count": 894,
   "id": "requested-diving",
   "metadata": {
    "tags": []
   },
   "outputs": [],
   "source": [
    "# X3 = full_data[indices[1000],:-1,:]\n",
    "# Y3 = full_data[indices[1000],-1:,:]\n",
    "# print(sc.inverse_transform(model.predict(X3.reshape(1, *X3.shape))))\n",
    "# print(sc.inverse_transform(X3))\n",
    "# print(sc.inverse_transform(Y3))"
   ]
  },
  {
   "cell_type": "code",
   "execution_count": 818,
   "id": "mounted-snapshot",
   "metadata": {},
   "outputs": [
    {
     "data": {
      "text/plain": [
       "[<matplotlib.lines.Line2D at 0x7fdfb68c0f90>]"
      ]
     },
     "execution_count": 818,
     "metadata": {},
     "output_type": "execute_result"
    },
    {
     "data": {
      "image/png": "[encoded data removed]",
      "text/plain": [
       "<Figure size 432x288 with 1 Axes>"
      ]
     },
     "metadata": {
      "needs_background": "light"
     },
     "output_type": "display_data"
    }
   ],
   "source": [
    "plt.plot(access_ticker(df_main, 'AAPL')['Market Cap'][0:1000])"
   ]
  },
  {
   "cell_type": "code",
   "execution_count": null,
   "id": "first-accent",
   "metadata": {
    "tags": []
   },
   "outputs": [],
   "source": [
    "n_backtest = 1500\n",
    "n_predictions = 500\n",
    "\n",
    "sample_stock = 'AAPL'\n",
    "sample_data = dataset[sample_stock].copy()\n",
    "rolling_input = sample_data[(-n_forward-n_trailing+1)-n_backtest:-n_backtest] # selects all timesteps necessary for n_backtest predictions to run, and then enough to continue in a cycle (i.e., n_trailing+n_forward-1)\n",
    "sample_output = []\n",
    "for i in range(n_predictions):\n",
    "    sample_input = np.array(rolling_input[:n_trailing]) # selects the first n_trailing timesteps to make the next prediction\n",
    "    sample_input = sample_input.reshape(1, *sample_input.shape) # reshape into model input format\n",
    "    sample_output.append(model.predict(sample_input).ravel())\n",
    "    rolling_input[:-1] = rolling_input[1:] # shift one to the left\n",
    "    rolling_input[-1:] = sample_output[i]\n",
    "#     print(sample_input[0,0], \", \", sample_output[i])\n",
    "sample_output = np.array(sample_output)"
   ]
  },
  {
   "cell_type": "code",
   "execution_count": null,
   "id": "detailed-hobby",
   "metadata": {},
   "outputs": [],
   "source": [
    "sample_output[0]"
   ]
  },
  {
   "cell_type": "code",
   "execution_count": null,
   "id": "favorite-patent",
   "metadata": {},
   "outputs": [],
   "source": [
    "plt.plot(sample_output[:,0])"
   ]
  },
  {
   "cell_type": "code",
   "execution_count": null,
   "id": "occasional-kansas",
   "metadata": {},
   "outputs": [],
   "source": [
    "val = 0\n",
    "output = np.append((dataset[sample_stock][:-n_backtest-1])[:,val], sample_output[:,val])\n",
    "sample_Y = (dataset[sample_stock])[:,val]\n",
    "\n",
    "max_range_true = len(dataset[sample_stock])-n_backtest-1\n",
    "max_range_pred = max_range_true+n_predictions\n",
    "\n",
    "plt.plot(sample_Y)\n",
    "plt.plot(np.arange(max_range_true), output[np.arange(max_range_true)]) # plot all actual values\n",
    "plt.plot(np.arange(max_range_true-1, max_range_pred), output[np.arange(max_range_true-1, max_range_pred)]) # plot all predicted values in different color"
   ]
  },
  {
   "cell_type": "code",
   "execution_count": null,
   "id": "satisfactory-focus",
   "metadata": {},
   "outputs": [],
   "source": [
    "sample_data = np.array(generate_sequences(dataset[sample_stock]))[:,:-1]\n",
    "sample_output = model.predict(sample_data)"
   ]
  },
  {
   "cell_type": "code",
   "execution_count": null,
   "id": "occupied-dollar",
   "metadata": {},
   "outputs": [],
   "source": [
    "val = 0\n",
    "output = np.append((dataset[sample_stock][:n_trailing+n_forward])[:,val], sample_output[:,val])\n",
    "sample_Y = (dataset[sample_stock])[:,val]\n",
    "\n",
    "plt.plot(sample_Y)\n",
    "plt.plot(output)"
   ]
  },
  {
   "cell_type": "code",
   "execution_count": null,
   "id": "embedded-windsor",
   "metadata": {},
   "outputs": [],
   "source": [
    "notify(\"Model\", \"Model prediction complete\")"
   ]
  },
  {
   "cell_type": "code",
   "execution_count": null,
   "id": "inside-number",
   "metadata": {},
   "outputs": [],
   "source": [
    "# plt.plot(access_ticker(df_prices, 'AAPL')['Market Cap'])\n",
    "plt.plot(dataset[sample_stock][:,0])"
   ]
  }
 ],
 "metadata": {
  "kernelspec": {
   "display_name": "Python 3",
   "language": "python",
   "name": "python3"
  },
  "language_info": {
   "codemirror_mode": {
    "name": "ipython",
    "version": 3
   },
   "file_extension": ".py",
   "mimetype": "text/x-python",
   "name": "python",
   "nbconvert_exporter": "python",
   "pygments_lexer": "ipython3",
   "version": "3.7.10"
  },
  "toc-autonumbering": false,
  "toc-showcode": false,
  "toc-showmarkdowntxt": false,
  "toc-showtags": false
 },
 "nbformat": 4,
 "nbformat_minor": 5
}
