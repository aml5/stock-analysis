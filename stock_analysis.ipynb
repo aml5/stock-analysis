{
 "cells": [
  {
   "cell_type": "markdown",
   "id": "balanced-biodiversity",
   "metadata": {},
   "source": [
    "### RNN Model for Stock Analysis\n",
    "\n",
    "1. import data from csv datsets\n",
    "    - prices\n",
    "    - sector and industry \n",
    "    - revenue\n",
    "    - profit\n",
    "2. compile into timestep sequence\n",
    "3. create lagged y-value set\n",
    "4. create model\n",
    "    - lstm cell\n",
    "    - dense layer\n",
    "    - consider another lstm and dense layer\n",
    "    - output\n",
    "5. run model based on following inputs for each time step\n",
    "    - market cap\n",
    "    - industry (one-hot vector)\n",
    "    - sector (one-hot vector)\n",
    "    - revenue\n",
    "    - profit\n",
    "6. predict\n",
    "    - run model up until the known value is done\n",
    "    - iterate through following values feeding previous output and hidden state"
   ]
  },
  {
   "cell_type": "markdown",
   "id": "written-metropolitan",
   "metadata": {},
   "source": [
    "#### Initialize definitions"
   ]
  },
  {
   "cell_type": "code",
   "execution_count": 1,
   "id": "actual-nylon",
   "metadata": {
    "scrolled": true,
    "tags": []
   },
   "outputs": [],
   "source": [
    "import numpy as np\n",
    "import pandas as pd\n",
    "import os\n",
    "import random\n",
    "import matplotlib.pyplot as plt\n",
    "from sklearn.preprocessing import MinMaxScaler, StandardScaler\n",
    "\n",
    "import tensorflow as tf\n",
    "\n",
    "# using tensorflow.keras may be necessary, keras by itself may not work\n",
    "from tensorflow import keras\n",
    "from tensorflow.keras.layers import Bidirectional, Concatenate, Permute, Dot, Input, LSTM, Multiply, TimeDistributed, Reshape, Dropout\n",
    "from tensorflow.keras.layers import RepeatVector, Dense, Activation, Lambda, LeakyReLU\n",
    "from tensorflow.keras.optimizers import Adam\n",
    "from tensorflow.keras.losses import MeanSquaredError, MeanAbsolutePercentageError\n",
    "from tensorflow.keras.models import load_model, Model\n",
    "from tensorflow.keras.utils import Sequence\n",
    "import tensorflow.keras.backend as K"
   ]
  },
  {
   "cell_type": "code",
   "execution_count": 2,
   "id": "guided-trash",
   "metadata": {
    "scrolled": true,
    "tags": []
   },
   "outputs": [],
   "source": [
    "# define constants and filepaths\n",
    "\n",
    "shareprices_path = 'raw/us-shareprices-daily.csv'\n",
    "income_path = 'raw/us-income-ttm.csv'\n",
    "# shareprices_path = 'us-shareprices-latest.csv' # latest data only, helps shorten load time while developing\n",
    "\n",
    "# MAX_TS = 9000 # number of total timesteps possible for a stock\n",
    "EPSILON = np.finfo(np.float64).eps # small positive float value\n",
    "T_x = 5 # number of timesteps inputs\n",
    "T_y = 1 # number of timestep outputs, T_x = T_y or 1, depending on the architecture\n",
    "# n_a1 = 256 # number of hidden activation units in first LSTM layer\n",
    "# n_a2 = 256 # number of hidden activation units in second LSTM layer\n",
    "n_inputs = 5 # number of input variables per timestep\n",
    "n_values = n_inputs # number of output predicted variables, may be same as n_inputs\n",
    "n_trailing = T_x # number of trailing timesteps used for prediction\n",
    "n_forward = 360 # number of timesteps in advance for forward prediction\n",
    "m = 10000 # number of training examples\n",
    "\n",
    "mm_sc = MinMaxScaler(feature_range=(EPSILON, 1)) # range does not include 0 because cannot log 0, see https://stackoverflow.com/questions/49330195/how-to-use-inverse-transform-in-minmaxscaler-for-a-column-in-a-matrix for more on MinMaxScaler\n",
    "mm_sc2 = MinMaxScaler(feature_range=(EPSILON*1e8, 1)) # range starts at small but close to 0 value\n",
    "std_sc = StandardScaler()"
   ]
  },
  {
   "cell_type": "markdown",
   "id": "wrapped-season",
   "metadata": {},
   "source": [
    "#### Data Preparation\n",
    "\n",
    "1. Import all datasets using pandas\n",
    "2. Add market cap, revenue, profit, and yoy growth by quarter to dataset\n",
    "    - Make data repeat until following quarter\n",
    "3. Create a second dataset with sector of the company (tabled)\n",
    "4. Slice dataset into arrays of length T_x+1 and pair with sector"
   ]
  },
  {
   "cell_type": "code",
   "execution_count": 3,
   "id": "suspected-coast",
   "metadata": {
    "tags": []
   },
   "outputs": [],
   "source": [
    "def load_dataset(path, cols=None, delimiter=';'):\n",
    "    \n",
    "    \"\"\"\n",
    "    Loads a dataset from csv file into pandas dataframe.\n",
    "    \n",
    "    Parameters:\n",
    "    path -- filepath to csv\n",
    "    cols -- column labels to pass into reader, first label should be the date column label\n",
    "    delimiter -- delimiter of values, default semicolon based on project data\n",
    "    \n",
    "    Returns:\n",
    "    df -- dataframe with values from csv\n",
    "    \"\"\"\n",
    "    \n",
    "    df = pd.read_csv(path, delimiter=delimiter, usecols=cols)\n",
    "    df.index = pd.to_datetime(df.pop(cols[0])) # alternatively, df.index = pd.to_datetime(df[cols[0]]); df = df.drop(columns=[cols[0]])\n",
    "    df.index.name = 'Date' # renames column if date column originally has different name\n",
    "    \n",
    "    return df"
   ]
  },
  {
   "cell_type": "code",
   "execution_count": 4,
   "id": "located-prairie",
   "metadata": {
    "tags": []
   },
   "outputs": [],
   "source": [
    "def clean_data(df, na=False, zeros=None, min_freq=1):\n",
    "    \n",
    "    \"\"\"\n",
    "    Removes rows with incomplete data, either NaN or zero values, based on specified columns.\n",
    "    \n",
    "    Parameters:\n",
    "    df -- input dataframe\n",
    "    na -- labels of columns to consider when removing rows with NaN values, default of False removes no rows (False instead of None because None removes all rows)\n",
    "    zeros -- label of columns considered when removing rows with zero values, default of None removes no rows\n",
    "    min_freq -- minimum number of rows of a ticker to remain in dataset, default of 1 removes no rows\n",
    "    \n",
    "    Returns:\n",
    "    df -- dataframe with data cleaned\n",
    "    \"\"\"\n",
    "    \n",
    "    if na == 'all': na = df.columns[df.dtypes!='object'] # sets to columns with non-string dtypes\n",
    "    if zeros == 'all': zeros = df.columns[df.dtypes!='object']\n",
    "    \n",
    "    if not na is False: df = df.dropna(subset=na) # removes all rows with NaN in specified columns, df.dropna(subset=[na], inplace=True) also works if SettingWithCopyWarning appears\n",
    "    if not zeros is None: df = df[(df[zeros]!=0).all(axis=1)] # removes all rows with zero values in specified columns, see https://stackoverflow.com/a/22650162/6501621 and https://stackoverflow.com/questions/18172851/deleting-dataframe-row-in-pandas-based-on-column-value\n",
    "    df = df[df.groupby('Ticker')['Ticker'].transform(len) >= min_freq] # removes all rows of a stock if stock has less than min_freq entries, see https://stackoverflow.com/a/48514338/6501621\n",
    "    \n",
    "    return df"
   ]
  },
  {
   "cell_type": "code",
   "execution_count": 5,
   "id": "affected-organic",
   "metadata": {
    "tags": []
   },
   "outputs": [],
   "source": [
    "def add_derived_value(df, method, base_cols, deriv_cols, drop=False, group=None, periods=4):\n",
    "    \n",
    "    \"\"\"\n",
    "    Computes derived value based on method and parameters. Available derived values: percent change, multiplication.\n",
    "    \n",
    "    Parameters:\n",
    "    df -- input dataframe (required)\n",
    "    method -- computation to calculate derived values (required)\n",
    "    base_cols -- list of column labels of base values used to compute derived values (required)\n",
    "    deriv_cols -- list of column label(s) of derived values to add to dataframe (required)\n",
    "    drop -- column label(s) to drop after computation (optional)\n",
    "    group -- column label of grouping if necessary for calculation (optional)\n",
    "    period -- number of periods between percent change calculation (optional)\n",
    "    \n",
    "    Returns:\n",
    "    df -- dataframe with additional column(s) of derived calculations\n",
    "    \"\"\"\n",
    "    \n",
    "    # computes percentage change of base columns and adds to dataframe in new columns\n",
    "    \n",
    "    if method == 'pctchg':\n",
    "        growth = lambda x: x.pct_change(periods=periods).fillna(method='backfill') # defines function to compute percent change and backfills missing data, replaced .backfill() with .fillna(method='backfill') for python version compatibility\n",
    "        for base_col, deriv_col in zip(base_cols, deriv_cols): # loops through if applicable to multiple columns\n",
    "            growth_col = df.groupby(group)[base_col].apply(growth) # applies function by group\n",
    "            df[deriv_col] = growth_col # assigns derived values to specified column name\n",
    "        \n",
    "    # multiplies base columns together to create a new column\n",
    "    \n",
    "    elif method == 'multiply':\n",
    "        multiply = df[base_cols[0]] # initializes variable\n",
    "        for col in base_cols[1:]: multiply *= df[col] # loops through all other columns to multiply together into variable\n",
    "        df[deriv_cols] = multiply # assigns derived values to specified column name, only one column can be specified in deriv_cols\n",
    "        \n",
    "    if drop: df = df.drop(columns=base_cols) # delete base columns after calculating derived values\n",
    "\n",
    "    return df"
   ]
  },
  {
   "cell_type": "code",
   "execution_count": 6,
   "id": "detailed-ambassador",
   "metadata": {
    "tags": []
   },
   "outputs": [],
   "source": [
    "def access_ticker(df, ticker):\n",
    "    \n",
    "    \"\"\"\n",
    "    Returns the rows of a given ticker.\n",
    "    \n",
    "    Parameters:\n",
    "    df -- input dataframe\n",
    "    ticker -- stock ticker to retrieve values of\n",
    "    \n",
    "    Returns:\n",
    "    df -- dataframe of rows of selected ticker\n",
    "    \"\"\"\n",
    "    \n",
    "    if len(df.index.names) <= 1: # access from single index\n",
    "        return df[df['Ticker']==ticker]\n",
    "    else: # access from MultiIndex\n",
    "        return df.loc[ticker]"
   ]
  },
  {
   "cell_type": "code",
   "execution_count": 7,
   "id": "ambient-flash",
   "metadata": {
    "tags": []
   },
   "outputs": [],
   "source": [
    "def rescale_data_by_group(df, group, freq='D'):\n",
    "    \n",
    "    \"\"\"\n",
    "    Rescales data from original frequency to specified frequency and forward fills empty rows if upscaling.\n",
    "    \n",
    "    Parameters:\n",
    "    df -- input dataframe to rescale\n",
    "    group -- column of grouping\n",
    "    frequency -- frequency of data for each group\n",
    "    \"\"\"\n",
    "    \n",
    "    rescale = lambda x: x.asfreq(freq).fillna(method='pad') # defines function to rescale data to specified frequency, replaced .pad() with .fillna(method='pad') for python compatibility\n",
    "    df = df.groupby(group).apply(rescale) # applies function by group\n",
    "    df.pop(group) # df.drop provides same functionality for this use case\n",
    "    df = df.reset_index(level=0)\n",
    "    \n",
    "    return df"
   ]
  },
  {
   "cell_type": "code",
   "execution_count": 8,
   "id": "necessary-victory",
   "metadata": {
    "tags": []
   },
   "outputs": [],
   "source": [
    "def generate_sequences(data, n_trailing=n_trailing, n_forward=n_forward):\n",
    "    \n",
    "    \"\"\"\n",
    "    Generates all sequences of input array given number of timesteps and length of forward projection.\n",
    "    \n",
    "    Parameters:\n",
    "    data -- input array\n",
    "    n_trailing -- number of timesteps used in sequence\n",
    "    n_forward -- projection number of timesteps in advance\n",
    "    \n",
    "    Return:\n",
    "    sequences -- list of sequences generated from array\n",
    "    \"\"\"\n",
    "    \n",
    "    sequences = []\n",
    "    \n",
    "    for i in range(len(data)-n_trailing-n_forward+1):\n",
    "        sequences.append(np.append(data[i:i+n_trailing], [data[i+n_trailing+n_forward-1]], axis=0)) # appends the n_trailing timesteps and timestep n_forward from most recent timestep\n",
    "    \n",
    "    return sequences"
   ]
  },
  {
   "cell_type": "markdown",
   "id": "modified-elevation",
   "metadata": {},
   "source": [
    "#### Loss Functions"
   ]
  },
  {
   "cell_type": "code",
   "execution_count": 9,
   "id": "demanding-breach",
   "metadata": {
    "tags": []
   },
   "outputs": [],
   "source": [
    "def custom_loss_function(loss, weights):\n",
    "    \n",
    "    \"\"\"\n",
    "    Computes a loss function with weighting on specific outputs.\n",
    "    Based on https://keras.io/api/losses/\n",
    "    https://towardsdatascience.com/how-to-create-a-custom-loss-function-keras-3a89156ec69b\n",
    "    https://medium.com/@Bloomore/how-to-write-a-custom-loss-function-with-additional-arguments-in-keras-5f193929f7a0\n",
    "    \n",
    "    Parameters:\n",
    "    loss -- loss options (mean squared error, mean absolute percentage error)\n",
    "    weights -- list of loss weighting of output ['Market Cap', 'Revenue', 'Gross Profit', 'Net Income', 'YoY Revenue']\n",
    "    \n",
    "    Returns:\n",
    "    custom_loss -- defines a custom error with loss weighting\n",
    "    \"\"\"\n",
    "    \n",
    "    num_weights = np.sum(np.ones(len(weights))) # workaround because it seems multiplying by len(weights) directly doesn't work\n",
    "    \n",
    "    if loss == 'mse':\n",
    "        def custom_loss(y_true, y_pred):\n",
    "            loss = K.square(y_true - y_pred) # square before weighting losses, otherwise it gets messy\n",
    "            weighted_loss = loss * weights / np.sum(weights) * num_weights # the Multiplymultiply by weights / sum of weights * num weights intuitively makes sense; the sum of (weights / sum of weights) = 1, so to recalibrate based on  original neutral weighting, multiply by length of weights (recalibration is unnecessary but nice)\n",
    "            return K.mean(weighted_loss)\n",
    "        \n",
    "    elif loss == 'mape':\n",
    "        def custom_loss(y_true, y_pred):\n",
    "            diff = y_true - y_pred\n",
    "            loss = 100 * K.abs(diff / y_true) # abs includes y_true because y_true may have negative values\n",
    "            weighted_loss = loss * weights / np.sum(weights) * num_weights\n",
    "            return K.mean(weighted_loss)\n",
    "    \n",
    "    return custom_loss"
   ]
  },
  {
   "cell_type": "markdown",
   "id": "suited-setting",
   "metadata": {},
   "source": [
    "#### Other Functions"
   ]
  },
  {
   "cell_type": "code",
   "execution_count": 10,
   "id": "worldwide-sapphire",
   "metadata": {
    "tags": []
   },
   "outputs": [],
   "source": [
    "def run_prediction(dataset, ticker, n_backtest, n_predictions, graph=True, col=0):\n",
    "    \n",
    "    \"\"\"\n",
    "    Generates continuous model output for a given stock based on specifications.\n",
    "    Utilizes rolling previous predictions to continue forward predictions.\n",
    "    \n",
    "    Parameters:\n",
    "    dataset -- input dataset\n",
    "    ticker -- ticker of stock to predict\n",
    "    n_backtest -- number of timesteps before most recent time to start predictions\n",
    "    n_predictions -- number of total predictions\n",
    "    graph -- boolean, whether or not to plot a graph\n",
    "    col -- column of output array to plot on graph\n",
    "    \n",
    "    Returns:\n",
    "    output -- array of timesteps from the negative n_backtest steps forward n_prediction steps\n",
    "    \"\"\"\n",
    "\n",
    "    data = dataset[ticker].copy()\n",
    "    rolling_input = data[(-n_forward-n_trailing+1)-n_backtest:-n_backtest] # selects all timesteps necessary for n_backtest predictions to run, and then enough to continue in a cycle (i.e., n_trailing+n_forward-1)\n",
    "    output = []\n",
    "    for i in range(n_predictions):\n",
    "        current_input = np.array(rolling_input[:n_trailing]) # selects the first n_trailing timesteps to make the next prediction\n",
    "        current_input = current_input.reshape(1, *current_input.shape) # reshape into model input format\n",
    "        output.append(model.predict(current_input).ravel())\n",
    "        rolling_input[:-1] = rolling_input[1:] # shift one to the left\n",
    "        rolling_input[-1:] = output[i]\n",
    "    output = np.array(output)\n",
    "    \n",
    "    if graph:\n",
    "        graph_output = np.append((dataset[ticker][:-n_backtest])[:, col], output[:, col]) # appends the true values and the predicted values\n",
    "        graph_Y = (dataset[ticker])[:, col] # all true values\n",
    "\n",
    "        max_range_true = len(dataset[ticker])-n_backtest # the furthest timestep designated for true values\n",
    "        max_range_pred = max_range_true+n_predictions # the furthest timestep designated for predicted values\n",
    "\n",
    "        plt.plot(graph_Y)\n",
    "        plt.plot(np.arange(max_range_true), graph_output[np.arange(max_range_true)]) # plot all actual values\n",
    "        plt.plot(np.arange(max_range_true-1, max_range_pred), graph_output[np.arange(max_range_true-1, max_range_pred)]) # plot all predicted values in different color\n",
    "    \n",
    "    return output"
   ]
  },
  {
   "cell_type": "code",
   "execution_count": 11,
   "id": "personal-handle",
   "metadata": {},
   "outputs": [],
   "source": [
    "def run_single_prediction(dataset, ticker, graph=True, col=0):\n",
    "    \n",
    "    \"\"\"\n",
    "    Generates model prediction one timestep at a time utilizing previous true values.\n",
    "    Does not utilize predictions for further predictions.\n",
    "    \n",
    "    Parameters:\n",
    "    dataset -- input dataset\n",
    "    ticker -- ticker of stock to predict\n",
    "    graph -- boolean, whether or not to plot a graph\n",
    "    col -- column of output array to plot on graph \n",
    "    \n",
    "    Returns:\n",
    "    output -- all predicted values\n",
    "    \"\"\"\n",
    "    \n",
    "    data = np.array(generate_sequences(dataset[ticker]))[:, :-1]\n",
    "    output = model.predict(data)\n",
    "    \n",
    "    if graph:\n",
    "        graph_output = np.append((dataset[ticker][:n_trailing+n_forward-1])[:, col], output[:, col])\n",
    "        Y = (dataset[ticker])[:, col]\n",
    "\n",
    "        max_range_true = n_trailing + n_forward - 1 # the minimum number of timesteps of true values before predicted values\n",
    "        max_range_pred = max_range_true + len(output) # maximum number of total timesteps, true and predicted\n",
    "\n",
    "        plt.plot(Y)\n",
    "        plt.plot(np.arange(max_range_true), graph_output[np.arange(max_range_true)]) # plot all actual values\n",
    "        plt.plot(np.arange(max_range_true-1, max_range_pred), graph_output[np.arange(max_range_true-1, max_range_pred)]) # plot all predicted values in different color\n",
    "    \n",
    "    return output"
   ]
  },
  {
   "cell_type": "code",
   "execution_count": 12,
   "id": "raising-adjustment",
   "metadata": {},
   "outputs": [],
   "source": [
    "def scale(data, method, sc, log=False, sc2=None):\n",
    "    \n",
    "    \"\"\"\n",
    "    Computes a scaled or standardized version of input data.\n",
    "    \n",
    "    Parameters:\n",
    "    data -- input data to be transformed\n",
    "    method -- scaler or mean average\n",
    "    sc -- scaler\n",
    "    log -- boolean, whether or not to log data\n",
    "    sc2 -- scaler 2\n",
    "    \n",
    "    Returns:\n",
    "    output -- data scaled to standardized form\n",
    "    sc -- scaler fit to data\n",
    "    sc2 -- scaler 2 fit to data (if applicable)\n",
    "    \"\"\"\n",
    "    \n",
    "    sc = sc.fit(data)\n",
    "    output = sc.transform(data)\n",
    "    \n",
    "    if not log is False:\n",
    "        output = np.log(output)\n",
    "        \n",
    "    if not sc2 is None:\n",
    "        sc2 = sc2.fit(output)\n",
    "        output = sc2.transform(output)\n",
    "        \n",
    "        return output, sc, sc2\n",
    "    \n",
    "    return output, sc"
   ]
  },
  {
   "cell_type": "code",
   "execution_count": 43,
   "id": "athletic-cursor",
   "metadata": {},
   "outputs": [],
   "source": [
    "def inv_scale(data, sc, log=False, sc2=None):\n",
    "    \n",
    "    \"\"\"\n",
    "    Computes the inverse scale of the input data to return to initial scale.\n",
    "    Inverse transforms and exponentiates data in reverse order to scale application.\n",
    "    \n",
    "    Parameters:\n",
    "    data -- input data to be transformed\n",
    "    sc -- MinMaxScale round 1\n",
    "    log -- boolean, whether or not data was logged in initial transformation\n",
    "    sc2 -- MinMaxScale round 2, if applicable\n",
    "    \n",
    "    Returns:\n",
    "    output -- data returned to original scale\n",
    "    \"\"\"\n",
    "    \n",
    "    output = data\n",
    "    if not sc2 is None: output = sc2.inverse_transform(output)\n",
    "    if not log is False: output = np.exp(output)\n",
    "    output = sc.inverse_transform(output)\n",
    "    \n",
    "    return output"
   ]
  },
  {
   "cell_type": "code",
   "execution_count": 14,
   "id": "demanding-genre",
   "metadata": {
    "jupyter": {
     "source_hidden": true
    },
    "tags": []
   },
   "outputs": [],
   "source": [
    "# consider using a data generator, see https://stanford.edu/~shervine/blog/keras-how-to-generate-data-on-the-fly\n",
    "\n",
    "class DataGenerator(Sequence):\n",
    "    'Generates data for Keras'\n",
    "    def __init__(self, list_IDs, labels, batch_size=32, dim=(32,32,32), n_channels=1,\n",
    "                 n_classes=10, shuffle=True):\n",
    "        'Initialization'\n",
    "        self.dim = dim\n",
    "        self.batch_size = batch_size\n",
    "        self.labels = labels\n",
    "        self.list_IDs = list_IDs\n",
    "        self.n_channels = n_channels\n",
    "        self.n_classes = n_classes\n",
    "        self.shuffle = shuffle\n",
    "        self.on_epoch_end()\n",
    "\n",
    "    def __len__(self):\n",
    "        'Denotes the number of batches per epoch'\n",
    "        return int(np.floor(len(self.list_IDs) / self.batch_size))\n",
    "\n",
    "    def __getitem__(self, index):\n",
    "        'Generate one batch of data'\n",
    "        # Generate indexes of the batch\n",
    "        indexes = self.indexes[index*self.batch_size:(index+1)*self.batch_size]\n",
    "\n",
    "        # Find list of IDs\n",
    "        list_IDs_temp = [self.list_IDs[k] for k in indexes]\n",
    "\n",
    "        # Generate data\n",
    "        X, y = self.__data_generation(list_IDs_temp)\n",
    "\n",
    "        return X, y\n",
    "\n",
    "    def on_epoch_end(self):\n",
    "        'Updates indexes after each epoch'\n",
    "        self.indexes = np.arange(len(self.list_IDs))\n",
    "        if self.shuffle == True:\n",
    "            np.random.shuffle(self.indexes)\n",
    "\n",
    "    def __data_generation(self, list_IDs_temp):\n",
    "        'Generates data containing batch_size samples' # X : (n_samples, *dim, n_channels)\n",
    "        # Initialization\n",
    "        X = np.empty((self.batch_size, *self.dim, self.n_channels))\n",
    "        y = np.empty((self.batch_size), dtype=int)\n",
    "\n",
    "        # Generate data\n",
    "        for i, ID in enumerate(list_IDs_temp):\n",
    "            # Store sample\n",
    "            X[i,] = np.load('data/' + ID + '.npy')\n",
    "\n",
    "            # Store class\n",
    "            y[i] = self.labels[ID]\n",
    "\n",
    "        return X, keras.utils.to_categorical(y, num_classes=self.n_classes)"
   ]
  },
  {
   "cell_type": "code",
   "execution_count": 15,
   "id": "accurate-skill",
   "metadata": {
    "tags": []
   },
   "outputs": [],
   "source": [
    "def notify(title, text=\"\"):\n",
    "    \n",
    "    \"\"\"\n",
    "    Displays a desktop notification with specified text.\n",
    "    \n",
    "    Parameters:\n",
    "    title -- title of notification to be displayed\n",
    "    text -- further details of notification\n",
    "    \n",
    "    Returns:\n",
    "    None\n",
    "    \"\"\"\n",
    "    \n",
    "    os.system(\"\"\"\n",
    "              osascript -e 'display notification \"{}\" with title \"{}\"'\n",
    "              \"\"\".format(text, title))"
   ]
  },
  {
   "cell_type": "markdown",
   "id": "welcome-business",
   "metadata": {},
   "source": [
    "#### Data Processing"
   ]
  },
  {
   "cell_type": "code",
   "execution_count": 16,
   "id": "specialized-configuration",
   "metadata": {
    "tags": []
   },
   "outputs": [],
   "source": [
    "# initialize income dataset\n",
    "\n",
    "cols = ['Publish Date', 'Ticker', 'Revenue', 'Gross Profit', 'Net Income']\n",
    "df_income = load_dataset(path=income_path, cols=cols)\n",
    "df_income = clean_data(df_income, na='all', zeros='all', min_freq=5) # df_income.dtypes!='object'] is essentially everything except strings, don't forget it is '!=', not '=='\n",
    "df_income = add_derived_value(df=df_income, method='pctchg', group='Ticker', base_cols=['Revenue'], deriv_cols=['YoY Revenue'], periods=4) # add YoY revenue column by calculating percent change\n",
    "df_income = rescale_data_by_group(df_income, group='Ticker', freq='D') # somehow turns 'Net Income' from int64 to float64?"
   ]
  },
  {
   "cell_type": "code",
   "execution_count": 17,
   "id": "genetic-assumption",
   "metadata": {
    "tags": []
   },
   "outputs": [],
   "source": [
    "# initialize prices dataset\n",
    "\n",
    "cols = ['Date', 'Ticker', 'Close', 'Shares Outstanding']\n",
    "df_prices = load_dataset(path=shareprices_path, cols=cols)\n",
    "df_prices = clean_data(df_prices, na='all', zeros='all')\n",
    "# df_prices = rescale_data_by_group(df_prices, group='Ticker', freq='W-FRI') # rescale to weekly data"
   ]
  },
  {
   "cell_type": "code",
   "execution_count": 18,
   "id": "effective-component",
   "metadata": {
    "tags": []
   },
   "outputs": [],
   "source": [
    "# compute marketcap and remove other variables\n",
    "\n",
    "df_prices = add_derived_value(df=df_prices, method='multiply', base_cols=['Close', 'Shares Outstanding'], deriv_cols='Market Cap', group='Ticker', drop=True)\n",
    "df_prices = df_prices[df_prices['Market Cap'] > 1e9] # only companies of value $1B or more"
   ]
  },
  {
   "cell_type": "code",
   "execution_count": 19,
   "id": "superb-central",
   "metadata": {
    "tags": []
   },
   "outputs": [],
   "source": [
    "# merge income and prices\n",
    "\n",
    "df_main = df_prices.merge(df_income, on=['Ticker', 'Date'], how='inner') # inner means stock must be included in both pre-merge; if MultiIndex, the on=[] parameter determines order of pivot table\n",
    "# assert not np.any(np.isnan(df_main))\n",
    "assert not df_main.isna().any(None)"
   ]
  },
  {
   "cell_type": "code",
   "execution_count": 20,
   "id": "confirmed-newton",
   "metadata": {},
   "outputs": [],
   "source": [
    "# df_main = clean_data(df_main, min_freq=n_forward+1) # takes only those that are sizable enough, though if n_forward is under 365, unnecessary"
   ]
  },
  {
   "cell_type": "code",
   "execution_count": 21,
   "id": "dental-trust",
   "metadata": {},
   "outputs": [],
   "source": [
    "# # scale data\n",
    "\n",
    "cols = df_main.columns[df_main.dtypes=='float64'] # ['Market Cap', 'Revenue', 'Gross Profit', 'Net Income', 'YoY Revenue']\n",
    "\n",
    "df_main[cols], sc = scale(df_main[cols], std_sc)"
   ]
  },
  {
   "cell_type": "code",
   "execution_count": 22,
   "id": "national-retail",
   "metadata": {},
   "outputs": [
    {
     "data": {
      "text/html": [
       "<div>\n",
       "<style scoped>\n",
       "    .dataframe tbody tr th:only-of-type {\n",
       "        vertical-align: middle;\n",
       "    }\n",
       "\n",
       "    .dataframe tbody tr th {\n",
       "        vertical-align: top;\n",
       "    }\n",
       "\n",
       "    .dataframe thead th {\n",
       "        text-align: right;\n",
       "    }\n",
       "</style>\n",
       "<table border=\"1\" class=\"dataframe\">\n",
       "  <thead>\n",
       "    <tr style=\"text-align: right;\">\n",
       "      <th></th>\n",
       "      <th>Ticker</th>\n",
       "      <th>Market Cap</th>\n",
       "      <th>Revenue</th>\n",
       "      <th>Gross Profit</th>\n",
       "      <th>Net Income</th>\n",
       "      <th>YoY Revenue</th>\n",
       "    </tr>\n",
       "    <tr>\n",
       "      <th>Date</th>\n",
       "      <th></th>\n",
       "      <th></th>\n",
       "      <th></th>\n",
       "      <th></th>\n",
       "      <th></th>\n",
       "      <th></th>\n",
       "    </tr>\n",
       "  </thead>\n",
       "  <tbody>\n",
       "    <tr>\n",
       "      <th>2014-03-27</th>\n",
       "      <td>GOOG</td>\n",
       "      <td>2.976847</td>\n",
       "      <td>1.548662</td>\n",
       "      <td>3.110096</td>\n",
       "      <td>4.173607</td>\n",
       "      <td>-0.014011</td>\n",
       "    </tr>\n",
       "    <tr>\n",
       "      <th>2014-03-28</th>\n",
       "      <td>GOOG</td>\n",
       "      <td>2.985896</td>\n",
       "      <td>1.548662</td>\n",
       "      <td>3.110096</td>\n",
       "      <td>4.173607</td>\n",
       "      <td>-0.014011</td>\n",
       "    </tr>\n",
       "    <tr>\n",
       "      <th>2014-03-31</th>\n",
       "      <td>GOOG</td>\n",
       "      <td>6.285435</td>\n",
       "      <td>1.548662</td>\n",
       "      <td>3.110096</td>\n",
       "      <td>4.173607</td>\n",
       "      <td>-0.014011</td>\n",
       "    </tr>\n",
       "    <tr>\n",
       "      <th>2014-04-01</th>\n",
       "      <td>GOOG</td>\n",
       "      <td>6.406398</td>\n",
       "      <td>1.548662</td>\n",
       "      <td>3.110096</td>\n",
       "      <td>4.173607</td>\n",
       "      <td>-0.014011</td>\n",
       "    </tr>\n",
       "    <tr>\n",
       "      <th>2014-04-02</th>\n",
       "      <td>GOOG</td>\n",
       "      <td>6.404499</td>\n",
       "      <td>1.548662</td>\n",
       "      <td>3.110096</td>\n",
       "      <td>4.173607</td>\n",
       "      <td>-0.014011</td>\n",
       "    </tr>\n",
       "    <tr>\n",
       "      <th>...</th>\n",
       "      <td>...</td>\n",
       "      <td>...</td>\n",
       "      <td>...</td>\n",
       "      <td>...</td>\n",
       "      <td>...</td>\n",
       "      <td>...</td>\n",
       "    </tr>\n",
       "    <tr>\n",
       "      <th>2020-02-14</th>\n",
       "      <td>MAXR</td>\n",
       "      <td>-0.305996</td>\n",
       "      <td>-0.306516</td>\n",
       "      <td>-0.333885</td>\n",
       "      <td>-0.594722</td>\n",
       "      <td>-0.039929</td>\n",
       "    </tr>\n",
       "    <tr>\n",
       "      <th>2020-02-18</th>\n",
       "      <td>MAXR</td>\n",
       "      <td>-0.307391</td>\n",
       "      <td>-0.306516</td>\n",
       "      <td>-0.333885</td>\n",
       "      <td>-0.594722</td>\n",
       "      <td>-0.039929</td>\n",
       "    </tr>\n",
       "    <tr>\n",
       "      <th>2020-02-19</th>\n",
       "      <td>MAXR</td>\n",
       "      <td>-0.307846</td>\n",
       "      <td>-0.306516</td>\n",
       "      <td>-0.333885</td>\n",
       "      <td>-0.594722</td>\n",
       "      <td>-0.039929</td>\n",
       "    </tr>\n",
       "    <tr>\n",
       "      <th>2020-02-20</th>\n",
       "      <td>MAXR</td>\n",
       "      <td>-0.307560</td>\n",
       "      <td>-0.306516</td>\n",
       "      <td>-0.333885</td>\n",
       "      <td>-0.594722</td>\n",
       "      <td>-0.039929</td>\n",
       "    </tr>\n",
       "    <tr>\n",
       "      <th>2020-02-21</th>\n",
       "      <td>MAXR</td>\n",
       "      <td>-0.307983</td>\n",
       "      <td>-0.306516</td>\n",
       "      <td>-0.333885</td>\n",
       "      <td>-0.594722</td>\n",
       "      <td>-0.039929</td>\n",
       "    </tr>\n",
       "  </tbody>\n",
       "</table>\n",
       "<p>2426989 rows × 6 columns</p>\n",
       "</div>"
      ],
      "text/plain": [
       "           Ticker  Market Cap   Revenue  Gross Profit  Net Income  YoY Revenue\n",
       "Date                                                                          \n",
       "2014-03-27   GOOG    2.976847  1.548662      3.110096    4.173607    -0.014011\n",
       "2014-03-28   GOOG    2.985896  1.548662      3.110096    4.173607    -0.014011\n",
       "2014-03-31   GOOG    6.285435  1.548662      3.110096    4.173607    -0.014011\n",
       "2014-04-01   GOOG    6.406398  1.548662      3.110096    4.173607    -0.014011\n",
       "2014-04-02   GOOG    6.404499  1.548662      3.110096    4.173607    -0.014011\n",
       "...           ...         ...       ...           ...         ...          ...\n",
       "2020-02-14   MAXR   -0.305996 -0.306516     -0.333885   -0.594722    -0.039929\n",
       "2020-02-18   MAXR   -0.307391 -0.306516     -0.333885   -0.594722    -0.039929\n",
       "2020-02-19   MAXR   -0.307846 -0.306516     -0.333885   -0.594722    -0.039929\n",
       "2020-02-20   MAXR   -0.307560 -0.306516     -0.333885   -0.594722    -0.039929\n",
       "2020-02-21   MAXR   -0.307983 -0.306516     -0.333885   -0.594722    -0.039929\n",
       "\n",
       "[2426989 rows x 6 columns]"
      ]
     },
     "execution_count": 22,
     "metadata": {},
     "output_type": "execute_result"
    }
   ],
   "source": [
    "df_main"
   ]
  },
  {
   "cell_type": "code",
   "execution_count": 23,
   "id": "typical-reliance",
   "metadata": {},
   "outputs": [],
   "source": [
    "# convert to list of numpy arrays\n",
    "\n",
    "df_main = pd.pivot_table(df_main, index=['Ticker', 'Date']).reindex(columns=df_main.columns[1:]) # see https://stackoverflow.com/questions/36346071/pandas-pivot-table-changing-order-of-non-index-columns\n",
    "export = lambda x: x.to_numpy()\n",
    "dataset = df_main.groupby('Ticker').apply(export)"
   ]
  },
  {
   "cell_type": "code",
   "execution_count": 24,
   "id": "developmental-header",
   "metadata": {},
   "outputs": [],
   "source": [
    "# convert to training data format\n",
    "\n",
    "full_dataset = []\n",
    "for i, stock_data in enumerate(dataset):\n",
    "    full_dataset += generate_sequences(stock_data) # see https://www.geeksforgeeks.org/python-ways-to-concatenate-two-lists/"
   ]
  },
  {
   "cell_type": "code",
   "execution_count": 25,
   "id": "heavy-symphony",
   "metadata": {},
   "outputs": [
    {
     "data": {
      "text/plain": [
       "(1899611, 6, 5)"
      ]
     },
     "execution_count": 25,
     "metadata": {},
     "output_type": "execute_result"
    }
   ],
   "source": [
    "# convert to np array\n",
    "\n",
    "full_data = np.asarray(full_dataset)\n",
    "# np.save('saved/dataset', full_data)\n",
    "\n",
    "full_data.shape"
   ]
  },
  {
   "cell_type": "code",
   "execution_count": 26,
   "id": "economic-therapy",
   "metadata": {},
   "outputs": [],
   "source": [
    "# load from npy file\n",
    "\n",
    "# full_data = np.load('saved/dataset.npy')"
   ]
  },
  {
   "cell_type": "code",
   "execution_count": 27,
   "id": "premier-terror",
   "metadata": {},
   "outputs": [],
   "source": [
    "indices = np.arange(len(full_data))\n",
    "random.shuffle(indices)\n",
    "X = full_data[indices[:m],:-1,:]\n",
    "Y = full_data[indices[:m],-1:,:]\n",
    "Y = Y.reshape(Y.shape[0], Y.shape[2])"
   ]
  },
  {
   "cell_type": "markdown",
   "id": "seasonal-pantyhose",
   "metadata": {},
   "source": [
    "#### Model Attempt 5"
   ]
  },
  {
   "cell_type": "code",
   "execution_count": 28,
   "id": "annual-pressing",
   "metadata": {},
   "outputs": [],
   "source": [
    "# model = load_model('saved/weights_l1_180_15.h5')"
   ]
  },
  {
   "cell_type": "code",
   "execution_count": 29,
   "id": "communist-swiss",
   "metadata": {
    "tags": []
   },
   "outputs": [],
   "source": [
    "def model5_v1_1():\n",
    "    \n",
    "    \"\"\"\n",
    "    This model is based on model v5.1 but focuses on a single input (e.g., IPO price, or first datapoint).\n",
    "    \"\"\"\n",
    "    \n",
    "    X_input = Input(shape=(1, n_inputs))\n",
    "    X = Dense(units=128, activation='relu')(X_input)\n",
    "    X = Dense(units=128, activation='relu')(X)\n",
    "    X = Dropout(0.2)(X)\n",
    "    X = Dense(units=128, activation='relu')(X)\n",
    "    X = Dropout(0.2)(X)\n",
    "    X = Dense(units=64, activation='relu')(X)\n",
    "    X = Dropout(0.2)(X)\n",
    "    output = Dense(units=n_values, activation='linear')(X)\n",
    "    \n",
    "    model = Model(inputs=X_input, outputs=output)\n",
    "    \n",
    "    return model"
   ]
  },
  {
   "cell_type": "code",
   "execution_count": 30,
   "id": "blind-pollution",
   "metadata": {},
   "outputs": [],
   "source": [
    "def model5_v1():\n",
    "    \n",
    "    \"\"\"\n",
    "    This model is based on model v4.1 but extends the input to 5 inputs and 5 outputs. Designed with a larger dataset\n",
    "    in mind and additional computation power.\n",
    "    \"\"\"\n",
    "    \n",
    "    X_input = Input(shape=(T_x, n_inputs))\n",
    "    X = LSTM(units=128, return_sequences=True)(X_input)\n",
    "    X = TimeDistributed(Dense(units=256))(X)\n",
    "    X = LSTM(units=256, return_sequences=True)(X)\n",
    "    X = TimeDistributed(Dense(units=256))(X)\n",
    "    X = LSTM(units=128)(X)\n",
    "    X = Dropout(0.3)(X)\n",
    "    X = Dense(units=128)(X)\n",
    "    output = Dense(units=n_values)(X)\n",
    "    \n",
    "    model = Model(inputs=X_input, outputs=output)\n",
    "    \n",
    "    return model"
   ]
  },
  {
   "cell_type": "code",
   "execution_count": 31,
   "id": "distant-chambers",
   "metadata": {
    "tags": []
   },
   "outputs": [],
   "source": [
    "def model5():\n",
    "    \n",
    "    \"\"\"\n",
    "    This model is based on model v4.1 but extends the input to 5 inputs and 5 outputs. Designed with a larger dataset\n",
    "    in mind and additional computation power.\n",
    "    \"\"\"\n",
    "    \n",
    "    X_input = Input(shape=(T_x, n_inputs))\n",
    "    X = LSTM(units=128, return_sequences=True)(X_input)\n",
    "    X = TimeDistributed(Dense(units=256))(X)\n",
    "    X = LSTM(units=128)(X)\n",
    "    X = Dropout(0.2)(X)\n",
    "    X = Dense(units=128)(X)\n",
    "    output = Dense(units=n_values)(X)\n",
    "    \n",
    "    model = Model(inputs=X_input, outputs=output)\n",
    "    \n",
    "    return model"
   ]
  },
  {
   "cell_type": "code",
   "execution_count": 46,
   "id": "genetic-tolerance",
   "metadata": {
    "tags": []
   },
   "outputs": [],
   "source": [
    "model = model5_v1()\n",
    "model.compile(optimizer='adam', loss=custom_loss_function(loss='mse', weights=[3,1,1,1,1]), metrics=['mape']) # consider loss='msle' (mean squared logarithmic error, https://keras.io/api/losses/regression_losses/#meansquaredlogarithmicerror-class), or log during preprocessing (see https://stats.stackexchange.com/questions/213897/best-way-to-optimize-mape)"
   ]
  },
  {
   "cell_type": "code",
   "execution_count": 47,
   "id": "smooth-theory",
   "metadata": {
    "tags": []
   },
   "outputs": [
    {
     "name": "stdout",
     "output_type": "stream",
     "text": [
      "Train on 10000 samples\n",
      "Epoch 1/8\n",
      "10000/10000 [==============================] - 26s 3ms/sample - loss: 0.8660 - mape: 250.9023\n",
      "Epoch 2/8\n",
      "10000/10000 [==============================] - 21s 2ms/sample - loss: 0.8301 - mape: 268.5643\n",
      "Epoch 3/8\n",
      "10000/10000 [==============================] - 21s 2ms/sample - loss: 0.8059 - mape: 224.5259\n",
      "Epoch 4/8\n",
      "10000/10000 [==============================] - 21s 2ms/sample - loss: 0.7655 - mape: 227.2262\n",
      "Epoch 5/8\n",
      "10000/10000 [==============================] - 21s 2ms/sample - loss: 0.7981 - mape: 252.2075\n",
      "Epoch 6/8\n",
      "10000/10000 [==============================] - 22s 2ms/sample - loss: 0.7504 - mape: 182.6988\n",
      "Epoch 7/8\n",
      "10000/10000 [==============================] - 22s 2ms/sample - loss: 0.7567 - mape: 214.6248\n",
      "Epoch 8/8\n",
      "10000/10000 [==============================] - 21s 2ms/sample - loss: 0.7290 - mape: 244.5091\n"
     ]
    },
    {
     "data": {
      "text/plain": [
       "<tensorflow.python.keras.callbacks.History at 0x7fe6280a2ad0>"
      ]
     },
     "execution_count": 47,
     "metadata": {},
     "output_type": "execute_result"
    }
   ],
   "source": [
    "model.fit(X, Y, batch_size=32, epochs=8)"
   ]
  },
  {
   "cell_type": "code",
   "execution_count": 34,
   "id": "imported-edgar",
   "metadata": {},
   "outputs": [],
   "source": [
    "notify(\"Model\", \"Model training complete\")"
   ]
  },
  {
   "cell_type": "code",
   "execution_count": 53,
   "id": "municipal-toolbox",
   "metadata": {},
   "outputs": [
    {
     "name": "stdin",
     "output_type": "stream",
     "text": [
      "[WARNING] saved/weights_m2_5_360.h5 already exists - overwrite? [y/n] y\n"
     ]
    },
    {
     "name": "stdout",
     "output_type": "stream",
     "text": [
      "[TIP] Next time specify overwrite=True!\n"
     ]
    }
   ],
   "source": [
    "model.save('saved/weights_m2_5_360.h5', overwrite=False) # filename format: weights_m[run number]_[T_x]_[n_forward].h5"
   ]
  },
  {
   "cell_type": "markdown",
   "id": "numeric-luther",
   "metadata": {},
   "source": [
    "#### Output and Prediction"
   ]
  },
  {
   "cell_type": "code",
   "execution_count": 48,
   "id": "structural-jewel",
   "metadata": {
    "tags": []
   },
   "outputs": [
    {
     "data": {
      "text/plain": [
       "[1.2924560735225676, 327.04248]"
      ]
     },
     "execution_count": 48,
     "metadata": {},
     "output_type": "execute_result"
    }
   ],
   "source": [
    "X2 = full_data[indices[m:m+1000],:-1,:]\n",
    "Y2 = full_data[indices[m:m+1000],-1:,:]\n",
    "# Y2 = Y2.reshape(Y2.shape[0], Y2.shape[2])\n",
    "model.evaluate(X2, Y2, verbose=0)"
   ]
  },
  {
   "cell_type": "code",
   "execution_count": 37,
   "id": "laden-cholesterol",
   "metadata": {
    "tags": []
   },
   "outputs": [],
   "source": [
    "# X3 = full_data[indices[1000],:-1,:]\n",
    "# Y3 = full_data[indices[1000],-1:,:]\n",
    "# print(sc.inverse_transform(model.predict(X3.reshape(1, *X3.shape))))\n",
    "# print(sc.inverse_transform(X3))\n",
    "# print(sc.inverse_transform(Y3))"
   ]
  },
  {
   "cell_type": "code",
   "execution_count": 49,
   "id": "champion-radar",
   "metadata": {},
   "outputs": [
    {
     "data": {
      "text/plain": [
       "[<matplotlib.lines.Line2D at 0x7fe62987b290>]"
      ]
     },
     "execution_count": 49,
     "metadata": {},
     "output_type": "execute_result"
    },
    {
     "data": {
      "image/png": "[encoded data removed]",
      "text/plain": [
       "<Figure size 432x288 with 1 Axes>"
      ]
     },
     "metadata": {
      "needs_background": "light"
     },
     "output_type": "display_data"
    }
   ],
   "source": [
    "plt.plot(access_ticker(df_main, 'AAPL')['Market Cap'][0:1000])"
   ]
  },
  {
   "cell_type": "code",
   "execution_count": 50,
   "id": "neither-teacher",
   "metadata": {},
   "outputs": [
    {
     "data": {
      "image/png": "[encoded data removed]",
      "text/plain": [
       "<Figure size 432x288 with 1 Axes>"
      ]
     },
     "metadata": {
      "needs_background": "light"
     },
     "output_type": "display_data"
    }
   ],
   "source": [
    "output = run_prediction(dataset=dataset, ticker='AMZN', n_backtest=300, n_predictions=500)"
   ]
  },
  {
   "cell_type": "code",
   "execution_count": 51,
   "id": "formal-protest",
   "metadata": {},
   "outputs": [
    {
     "data": {
      "text/plain": [
       "[<matplotlib.lines.Line2D at 0x7fe62e2a09d0>]"
      ]
     },
     "execution_count": 51,
     "metadata": {},
     "output_type": "execute_result"
    },
    {
     "data": {
      "image/png": "[encoded data removed]",
      "text/plain": [
       "<Figure size 432x288 with 1 Axes>"
      ]
     },
     "metadata": {
      "needs_background": "light"
     },
     "output_type": "display_data"
    }
   ],
   "source": [
    "plt.plot(inv_scale(output, sc=std_sc)[:,0])"
   ]
  },
  {
   "cell_type": "code",
   "execution_count": 52,
   "id": "unique-custody",
   "metadata": {},
   "outputs": [
    {
     "data": {
      "image/png": "[encoded data removed]",
      "text/plain": [
       "<Figure size 432x288 with 1 Axes>"
      ]
     },
     "metadata": {
      "needs_background": "light"
     },
     "output_type": "display_data"
    }
   ],
   "source": [
    "ts_output = run_single_prediction(dataset=dataset, ticker='AMZN')"
   ]
  },
  {
   "cell_type": "code",
   "execution_count": null,
   "id": "affecting-response",
   "metadata": {},
   "outputs": [],
   "source": [
    "notify(\"Model\", \"Model prediction complete\")"
   ]
  }
 ],
 "metadata": {
  "kernelspec": {
   "display_name": "Python 3",
   "language": "python",
   "name": "python3"
  },
  "language_info": {
   "codemirror_mode": {
    "name": "ipython",
    "version": 3
   },
   "file_extension": ".py",
   "mimetype": "text/x-python",
   "name": "python",
   "nbconvert_exporter": "python",
   "pygments_lexer": "ipython3",
   "version": "3.7.10"
  },
  "toc-autonumbering": false,
  "toc-showcode": false,
  "toc-showmarkdowntxt": false,
  "toc-showtags": false
 },
 "nbformat": 4,
 "nbformat_minor": 5
}
