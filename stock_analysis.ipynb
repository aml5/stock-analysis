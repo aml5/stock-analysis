{
 "cells": [
  {
   "cell_type": "markdown",
   "id": "necessary-terrorism",
   "metadata": {},
   "source": [
    "### RNN Model for Stock Analysis\n",
    "\n",
    "1. import data from csv datsets\n",
    "    - prices\n",
    "    - sector and industry \n",
    "    - revenue\n",
    "    - profit\n",
    "2. compile into timestep sequence\n",
    "3. create lagged y-value set\n",
    "4. create model\n",
    "    - lstm cell\n",
    "    - dense layer\n",
    "    - consider another lstm and dense layer\n",
    "    - output\n",
    "5. run model based on following inputs for each time step\n",
    "    - market cap\n",
    "    - industry (one-hot vector)\n",
    "    - sector (one-hot vector)\n",
    "    - revenue\n",
    "    - profit\n",
    "6. predict\n",
    "    - run model up until the known value is done\n",
    "    - iterate through following values feeding previous output and hidden state"
   ]
  },
  {
   "cell_type": "markdown",
   "id": "pharmaceutical-transsexual",
   "metadata": {},
   "source": [
    "#### Initialize definitions"
   ]
  },
  {
   "cell_type": "code",
   "execution_count": 195,
   "id": "abroad-hawaii",
   "metadata": {
    "scrolled": true,
    "tags": []
   },
   "outputs": [],
   "source": [
    "import numpy as np\n",
    "import pandas as pd\n",
    "import os\n",
    "import random\n",
    "import matplotlib.pyplot as plt\n",
    "from sklearn.preprocessing import MinMaxScaler\n",
    "\n",
    "import tensorflow as tf\n",
    "\n",
    "# using tensorflow.keras may be necessary, keras by itself may not work\n",
    "from tensorflow import keras\n",
    "from tensorflow.keras.layers import Bidirectional, Concatenate, Permute, Dot, Input, LSTM, Multiply, TimeDistributed, Reshape, Dropout\n",
    "from tensorflow.keras.layers import RepeatVector, Dense, Activation, Lambda\n",
    "from tensorflow.keras.optimizers import Adam\n",
    "from tensorflow.keras.losses import MeanSquaredError, MeanAbsolutePercentageError\n",
    "from tensorflow.keras.models import load_model, Model\n",
    "from tensorflow.keras.utils import Sequence\n",
    "import tensorflow.keras.backend as K"
   ]
  },
  {
   "cell_type": "code",
   "execution_count": 196,
   "id": "entitled-baptist",
   "metadata": {
    "scrolled": true,
    "tags": []
   },
   "outputs": [],
   "source": [
    "# define constants and filepaths\n",
    "\n",
    "shareprices_path = 'raw/us-shareprices-daily.csv'\n",
    "income_path = 'raw/us-income-ttm.csv'\n",
    "# shareprices_path = 'us-shareprices-latest.csv' # latest data only, helps shorten load time while developing\n",
    "\n",
    "MAX_DAYS = 9000 # number of total days possible for a stock\n",
    "T_x = 360 # number of timesteps inputs\n",
    "T_y = 1 # number of timestep outputs, T_x = T_y or 1, depending on the architecture\n",
    "# n_a1 = 256 # number of hidden activation units in first LSTM layer\n",
    "# n_a2 = 256 # number of hidden activation units in second LSTM layer\n",
    "n_inputs = 5 # number of input variables per timestep\n",
    "n_values = n_inputs # number of output predicted variables, may be same as n_inputs\n",
    "n_trailing = T_x # number of trailing days used for prediction\n",
    "n_forward = 360 # number of timesteps in advance for forward prediction\n",
    "m = 150000 # number of training examples\n",
    "\n",
    "sc = MinMaxScaler(feature_range=(0,1))"
   ]
  },
  {
   "cell_type": "markdown",
   "id": "extensive-tennessee",
   "metadata": {},
   "source": [
    "#### Data Preparation\n",
    "\n",
    "1. Import all datasets using pandas\n",
    "2. Add market cap, revenue, profit, and yoy growth by quarter to dataset\n",
    "    - Make data repeat until following quarter\n",
    "3. Create a second dataset with sector of the company\n",
    "4. Slice dataset into arrays of length T_x+1 and pair with sector"
   ]
  },
  {
   "cell_type": "code",
   "execution_count": 197,
   "id": "unnecessary-cutting",
   "metadata": {
    "tags": []
   },
   "outputs": [],
   "source": [
    "def load_dataset(path, cols=None, delimiter=';'):\n",
    "    \n",
    "    \"\"\"\n",
    "    Loads a dataset from csv file into pandas dataframe.\n",
    "    \n",
    "    Parameters:\n",
    "    path -- filepath to csv\n",
    "    cols -- column labels to pass into reader, first label should be the date column label\n",
    "    delimiter -- delimiter of values, default semicolon based on project data\n",
    "    \n",
    "    Returns:\n",
    "    df -- dataframe with values from csv\n",
    "    \"\"\"\n",
    "    \n",
    "    df = pd.read_csv(path, delimiter=delimiter, usecols=cols)\n",
    "    df.index = pd.to_datetime(df.pop(cols[0])) # alternatively, df.index = pd.to_datetime(df[cols[0]]); df = df.drop(columns=[cols[0]])\n",
    "    df.index.name = 'Date' # renames column if date column originally has different name\n",
    "    \n",
    "    return df"
   ]
  },
  {
   "cell_type": "code",
   "execution_count": 198,
   "id": "contrary-bahrain",
   "metadata": {
    "tags": []
   },
   "outputs": [],
   "source": [
    "def clean_data(df, na=False, zeros=None, min_freq=1):\n",
    "    \n",
    "    \"\"\"\n",
    "    Removes rows with incomplete data, either NaN or zero values, based on specified columns.\n",
    "    \n",
    "    Parameters:\n",
    "    df -- input dataframe\n",
    "    na -- labels of columns to consider when removing rows with NaN values, default of False removes no rows (False instead of None because None removes all rows)\n",
    "    zeros -- label of columns considered when removing rows with zero values, default of None removes no rows\n",
    "    min_freq -- minimum number of rows of a ticker to remain in dataset, default of 1 removes no rows\n",
    "    \n",
    "    Returns:\n",
    "    df -- dataframe with data cleaned\n",
    "    \"\"\"\n",
    "    \n",
    "    if na == 'all': na = df.columns[df.dtypes!='object'] # sets to columns with non-string dtypes\n",
    "    if zeros == 'all': zeros = df.columns[df.dtypes!='object']\n",
    "    \n",
    "    if not na is False: df = df.dropna(subset=na) # removes all rows with NaN in specified columns, df.dropna(subset=[na], inplace=True) also works if SettingWithCopyWarning appears\n",
    "    if not zeros is None: df = df[(df[zeros]!=0).all(axis=1)] # removes all rows with zero values in specified columns, see https://stackoverflow.com/a/22650162/6501621 and https://stackoverflow.com/questions/18172851/deleting-dataframe-row-in-pandas-based-on-column-value\n",
    "    df = df[df.groupby('Ticker')['Ticker'].transform(len) >= min_freq] # removes all rows of a stock if stock has less than min_freq entries, see https://stackoverflow.com/a/48514338/6501621\n",
    "    \n",
    "    return df"
   ]
  },
  {
   "cell_type": "code",
   "execution_count": 199,
   "id": "imperial-render",
   "metadata": {
    "tags": []
   },
   "outputs": [],
   "source": [
    "def add_derived_value(df, method, base_cols, deriv_cols, drop=False, group=None, periods=4):\n",
    "    \n",
    "    \"\"\"\n",
    "    Computes derived value based on method and parameters. Available derived values: percent change, multiplication.\n",
    "    \n",
    "    Parameters:\n",
    "    df -- input dataframe (required)\n",
    "    method -- computation to calculate derived values (required)\n",
    "    base_cols -- list of column labels of base values used to compute derived values (required)\n",
    "    deriv_cols -- list of column label(s) of derived values to add to dataframe (required)\n",
    "    drop -- column label(s) to drop after computation (optional)\n",
    "    group -- column label of grouping if necessary for calculation (optional)\n",
    "    period -- number of periods between percent change calculation (optional)\n",
    "    \n",
    "    Returns:\n",
    "    df -- dataframe with additional column(s) of derived calculations\n",
    "    \"\"\"\n",
    "    \n",
    "    # computes percentage change of base columns and adds to dataframe in new columns\n",
    "    \n",
    "    if method == 'pctchg':\n",
    "        growth = lambda x: x.pct_change(periods=periods).backfill() # defines function to compute percent change and backfills missing data\n",
    "        for base_col, deriv_col in zip(base_cols, deriv_cols): # loops through if applicable to multiple columns\n",
    "            growth_col = df.groupby(group)[base_col].apply(growth) # applies function by group\n",
    "            df[deriv_col] = growth_col # assigns derived values to specified column name\n",
    "        \n",
    "    # multiplies base columns together to create a new column\n",
    "    \n",
    "    elif method == 'multiply':\n",
    "        multiply = df[base_cols[0]] # initializes variable\n",
    "        for col in base_cols[1:]: multiply *= df[col] # loops through all other columns to multiply together into variable\n",
    "        df[deriv_cols] = multiply # assigns derived values to specified column name, only one column can be specified in deriv_cols\n",
    "        \n",
    "    if drop: df = df.drop(columns=base_cols) # delete base columns after calculating derived values\n",
    "\n",
    "    return df"
   ]
  },
  {
   "cell_type": "code",
   "execution_count": 200,
   "id": "generic-mentor",
   "metadata": {
    "tags": []
   },
   "outputs": [],
   "source": [
    "def access_ticker(df, ticker):\n",
    "    \n",
    "    \"\"\"\n",
    "    Returns the rows of a given ticker.\n",
    "    \n",
    "    Parameters:\n",
    "    df -- input dataframe\n",
    "    ticker -- stock ticker to retrieve values of\n",
    "    \n",
    "    Returns:\n",
    "    df -- dataframe of rows of selected ticker\n",
    "    \"\"\"\n",
    "    \n",
    "    if len(df.index.names) <= 1: # access from single index\n",
    "        return df[df['Ticker']==ticker]\n",
    "    else: # access from MultiIndex\n",
    "        return df.loc[ticker]"
   ]
  },
  {
   "cell_type": "code",
   "execution_count": 201,
   "id": "composite-circle",
   "metadata": {
    "tags": []
   },
   "outputs": [],
   "source": [
    "def rescale_data_by_group(df, group, freq='1D'):\n",
    "    \n",
    "    \"\"\"\n",
    "    Rescales data from original frequency to specified frequency and forward fills empty rows if upscaling.\n",
    "    \n",
    "    Parameters:\n",
    "    df -- input dataframe to rescale\n",
    "    group -- column of grouping\n",
    "    frequency -- frequency of data for each group\n",
    "    \"\"\"\n",
    "    \n",
    "    rescale = lambda x: x.asfreq(freq).pad() # defines function to rescale data to specified frequency\n",
    "    df = df.groupby(group).apply(rescale) # applies function by group\n",
    "    df.pop(group) # df.drop provides same functionality for this use case\n",
    "    df = df.reset_index(level=0)\n",
    "    \n",
    "    return df"
   ]
  },
  {
   "cell_type": "code",
   "execution_count": 202,
   "id": "supreme-seeking",
   "metadata": {
    "tags": []
   },
   "outputs": [],
   "source": [
    "def generate_sequences(data, n_trailing=n_trailing, n_forward=n_forward):\n",
    "    \n",
    "    \"\"\"\n",
    "    Generates all sequences of input array given number of timesteps and length of forward projection.\n",
    "    \n",
    "    Parameters:\n",
    "    data -- input array\n",
    "    n_trailing -- number of timesteps used in sequence\n",
    "    n_forward -- projection number of days in advance\n",
    "    \n",
    "    Return:\n",
    "    sequences -- list of sequences generated from array\n",
    "    \"\"\"\n",
    "    \n",
    "    sequences = []\n",
    "    \n",
    "    for i in range(len(data)-n_trailing-n_forward+1):\n",
    "        sequences.append(np.append(data[i:i+n_trailing], [data[i+n_trailing+n_forward-1]], axis=0)) # appends the n_trailing timesteps and timestep n_forward from most recent timestep\n",
    "    \n",
    "    return sequences"
   ]
  },
  {
   "cell_type": "code",
   "execution_count": 203,
   "id": "boxed-grammar",
   "metadata": {},
   "outputs": [],
   "source": [
    "def notify(title, text=\"\"):\n",
    "    \n",
    "    \"\"\"\n",
    "    Displays a desktop notification with specified text.\n",
    "    \n",
    "    Parameters:\n",
    "    title -- title of notification to be displayed\n",
    "    text -- further details of notification\n",
    "    \n",
    "    Returns:\n",
    "    None\n",
    "    \"\"\"\n",
    "    \n",
    "    os.system(\"\"\"\n",
    "              osascript -e 'display notification \"{}\" with title \"{}\"'\n",
    "              \"\"\".format(text, title))"
   ]
  },
  {
   "cell_type": "markdown",
   "id": "double-science",
   "metadata": {},
   "source": [
    "#### Loss Functions"
   ]
  },
  {
   "cell_type": "code",
   "execution_count": 204,
   "id": "surgical-signature",
   "metadata": {
    "tags": []
   },
   "outputs": [],
   "source": [
    "def custom_loss_function(loss, weights):\n",
    "    \n",
    "    \"\"\"\n",
    "    Computes a loss function with weighting on specific outputs.\n",
    "    Based on https://keras.io/api/losses/\n",
    "    https://towardsdatascience.com/how-to-create-a-custom-loss-function-keras-3a89156ec69b\n",
    "    https://medium.com/@Bloomore/how-to-write-a-custom-loss-function-with-additional-arguments-in-keras-5f193929f7a0\n",
    "    \n",
    "    Parameters:\n",
    "    loss -- loss options (mean squared error, mean absolute percentage error)\n",
    "    weights -- list of loss weighting of output ['Market Cap', 'Revenue', 'Gross Profit', 'Net Income', 'YoY Revenue']\n",
    "    \n",
    "    Returns:\n",
    "    custom_loss -- defines a custom error with loss weighting\n",
    "    \"\"\"\n",
    "    \n",
    "    loss_weights = K.constant(np.array([weights]))\n",
    "    num_weights = np.sum(np.ones(len(weights))) # workaround because it seems multiplying by len(weights) directly doesn't work\n",
    "    \n",
    "    if loss == 'mse':\n",
    "        def custom_loss(y_true, y_pred):\n",
    "            loss = K.square(y_true - y_pred) # square before weighting losses, otherwise it gets messy\n",
    "            weighted_loss = Multiply()([loss, loss_weights]) / np.sum(loss_weights) * num_weights # multiply by weights / sum of weights * num weights intuitively makes sense; the sum of (weights / sum of weights) = 1, so to recalibrate based on  original neutral weighting, multiply by length of weights (recalibration is unnecessary but nice)\n",
    "            return K.mean(weighted_loss)\n",
    "        \n",
    "    elif loss == 'mape':\n",
    "        def custom_loss(y_true, y_pred):\n",
    "            diff = y_true - y_pred\n",
    "            loss = 100 * K.abs(diff) / y_true\n",
    "            weighted_loss = Multiply()([loss, loss_weights]) / np.sum(loss_weights) * num_weights\n",
    "            return K.mean(weighted_loss)\n",
    "    \n",
    "    return custom_loss"
   ]
  },
  {
   "cell_type": "code",
   "execution_count": 205,
   "id": "reported-schema",
   "metadata": {},
   "outputs": [
    {
     "name": "stdout",
     "output_type": "stream",
     "text": [
      "tf.Tensor(199.9947, shape=(), dtype=float32)\n"
     ]
    }
   ],
   "source": [
    "y_true = K.constant([1, 4, 1, 5, 1])\n",
    "y_pred = K.constant([3, 1, 4, 2, 2])\n",
    "weights = [1,1,1,1,1]\n",
    "num_weights = np.sum(np.ones(len(weights)))\n",
    "loss_weights = K.constant(np.array([50000, 1, 1, 1, 1]))\n",
    "diff = y_true - y_pred\n",
    "loss = 100 * K.abs(diff) / y_true\n",
    "weighted_loss = Multiply()([loss, loss_weights]) / np.sum(loss_weights) * num_weights\n",
    "print(K.mean(weighted_loss))"
   ]
  },
  {
   "cell_type": "code",
   "execution_count": 206,
   "id": "continental-hormone",
   "metadata": {},
   "outputs": [
    {
     "name": "stdout",
     "output_type": "stream",
     "text": [
      "102.0\n"
     ]
    }
   ],
   "source": [
    "test_true = K.constant([1, 4, 1, 5, 1])\n",
    "test_pred = K.constant([3, 2, 2, 2, 2])\n",
    "test_loss_weights = K.constant([1, 1, 1, 1, 1])\n",
    "test_diff = test_true - test_pred\n",
    "test_loss = 100 * K.abs(test_diff) / test_true\n",
    "test_weighted_loss = Multiply()([test_loss, test_loss_weights]) / np.sum(test_loss_weights) * len(test_loss_weights)\n",
    "# test_true = Multiply()([test_true, test_loss_weights]) / np.sum(test_loss_weights) * len(test_loss_weights)\n",
    "# test_pred = Multiply()([test_pred, test_loss_weights]) / np.sum(test_loss_weights) * len(test_loss_weights)\n",
    "# print(test_true.numpy())\n",
    "# print(test_pred.numpy())\n",
    "print(K.mean(test_weighted_loss).numpy())\n",
    "# print(MeanSquaredError()(test_true, test_pred).numpy())\n",
    "# print(K.mean(K.abs(test_true-test_pred)).numpy())"
   ]
  },
  {
   "cell_type": "markdown",
   "id": "incredible-masters",
   "metadata": {},
   "source": [
    "#### Data Processing"
   ]
  },
  {
   "cell_type": "code",
   "execution_count": 207,
   "id": "accompanied-insulin",
   "metadata": {
    "tags": []
   },
   "outputs": [],
   "source": [
    "# initialize income dataset\n",
    "\n",
    "cols = ['Publish Date', 'Ticker', 'Revenue', 'Gross Profit', 'Net Income']\n",
    "df_income = load_dataset(path=income_path, cols=cols)\n",
    "df_income = clean_data(df_income, na='all', zeros='all', min_freq=5) # df_income.dtypes!='object'] is essentially everything except strings, don't forget it is '!=', not '=='\n",
    "df_income = add_derived_value(df=df_income, method='pctchg', group='Ticker', base_cols=['Revenue'], deriv_cols=['YoY Revenue'], periods=4) # add YoY revenue column by calculating percent change\n",
    "df_income = rescale_data_by_group(df_income, group='Ticker', freq='1D') # somehow turns 'Net Income' from int64 to float64?"
   ]
  },
  {
   "cell_type": "code",
   "execution_count": 208,
   "id": "grand-genetics",
   "metadata": {},
   "outputs": [],
   "source": [
    "# initialize prices dataset\n",
    "\n",
    "cols = ['Date', 'Ticker', 'Close', 'Shares Outstanding']\n",
    "df_prices = load_dataset(path=shareprices_path, cols=cols)\n",
    "df_prices = clean_data(df_prices, na='all', zeros='all')"
   ]
  },
  {
   "cell_type": "code",
   "execution_count": 209,
   "id": "environmental-equity",
   "metadata": {
    "tags": []
   },
   "outputs": [],
   "source": [
    "# compute marketcap and remove other variables\n",
    "\n",
    "df_prices = add_derived_value(df=df_prices, method='multiply', base_cols=['Close', 'Shares Outstanding'], deriv_cols=['Market Cap'], group='Ticker', drop=True)\n",
    "df_prices = df_prices[df_prices['Market Cap'] > 1e9] # only companies of value $1B or more"
   ]
  },
  {
   "cell_type": "code",
   "execution_count": 210,
   "id": "through-story",
   "metadata": {
    "tags": []
   },
   "outputs": [],
   "source": [
    "# merge income and prices\n",
    "\n",
    "df_main = df_prices.merge(df_income, on=['Ticker', 'Date'], how='inner') # inner means stock must be included in both pre-merge; if MultiIndex, the on=[] parameter determines order of pivot table\n",
    "# assert not np.any(np.isnan(df_main))\n",
    "assert not df_main.isna().any(None)"
   ]
  },
  {
   "cell_type": "code",
   "execution_count": 211,
   "id": "surprised-paraguay",
   "metadata": {},
   "outputs": [],
   "source": [
    "# scale data\n",
    "\n",
    "cols = df_main.columns[df_main.dtypes=='float64'] # ['Market Cap', 'Revenue', 'Gross Profit', 'Net Income']\n",
    "\n",
    "sc = MinMaxScaler(feature_range=(1e-15,1)) # duplicate initialization but useful to define here too, see https://stackoverflow.com/questions/49330195/how-to-use-inverse-transform-in-minmaxscaler-for-a-column-in-a-matrix for more on MinMaxScaler\n",
    "df_main[cols] = sc.fit_transform(df_main[cols])\n",
    "df_main[cols] = np.log(df_main[cols])\n",
    "sc2 = MinMaxScaler(feature_range=(0,1)) # not sure if necessary\n",
    "df_main[cols] = sc2.fit_transform(df_main[cols])"
   ]
  },
  {
   "cell_type": "code",
   "execution_count": 212,
   "id": "separate-example",
   "metadata": {},
   "outputs": [],
   "source": [
    "# df_main.pop('Revenue')\n",
    "# df_main.pop('Gross Profit')\n",
    "# df_main.pop('Net Income')\n",
    "# df_main.pop('YoY Revenue')"
   ]
  },
  {
   "cell_type": "code",
   "execution_count": 213,
   "id": "gentle-hindu",
   "metadata": {},
   "outputs": [
    {
     "data": {
      "text/html": [
       "<div>\n",
       "<style scoped>\n",
       "    .dataframe tbody tr th:only-of-type {\n",
       "        vertical-align: middle;\n",
       "    }\n",
       "\n",
       "    .dataframe tbody tr th {\n",
       "        vertical-align: top;\n",
       "    }\n",
       "\n",
       "    .dataframe thead th {\n",
       "        text-align: right;\n",
       "    }\n",
       "</style>\n",
       "<table border=\"1\" class=\"dataframe\">\n",
       "  <thead>\n",
       "    <tr style=\"text-align: right;\">\n",
       "      <th></th>\n",
       "      <th>Ticker</th>\n",
       "      <th>Market Cap</th>\n",
       "      <th>Revenue</th>\n",
       "      <th>Gross Profit</th>\n",
       "      <th>Net Income</th>\n",
       "      <th>YoY Revenue</th>\n",
       "    </tr>\n",
       "    <tr>\n",
       "      <th>Date</th>\n",
       "      <th></th>\n",
       "      <th></th>\n",
       "      <th></th>\n",
       "      <th></th>\n",
       "      <th></th>\n",
       "      <th></th>\n",
       "    </tr>\n",
       "  </thead>\n",
       "  <tbody>\n",
       "    <tr>\n",
       "      <th>2014-03-27</th>\n",
       "      <td>GOOG</td>\n",
       "      <td>0.880509</td>\n",
       "      <td>0.938509</td>\n",
       "      <td>0.958657</td>\n",
       "      <td>0.973359</td>\n",
       "      <td>0.920496</td>\n",
       "    </tr>\n",
       "    <tr>\n",
       "      <th>2014-03-28</th>\n",
       "      <td>GOOG</td>\n",
       "      <td>0.880589</td>\n",
       "      <td>0.938509</td>\n",
       "      <td>0.958657</td>\n",
       "      <td>0.973359</td>\n",
       "      <td>0.920496</td>\n",
       "    </tr>\n",
       "    <tr>\n",
       "      <th>2014-03-31</th>\n",
       "      <td>GOOG</td>\n",
       "      <td>0.900680</td>\n",
       "      <td>0.938509</td>\n",
       "      <td>0.958657</td>\n",
       "      <td>0.973359</td>\n",
       "      <td>0.920496</td>\n",
       "    </tr>\n",
       "    <tr>\n",
       "      <th>2014-04-01</th>\n",
       "      <td>GOOG</td>\n",
       "      <td>0.901206</td>\n",
       "      <td>0.938509</td>\n",
       "      <td>0.958657</td>\n",
       "      <td>0.973359</td>\n",
       "      <td>0.920496</td>\n",
       "    </tr>\n",
       "    <tr>\n",
       "      <th>2014-04-02</th>\n",
       "      <td>GOOG</td>\n",
       "      <td>0.901198</td>\n",
       "      <td>0.938509</td>\n",
       "      <td>0.958657</td>\n",
       "      <td>0.973359</td>\n",
       "      <td>0.920496</td>\n",
       "    </tr>\n",
       "    <tr>\n",
       "      <th>...</th>\n",
       "      <td>...</td>\n",
       "      <td>...</td>\n",
       "      <td>...</td>\n",
       "      <td>...</td>\n",
       "      <td>...</td>\n",
       "      <td>...</td>\n",
       "    </tr>\n",
       "    <tr>\n",
       "      <th>2020-02-14</th>\n",
       "      <td>MAXR</td>\n",
       "      <td>0.674088</td>\n",
       "      <td>0.883497</td>\n",
       "      <td>0.908467</td>\n",
       "      <td>0.963075</td>\n",
       "      <td>0.920365</td>\n",
       "    </tr>\n",
       "    <tr>\n",
       "      <th>2020-02-18</th>\n",
       "      <td>MAXR</td>\n",
       "      <td>0.652219</td>\n",
       "      <td>0.883497</td>\n",
       "      <td>0.908467</td>\n",
       "      <td>0.963075</td>\n",
       "      <td>0.920365</td>\n",
       "    </tr>\n",
       "    <tr>\n",
       "      <th>2020-02-19</th>\n",
       "      <td>MAXR</td>\n",
       "      <td>0.638954</td>\n",
       "      <td>0.883497</td>\n",
       "      <td>0.908467</td>\n",
       "      <td>0.963075</td>\n",
       "      <td>0.920365</td>\n",
       "    </tr>\n",
       "    <tr>\n",
       "      <th>2020-02-20</th>\n",
       "      <td>MAXR</td>\n",
       "      <td>0.647961</td>\n",
       "      <td>0.883497</td>\n",
       "      <td>0.908467</td>\n",
       "      <td>0.963075</td>\n",
       "      <td>0.920365</td>\n",
       "    </tr>\n",
       "    <tr>\n",
       "      <th>2020-02-21</th>\n",
       "      <td>MAXR</td>\n",
       "      <td>0.633359</td>\n",
       "      <td>0.883497</td>\n",
       "      <td>0.908467</td>\n",
       "      <td>0.963075</td>\n",
       "      <td>0.920365</td>\n",
       "    </tr>\n",
       "  </tbody>\n",
       "</table>\n",
       "<p>2426989 rows × 6 columns</p>\n",
       "</div>"
      ],
      "text/plain": [
       "           Ticker  Market Cap   Revenue  Gross Profit  Net Income  YoY Revenue\n",
       "Date                                                                          \n",
       "2014-03-27   GOOG    0.880509  0.938509      0.958657    0.973359     0.920496\n",
       "2014-03-28   GOOG    0.880589  0.938509      0.958657    0.973359     0.920496\n",
       "2014-03-31   GOOG    0.900680  0.938509      0.958657    0.973359     0.920496\n",
       "2014-04-01   GOOG    0.901206  0.938509      0.958657    0.973359     0.920496\n",
       "2014-04-02   GOOG    0.901198  0.938509      0.958657    0.973359     0.920496\n",
       "...           ...         ...       ...           ...         ...          ...\n",
       "2020-02-14   MAXR    0.674088  0.883497      0.908467    0.963075     0.920365\n",
       "2020-02-18   MAXR    0.652219  0.883497      0.908467    0.963075     0.920365\n",
       "2020-02-19   MAXR    0.638954  0.883497      0.908467    0.963075     0.920365\n",
       "2020-02-20   MAXR    0.647961  0.883497      0.908467    0.963075     0.920365\n",
       "2020-02-21   MAXR    0.633359  0.883497      0.908467    0.963075     0.920365\n",
       "\n",
       "[2426989 rows x 6 columns]"
      ]
     },
     "execution_count": 213,
     "metadata": {},
     "output_type": "execute_result"
    }
   ],
   "source": [
    "df_main"
   ]
  },
  {
   "cell_type": "code",
   "execution_count": 214,
   "id": "affecting-voluntary",
   "metadata": {},
   "outputs": [],
   "source": [
    "# convert to list of numpy arrays\n",
    "\n",
    "df_main = pd.pivot_table(df_main, index=['Ticker', 'Date']).reindex(columns=df_main.columns[1:]) # see https://stackoverflow.com/questions/36346071/pandas-pivot-table-changing-order-of-non-index-columns\n",
    "export = lambda x: x.to_numpy()\n",
    "dataset = df_main.groupby('Ticker').apply(export)"
   ]
  },
  {
   "cell_type": "code",
   "execution_count": 215,
   "id": "demographic-ultimate",
   "metadata": {},
   "outputs": [],
   "source": [
    "# convert to training data format\n",
    "\n",
    "full_dataset = []\n",
    "for i, stock_data in enumerate([dataset['UAL']]):\n",
    "    full_dataset += generate_sequences(stock_data) # see https://www.geeksforgeeks.org/python-ways-to-concatenate-two-lists/"
   ]
  },
  {
   "cell_type": "code",
   "execution_count": 216,
   "id": "french-inflation",
   "metadata": {},
   "outputs": [],
   "source": [
    "# convert to np array\n",
    "\n",
    "full_data = np.asarray(full_dataset)\n",
    "# np.save('saved/dataset', full_data)"
   ]
  },
  {
   "cell_type": "code",
   "execution_count": 217,
   "id": "italic-martin",
   "metadata": {},
   "outputs": [],
   "source": [
    "# load from npy file\n",
    "\n",
    "# full_data = np.load('saved/dataset.npy')"
   ]
  },
  {
   "cell_type": "code",
   "execution_count": 218,
   "id": "hourly-trance",
   "metadata": {},
   "outputs": [
    {
     "data": {
      "text/plain": [
       "(1698, 361, 5)"
      ]
     },
     "execution_count": 218,
     "metadata": {},
     "output_type": "execute_result"
    }
   ],
   "source": [
    "full_data.shape"
   ]
  },
  {
   "cell_type": "code",
   "execution_count": 219,
   "id": "piano-regard",
   "metadata": {},
   "outputs": [],
   "source": [
    "indices = np.arange(len(full_data))\n",
    "random.shuffle(indices)\n",
    "m = 2416\n",
    "X = full_data[indices[:m],:-1,:]\n",
    "Y = full_data[indices[:m],-1:,:]\n",
    "Y = Y.reshape(Y.shape[0], Y.shape[2])"
   ]
  },
  {
   "cell_type": "markdown",
   "id": "vanilla-policy",
   "metadata": {},
   "source": [
    "#### Model Attempt 5"
   ]
  },
  {
   "cell_type": "code",
   "execution_count": 220,
   "id": "smaller-fiction",
   "metadata": {},
   "outputs": [],
   "source": [
    "def model5_v1():\n",
    "    \n",
    "    \"\"\"\n",
    "    This model is based on model v4.1 but extends the input to 5 inputs and 5 outputs. Designed with a larger dataset\n",
    "    in mind and additional computation power.\n",
    "    \"\"\"\n",
    "    \n",
    "    X_input = Input(shape=(T_x, n_inputs))\n",
    "    X = LSTM(units=128, return_sequences=True)(X_input)\n",
    "    X = TimeDistributed(Dense(units=256))(X)\n",
    "    X = LSTM(units=256, return_sequences=True)(X)\n",
    "    X = TimeDistributed(Dense(units=256))(X)\n",
    "    X = LSTM(units=128)(X)\n",
    "    X = Dropout(0.3)(X)\n",
    "    X = Dense(units=128)(X)\n",
    "    output = Dense(units=n_values)(X)\n",
    "    \n",
    "    model = Model(inputs=X_input, outputs=output)\n",
    "    \n",
    "    return model"
   ]
  },
  {
   "cell_type": "code",
   "execution_count": 221,
   "id": "colored-broadcasting",
   "metadata": {
    "tags": []
   },
   "outputs": [],
   "source": [
    "def model5():\n",
    "    \n",
    "    \"\"\"\n",
    "    This model is based on model v4.1 but extends the input to 5 inputs and 5 outputs. Designed with a larger dataset\n",
    "    in mind and additional computation power.\n",
    "    \"\"\"\n",
    "    \n",
    "    X_input = Input(shape=(T_x, n_inputs))\n",
    "    X = LSTM(units=128, return_sequences=True)(X_input)\n",
    "    X = TimeDistributed(Dense(units=256))(X)\n",
    "    X = LSTM(units=128)(X)\n",
    "    X = Dropout(0.2)(X)\n",
    "    X = Dense(units=128)(X)\n",
    "    output = Dense(units=n_values)(X)\n",
    "    \n",
    "    model = Model(inputs=X_input, outputs=output)\n",
    "    \n",
    "    return model"
   ]
  },
  {
   "cell_type": "code",
   "execution_count": 222,
   "id": "korean-combining",
   "metadata": {
    "jupyter": {
     "source_hidden": true
    },
    "tags": []
   },
   "outputs": [],
   "source": [
    "# consider using a data generator, see https://stanford.edu/~shervine/blog/keras-how-to-generate-data-on-the-fly\n",
    "\n",
    "class DataGenerator(Sequence):\n",
    "    'Generates data for Keras'\n",
    "    def __init__(self, list_IDs, labels, batch_size=32, dim=(32,32,32), n_channels=1,\n",
    "                 n_classes=10, shuffle=True):\n",
    "        'Initialization'\n",
    "        self.dim = dim\n",
    "        self.batch_size = batch_size\n",
    "        self.labels = labels\n",
    "        self.list_IDs = list_IDs\n",
    "        self.n_channels = n_channels\n",
    "        self.n_classes = n_classes\n",
    "        self.shuffle = shuffle\n",
    "        self.on_epoch_end()\n",
    "\n",
    "    def __len__(self):\n",
    "        'Denotes the number of batches per epoch'\n",
    "        return int(np.floor(len(self.list_IDs) / self.batch_size))\n",
    "\n",
    "    def __getitem__(self, index):\n",
    "        'Generate one batch of data'\n",
    "        # Generate indexes of the batch\n",
    "        indexes = self.indexes[index*self.batch_size:(index+1)*self.batch_size]\n",
    "\n",
    "        # Find list of IDs\n",
    "        list_IDs_temp = [self.list_IDs[k] for k in indexes]\n",
    "\n",
    "        # Generate data\n",
    "        X, y = self.__data_generation(list_IDs_temp)\n",
    "\n",
    "        return X, y\n",
    "\n",
    "    def on_epoch_end(self):\n",
    "        'Updates indexes after each epoch'\n",
    "        self.indexes = np.arange(len(self.list_IDs))\n",
    "        if self.shuffle == True:\n",
    "            np.random.shuffle(self.indexes)\n",
    "\n",
    "    def __data_generation(self, list_IDs_temp):\n",
    "        'Generates data containing batch_size samples' # X : (n_samples, *dim, n_channels)\n",
    "        # Initialization\n",
    "        X = np.empty((self.batch_size, *self.dim, self.n_channels))\n",
    "        y = np.empty((self.batch_size), dtype=int)\n",
    "\n",
    "        # Generate data\n",
    "        for i, ID in enumerate(list_IDs_temp):\n",
    "            # Store sample\n",
    "            X[i,] = np.load('data/' + ID + '.npy')\n",
    "\n",
    "            # Store class\n",
    "            y[i] = self.labels[ID]\n",
    "\n",
    "        return X, keras.utils.to_categorical(y, num_classes=self.n_classes)"
   ]
  },
  {
   "cell_type": "code",
   "execution_count": 223,
   "id": "italic-charleston",
   "metadata": {
    "tags": []
   },
   "outputs": [],
   "source": [
    "model = model5_v1()\n",
    "model.compile(optimizer='adam', loss=custom_loss_function(loss='mse', weights=[2,1,1,1,1]), metrics=['mape']) # consider loss='msle' (mean squared logarithmic error, https://keras.io/api/losses/regression_losses/#meansquaredlogarithmicerror-class), or log during preprocessing (see https://stats.stackexchange.com/questions/213897/best-way-to-optimize-mape)"
   ]
  },
  {
   "cell_type": "code",
   "execution_count": null,
   "id": "pacific-hepatitis",
   "metadata": {
    "tags": []
   },
   "outputs": [
    {
     "name": "stdout",
     "output_type": "stream",
     "text": [
      "Train on 1698 samples\n",
      "Epoch 1/15\n",
      "  32/1698 [..............................] - ETA: 2:56 - loss: 0.0033 - mape: 5.3424"
     ]
    }
   ],
   "source": [
    "model.fit(X, Y, batch_size=32, epochs=15)"
   ]
  },
  {
   "cell_type": "code",
   "execution_count": 225,
   "id": "temporal-lotus",
   "metadata": {},
   "outputs": [],
   "source": [
    "notify(\"Model\", \"Model training complete\")"
   ]
  },
  {
   "cell_type": "code",
   "execution_count": 226,
   "id": "further-auction",
   "metadata": {},
   "outputs": [],
   "source": [
    "# model.save('saved/weights_m1.h5', overwrite=False)"
   ]
  },
  {
   "cell_type": "markdown",
   "id": "knowing-scholarship",
   "metadata": {},
   "source": [
    "#### Output and Prediction"
   ]
  },
  {
   "cell_type": "code",
   "execution_count": null,
   "id": "independent-probe",
   "metadata": {
    "tags": []
   },
   "outputs": [],
   "source": [
    "# X2 = full_data[indices[m:m+0],:-1,:]\n",
    "# Y2 = full_data[indices[m:m+0],-1:,:]\n",
    "# Y2 = Y2.reshape(Y2.shape[0], Y2.shape[2])\n",
    "# model.evaluate(X2, Y2, verbose=0)"
   ]
  },
  {
   "cell_type": "code",
   "execution_count": null,
   "id": "opened-partner",
   "metadata": {
    "tags": []
   },
   "outputs": [],
   "source": [
    "# X3 = full_data[indices[1000],:-1,:]\n",
    "# Y3 = full_data[indices[1000],-1:,:]\n",
    "# print(sc.inverse_transform(model.predict(X3.reshape(1, *X3.shape))))\n",
    "# print(sc.inverse_transform(X3))\n",
    "# print(sc.inverse_transform(Y3))"
   ]
  },
  {
   "cell_type": "code",
   "execution_count": 246,
   "id": "transparent-europe",
   "metadata": {
    "tags": []
   },
   "outputs": [],
   "source": [
    "n_backtest = 2000\n",
    "n_predictions = 50\n",
    "\n",
    "sample_stock = 'UAL'\n",
    "sample_data = dataset[sample_stock].copy()\n",
    "rolling_input = sample_data[(-n_forward-n_trailing+1)-n_backtest:-n_backtest] # selects all timesteps necessary for n_backtest predictions to run, and then enough to continue in a cycle (i.e., n_trailing+n_forward-1)\n",
    "sample_output = []\n",
    "for i in range(n_predictions):\n",
    "    sample_input = np.array(rolling_input[:n_trailing]) # selects the first n_trailing timesteps to make the next prediction\n",
    "    sample_input = sample_input.reshape(1, *sample_input.shape) # reshape into model input format\n",
    "    sample_output.append(model.predict(sample_input).ravel())\n",
    "    rolling_input[:-1] = rolling_input[1:] # shift one to the left\n",
    "    rolling_input[-1:] = sample_output[i]\n",
    "#     print(sample_input[0,0], \", \", sample_output[i])\n",
    "sample_output = np.array(sample_output)"
   ]
  },
  {
   "cell_type": "code",
   "execution_count": 228,
   "id": "closing-therapist",
   "metadata": {},
   "outputs": [],
   "source": [
    "notify(\"Model\", \"Model prediction complete\")"
   ]
  },
  {
   "cell_type": "code",
   "execution_count": null,
   "id": "phantom-visiting",
   "metadata": {},
   "outputs": [],
   "source": [
    "sample_output[0]"
   ]
  },
  {
   "cell_type": "code",
   "execution_count": 247,
   "id": "upper-association",
   "metadata": {},
   "outputs": [
    {
     "data": {
      "text/plain": [
       "[<matplotlib.lines.Line2D at 0x7fef93c199d0>]"
      ]
     },
     "execution_count": 247,
     "metadata": {},
     "output_type": "execute_result"
    },
    {
     "data": {
      "image/png": "[encoded data removed]",
      "text/plain": [
       "<Figure size 432x288 with 1 Axes>"
      ]
     },
     "metadata": {
      "needs_background": "light"
     },
     "output_type": "display_data"
    }
   ],
   "source": [
    "plt.plot(sample_output[:,0])"
   ]
  },
  {
   "cell_type": "code",
   "execution_count": 254,
   "id": "disturbed-warren",
   "metadata": {},
   "outputs": [
    {
     "data": {
      "text/plain": [
       "[<matplotlib.lines.Line2D at 0x7feda6f39d90>]"
      ]
     },
     "execution_count": 254,
     "metadata": {},
     "output_type": "execute_result"
    },
    {
     "data": {
      "image/png": "[encoded data removed]",
      "text/plain": [
       "<Figure size 432x288 with 1 Axes>"
      ]
     },
     "metadata": {
      "needs_background": "light"
     },
     "output_type": "display_data"
    }
   ],
   "source": [
    "val = 0\n",
    "output = np.append((dataset[sample_stock][:-n_backtest-1])[:,val], sample_output[:,val])\n",
    "sample_Y = (dataset[sample_stock])[:,val]\n",
    "plt.plot(sample_Y)\n",
    "plt.plot(output)"
   ]
  },
  {
   "cell_type": "code",
   "execution_count": 174,
   "id": "immune-moisture",
   "metadata": {},
   "outputs": [
    {
     "data": {
      "text/plain": [
       "array([9.35229584e+10, 1.00984897e+11, 9.70051963e+10, ...,\n",
       "       1.35184830e+12, 1.39000249e+12, 1.41905567e+12])"
      ]
     },
     "execution_count": 174,
     "metadata": {},
     "output_type": "execute_result"
    }
   ],
   "source": []
  },
  {
   "cell_type": "code",
   "execution_count": 89,
   "id": "international-findings",
   "metadata": {},
   "outputs": [
    {
     "data": {
      "text/plain": [
       "array([[ 1.22219426e+12, -2.54792083e+10,  3.53638495e+10,\n",
       "        -2.63163946e+10,  2.83614697e-01],\n",
       "       [ 1.22219426e+12, -2.54704848e+10,  3.53638495e+10,\n",
       "        -2.63163946e+10,  2.83614697e-01],\n",
       "       [ 1.22219426e+12, -2.54606092e+10,  3.53638495e+10,\n",
       "        -2.63163946e+10,  2.83614697e-01],\n",
       "       ...,\n",
       "       [ 1.04523554e+12, -2.59971156e+10,  3.47337538e+10,\n",
       "        -2.73532582e+10,  3.23403008e-01],\n",
       "       [ 1.04523554e+12, -2.59972559e+10,  3.47337538e+10,\n",
       "        -2.73532582e+10,  3.23403008e-01],\n",
       "       [ 1.04548715e+12, -2.59983508e+10,  3.47342590e+10,\n",
       "        -2.73522565e+10,  4.24695303e-01]])"
      ]
     },
     "execution_count": 89,
     "metadata": {},
     "output_type": "execute_result"
    }
   ],
   "source": [
    "sc.inverse_transform(df_main)"
   ]
  },
  {
   "cell_type": "code",
   "execution_count": 84,
   "id": "imported-jaguar",
   "metadata": {},
   "outputs": [
    {
     "data": {
      "text/plain": [
       "[<matplotlib.lines.Line2D at 0x7fa220579390>]"
      ]
     },
     "execution_count": 84,
     "metadata": {},
     "output_type": "execute_result"
    },
    {
     "data": {
      "image/png": "[encoded data removed]",
      "text/plain": [
       "<Figure size 432x288 with 1 Axes>"
      ]
     },
     "metadata": {
      "needs_background": "light"
     },
     "output_type": "display_data"
    }
   ],
   "source": [
    "# plt.plot(access_ticker(df_prices, 'AAPL')['Market Cap'])\n",
    "plt.plot(dataset[sample_stock][:,1])"
   ]
  },
  {
   "cell_type": "code",
   "execution_count": 924,
   "id": "twelve-crash",
   "metadata": {},
   "outputs": [
    {
     "ename": "AttributeError",
     "evalue": "'list' object has no attribute 'shape'",
     "output_type": "error",
     "traceback": [
      "\u001b[0;31m---------------------------------------------------------------------------\u001b[0m",
      "\u001b[0;31mAttributeError\u001b[0m                            Traceback (most recent call last)",
      "\u001b[0;32m<ipython-input-924-0961c7c8b344>\u001b[0m in \u001b[0;36m<module>\u001b[0;34m\u001b[0m\n\u001b[0;32m----> 1\u001b[0;31m \u001b[0msample_output\u001b[0m\u001b[0;34m.\u001b[0m\u001b[0mshape\u001b[0m\u001b[0;34m\u001b[0m\u001b[0;34m\u001b[0m\u001b[0m\n\u001b[0m",
      "\u001b[0;31mAttributeError\u001b[0m: 'list' object has no attribute 'shape'"
     ]
    }
   ],
   "source": [
    "sample_output.shape"
   ]
  },
  {
   "cell_type": "code",
   "execution_count": 39,
   "id": "hawaiian-breakdown",
   "metadata": {},
   "outputs": [
    {
     "name": "stdout",
     "output_type": "stream",
     "text": [
      "(1, 180, 1)\n"
     ]
    }
   ],
   "source": [
    "aaplmktcap = get_market_cap(prices, 'AAPL')\n",
    "predictions = np.zeros((1000, 1))\n",
    "data = np.array(aaplmktcap[-n_lag-n_trailing-1300:-n_lag-1300])\n",
    "data = data.reshape(1, data.shape[0], 1)\n",
    "print(data.shape)\n",
    "for i in range(1000):\n",
    "    predictions[i] = model.predict(data)\n",
    "    data[:,:-1,:] = data[:,1:,:]\n",
    "    data[:,-1:,:] = predictions[i]"
   ]
  },
  {
   "cell_type": "code",
   "execution_count": 40,
   "id": "union-referral",
   "metadata": {},
   "outputs": [
    {
     "data": {
      "text/plain": [
       "[<matplotlib.lines.Line2D at 0x7fc0d715f210>]"
      ]
     },
     "execution_count": 40,
     "metadata": {},
     "output_type": "execute_result"
    },
    {
     "data": {
      "image/png": "[encoded data removed]",
      "text/plain": [
       "<Figure size 432x288 with 1 Axes>"
      ]
     },
     "metadata": {
      "needs_background": "light"
     },
     "output_type": "display_data"
    }
   ],
   "source": [
    "alldata = np.append(aaplmktcap, predictions)\n",
    "sequence2 = np.append(aaplmktcap[:-1300], predictions)\n",
    "plt.plot(aaplmktcap)\n",
    "plt.plot(sequence2)"
   ]
  },
  {
   "cell_type": "markdown",
   "id": "stunning-pierce",
   "metadata": {},
   "source": [
    "#### Model Attempt 4\n",
    "\n",
    "Data preparation methods below are for model versions up to 4.1. Defined methods are for model versions up to 3.0."
   ]
  },
  {
   "cell_type": "code",
   "execution_count": null,
   "id": "designing-livestock",
   "metadata": {
    "scrolled": true,
    "tags": []
   },
   "outputs": [],
   "source": [
    "# load prices of shares from the daily share price values\n",
    "# for with open as f documentation, see https://likegeeks.com/numpy-loadtxt-tutorial\n",
    "\n",
    "with open(shareprices_path) as f:\n",
    "    cols = f.readline().split(';')\n",
    "    sample = f.readline().split(';')\n",
    "\n",
    "# identify columns of interest and indices\n",
    "\n",
    "col_names = ['Ticker', 'SimFinId', 'Date', '\"Adj. Close\"', '\"Shares Outstanding\"\\n']\n",
    "col_nums = []\n",
    "for name in col_names:\n",
    "    col_nums.append(cols.index(name))\n",
    "col_names = ['Ticker', 'SimFinId', 'Date', 'Price', 'Shares']\n",
    "    \n",
    "# for cols.index documentation, see https://stackoverflow.com/questions/176918/finding-the-index-of-an-item-in-a-list\n",
    "# using np.genfromtxt instead of np.loadtxt because more flexibility with datatype (and no issue with floats)\n",
    "\n",
    "prices = np.genfromtxt(open(shareprices_path), \n",
    "                    delimiter=';', \n",
    "                    skip_header=1, \n",
    "                    usecols=(col_nums), \n",
    "                    dtype={'names': col_names,\n",
    "                     'formats': ('U6', 'i8', 'U10', 'f8', 'i8')})"
   ]
  },
  {
   "cell_type": "code",
   "execution_count": null,
   "id": "impaired-malaysia",
   "metadata": {
    "scrolled": true,
    "tags": []
   },
   "outputs": [],
   "source": [
    "def get_stock_price(prices, ticker):\n",
    "    \n",
    "    \"\"\"\n",
    "    Retrieves the stock price of a given ticker across time.\n",
    "    \n",
    "    Parameters:\n",
    "    prices -- numpy array of stock prices with ticker, price, and shares outstanding\n",
    "    ticker -- string, ticker for stock\n",
    "    \n",
    "    Return:\n",
    "    price -- numpy array of price\n",
    "    \"\"\"\n",
    "    \n",
    "    price = marketcap = prices[prices['Ticker']==ticker]['Price']\n",
    "    \n",
    "    return price"
   ]
  },
  {
   "cell_type": "code",
   "execution_count": 5,
   "id": "secure-alpha",
   "metadata": {
    "scrolled": true,
    "tags": []
   },
   "outputs": [],
   "source": [
    "def get_market_cap(prices, ticker, threshold=0.5):\n",
    "    \n",
    "    \"\"\"\n",
    "    Retrieves the market cap of a given ticker across time.\n",
    "    \n",
    "    Parameters:\n",
    "    prices -- numpy array of stock prices with ticker, price, and shares outstanding\n",
    "    ticker -- string, ticker for stock\n",
    "    threshold -- minimum market cap acceptable in output, in order to add robustness (default 0.5B)\n",
    "    \n",
    "    Return:\n",
    "    marketcap -- numpy array of market cap, in billions\n",
    "    \"\"\"\n",
    "    \n",
    "    marketcap = prices[prices['Ticker']==ticker]['Price'] * prices[prices['Ticker']==ticker]['Shares'] / 1000000000\n",
    "    marketcap = marketcap[marketcap>threshold]\n",
    "    \n",
    "    return marketcap"
   ]
  },
  {
   "cell_type": "code",
   "execution_count": 6,
   "id": "smoking-secretariat",
   "metadata": {
    "scrolled": true,
    "tags": []
   },
   "outputs": [],
   "source": [
    "def prep_dataset(size):\n",
    "    \n",
    "    \"\"\"\n",
    "    Creates the dataset for training\n",
    "    \"\"\"\n",
    "    \n",
    "    # finds all stock tickers and randomly selects\n",
    "    \n",
    "    tickers = list(set(prices['Ticker']))\n",
    "    ticker_set = random.sample(tickers, k=size)\n",
    "    \n",
    "    divisor = int(MAX_DAYS/T_x) # reduces dataset by a factor of divisor to fit within T_x timesteps\n",
    "    \n",
    "    # initialize output variables\n",
    "    \n",
    "    full_dataset = np.zeros((len(ticker_set), T_x+n_lag)) # very large number temporarily\n",
    "    X = np.zeros((len(ticker_set), T_x))\n",
    "    Y = np.zeros((len(ticker_set), T_x))\n",
    "    \n",
    "    # loop through tickers to compile dataset\n",
    "    \n",
    "    for i, ticker in enumerate(ticker_set):\n",
    "        \n",
    "        # retrieve market cap and number of values\n",
    "        \n",
    "        marketcap = get_market_cap(prices, ticker, threshold=2.0)\n",
    "        n_prices = len(marketcap)\n",
    "        \n",
    "        marketcap = marketcap[::divisor] # reduces length of array by a factor of dataset to keep within T_x timesteps\n",
    "        n_prices = len(marketcap)\n",
    "        \n",
    "        # apply values to dataset and variables\n",
    "        \n",
    "        full_dataset[i, full_dataset.shape[1]-n_prices:] = marketcap\n",
    "    \n",
    "#     full_dataset = sc.fit_transform(full_dataset)\n",
    "    \n",
    "    for i, ticker in enumerate(ticker_set):\n",
    "        X[i, :] = full_dataset[i, :full_dataset.shape[1]-n_lag]\n",
    "        Y[i] = full_dataset[i, n_lag:]\n",
    "    \n",
    "    X = X.reshape((X.shape[0], X.shape[1], 1))\n",
    "    Y = Y.reshape((Y.shape[0], Y.shape[1], 1))\n",
    "    \n",
    "    return full_dataset, X, Y, ticker_set"
   ]
  },
  {
   "cell_type": "code",
   "execution_count": 34,
   "id": "controversial-college",
   "metadata": {
    "scrolled": true,
    "tags": []
   },
   "outputs": [],
   "source": [
    "aaplmktcap = get_market_cap(prices, 'AAPL')"
   ]
  },
  {
   "cell_type": "code",
   "execution_count": 35,
   "id": "smooth-radar",
   "metadata": {
    "collapsed": true,
    "jupyter": {
     "outputs_hidden": true
    },
    "scrolled": true,
    "tags": []
   },
   "outputs": [
    {
     "name": "stdout",
     "output_type": "stream",
     "text": [
      "[[ 105.84970813]\n",
      " [ 105.09722205]\n",
      " [ 106.85302289]\n",
      " ...\n",
      " [1070.9424848 ]\n",
      " [1062.8916016 ]\n",
      " [ 995.3341904 ]]\n"
     ]
    }
   ],
   "source": [
    "num_days_aapl = len(aaplmktcap)\n",
    "dataset = np.zeros((num_days_aapl-n_trailing-n_lag+1, n_trailing+1)) # make sure the shape of np array is correct\n",
    "for i in range(num_days_aapl-n_trailing-n_lag+1):\n",
    "    dataset[i] = np.append(aaplmktcap[i:i+n_trailing], aaplmktcap[i+n_trailing+n_lag-1]) # make sure to include [start:end] correct syntax\n",
    "X = dataset[:,:-1]\n",
    "Y = dataset[:,-1:]\n",
    "print(Y)"
   ]
  },
  {
   "cell_type": "code",
   "execution_count": 36,
   "id": "auburn-wallpaper",
   "metadata": {
    "scrolled": true,
    "tags": []
   },
   "outputs": [],
   "source": [
    "def model4():\n",
    "    \n",
    "    \"\"\"\n",
    "    Uses an LSTM model with dense layers to predict n_lag days in advance, distinct from other models in only yielding one prediction.\n",
    "    Version: 4.1\n",
    "    \"\"\"\n",
    "    \n",
    "    X_input = Input(shape=(T_x, n_inputs))\n",
    "    X = LSTM(units=128, return_sequences=True)(X_input)\n",
    "    X = Dense(units=256)(X)\n",
    "    X = LSTM(units=128)(X)\n",
    "    X = Dropout(0.2)(X)\n",
    "    X = Dense(units=64)(X)\n",
    "    output = Dense(units=n_values, activation='relu')(X)\n",
    "    \n",
    "    model = Model(inputs=X_input, outputs=output)\n",
    "    \n",
    "    return model"
   ]
  },
  {
   "cell_type": "code",
   "execution_count": null,
   "id": "familiar-bundle",
   "metadata": {},
   "outputs": [],
   "source": [
    "def model4_v0():\n",
    "    X_input = Input(shape=(T_x, n_inputs))\n",
    "    X = LSTM(units=128)(X_input)\n",
    "    output = Dense(units=n_values, activation='relu')(X)\n",
    "    model = Model(inputs=X_input, outputs=output)\n",
    "    return model"
   ]
  },
  {
   "cell_type": "code",
   "execution_count": 37,
   "id": "posted-anatomy",
   "metadata": {
    "tags": []
   },
   "outputs": [
    {
     "name": "stdout",
     "output_type": "stream",
     "text": [
      "Model: \"model_3\"\n",
      "_________________________________________________________________\n",
      "Layer (type)                 Output Shape              Param #   \n",
      "=================================================================\n",
      "input_5 (InputLayer)         [(None, 180, 1)]          0         \n",
      "_________________________________________________________________\n",
      "lstm_6 (LSTM)                (None, 180, 128)          66560     \n",
      "_________________________________________________________________\n",
      "dense_8 (Dense)              (None, 180, 256)          33024     \n",
      "_________________________________________________________________\n",
      "lstm_7 (LSTM)                (None, 128)               197120    \n",
      "_________________________________________________________________\n",
      "dropout_1 (Dropout)          (None, 128)               0         \n",
      "_________________________________________________________________\n",
      "dense_9 (Dense)              (None, 64)                8256      \n",
      "_________________________________________________________________\n",
      "dense_10 (Dense)             (None, 1)                 65        \n",
      "=================================================================\n",
      "Total params: 305,025\n",
      "Trainable params: 305,025\n",
      "Non-trainable params: 0\n",
      "_________________________________________________________________\n"
     ]
    }
   ],
   "source": [
    "model = model4()\n",
    "model.summary()\n",
    "model.compile(optimizer='adam', loss='mean_squared_error', metrics=['mean_squared_error'])"
   ]
  },
  {
   "cell_type": "code",
   "execution_count": 38,
   "id": "backed-entry",
   "metadata": {
    "scrolled": true,
    "tags": []
   },
   "outputs": [
    {
     "name": "stdout",
     "output_type": "stream",
     "text": [
      "Train on 2695 samples\n",
      "Epoch 1/15\n",
      "2695/2695 [==============================] - 83s 31ms/sample - loss: 305480.1206 - mean_squared_error: 305480.1562\n",
      "Epoch 2/15\n",
      "2695/2695 [==============================] - 78s 29ms/sample - loss: 131569.7970 - mean_squared_error: 131569.8281\n",
      "Epoch 3/15\n",
      "2695/2695 [==============================] - 77s 28ms/sample - loss: 75596.6667 - mean_squared_error: 75596.6562\n",
      "Epoch 4/15\n",
      "2695/2695 [==============================] - 78s 29ms/sample - loss: 37749.7734 - mean_squared_error: 37749.7812\n",
      "Epoch 5/15\n",
      "2695/2695 [==============================] - 77s 29ms/sample - loss: 12667.9320 - mean_squared_error: 12667.9307\n",
      "Epoch 6/15\n",
      "2695/2695 [==============================] - 78s 29ms/sample - loss: 7951.2288 - mean_squared_error: 7951.2290\n",
      "Epoch 7/15\n",
      "2695/2695 [==============================] - 78s 29ms/sample - loss: 6831.0970 - mean_squared_error: 6831.0981\n",
      "Epoch 8/15\n",
      "2695/2695 [==============================] - 79s 29ms/sample - loss: 5760.5596 - mean_squared_error: 5760.5601\n",
      "Epoch 9/15\n",
      "2695/2695 [==============================] - 79s 29ms/sample - loss: 4952.2735 - mean_squared_error: 4952.2725\n",
      "Epoch 10/15\n",
      "2695/2695 [==============================] - 79s 29ms/sample - loss: 4608.1554 - mean_squared_error: 4608.1548\n",
      "Epoch 11/15\n",
      "2695/2695 [==============================] - 79s 29ms/sample - loss: 3971.0367 - mean_squared_error: 3971.0366\n",
      "Epoch 12/15\n",
      "2695/2695 [==============================] - 79s 29ms/sample - loss: 4709.5766 - mean_squared_error: 4709.5771\n",
      "Epoch 13/15\n",
      "2695/2695 [==============================] - 79s 29ms/sample - loss: 4177.6280 - mean_squared_error: 4177.6284\n",
      "Epoch 14/15\n",
      "2695/2695 [==============================] - 83s 31ms/sample - loss: 3799.7775 - mean_squared_error: 3799.7778\n",
      "Epoch 15/15\n",
      "2695/2695 [==============================] - 80s 30ms/sample - loss: 3677.2194 - mean_squared_error: 3677.2200\n"
     ]
    },
    {
     "data": {
      "text/plain": [
       "<tensorflow.python.keras.callbacks.History at 0x7fc3c1b9ded0>"
      ]
     },
     "execution_count": 38,
     "metadata": {},
     "output_type": "execute_result"
    }
   ],
   "source": [
    "X = X.reshape(X.shape[0], X.shape[1], 1)\n",
    "model.fit(X, Y, batch_size=32, epochs=15) # small batch size (batch_size < 64) helps"
   ]
  },
  {
   "cell_type": "code",
   "execution_count": 39,
   "id": "greatest-church",
   "metadata": {},
   "outputs": [
    {
     "name": "stdout",
     "output_type": "stream",
     "text": [
      "(1, 180, 1)\n"
     ]
    }
   ],
   "source": [
    "aaplmktcap = get_market_cap(prices, 'AAPL')\n",
    "predictions = np.zeros((1000, 1))\n",
    "data = np.array(aaplmktcap[-n_lag-n_trailing-1300:-n_lag-1300])\n",
    "data = data.reshape(1, data.shape[0], 1)\n",
    "print(data.shape)\n",
    "for i in range(1000):\n",
    "    predictions[i] = model.predict(data)\n",
    "    data[:,:-1,:] = data[:,1:,:]\n",
    "    data[:,-1:,:] = predictions[i]"
   ]
  },
  {
   "cell_type": "code",
   "execution_count": 40,
   "id": "invisible-commissioner",
   "metadata": {},
   "outputs": [
    {
     "data": {
      "text/plain": [
       "[<matplotlib.lines.Line2D at 0x7fc0d715f210>]"
      ]
     },
     "execution_count": 40,
     "metadata": {},
     "output_type": "execute_result"
    },
    {
     "data": {
      "image/png": "[encoded data removed]",
      "text/plain": [
       "<Figure size 432x288 with 1 Axes>"
      ]
     },
     "metadata": {
      "needs_background": "light"
     },
     "output_type": "display_data"
    }
   ],
   "source": [
    "alldata = np.append(aaplmktcap, predictions)\n",
    "sequence2 = np.append(aaplmktcap[:-1300], predictions)\n",
    "plt.plot(aaplmktcap)\n",
    "plt.plot(sequence2)"
   ]
  }
 ],
 "metadata": {
  "kernelspec": {
   "display_name": "Python 3",
   "language": "python",
   "name": "python3"
  },
  "language_info": {
   "codemirror_mode": {
    "name": "ipython",
    "version": 3
   },
   "file_extension": ".py",
   "mimetype": "text/x-python",
   "name": "python",
   "nbconvert_exporter": "python",
   "pygments_lexer": "ipython3",
   "version": "3.7.10"
  },
  "toc-autonumbering": false,
  "toc-showcode": false,
  "toc-showmarkdowntxt": false
 },
 "nbformat": 4,
 "nbformat_minor": 5
}
