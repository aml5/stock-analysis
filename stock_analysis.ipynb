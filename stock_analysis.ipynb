{
 "cells": [
  {
   "cell_type": "markdown",
   "id": "qualified-basics",
   "metadata": {},
   "source": [
    "### RNN Model for Stock Analysis\n",
    "\n",
    "1. import data from csv datsets\n",
    "    - prices\n",
    "    - sector and industry \n",
    "    - revenue\n",
    "    - profit\n",
    "2. compile into timestep sequence\n",
    "3. create lagged y-value set\n",
    "4. create model\n",
    "    - lstm cell\n",
    "    - dense layer\n",
    "    - consider another lstm and dense layer\n",
    "    - output\n",
    "5. run model based on following inputs for each time step\n",
    "    - market cap\n",
    "    - industry (one-hot vector)\n",
    "    - sector (one-hot vector)\n",
    "    - revenue\n",
    "    - profit\n",
    "6. predict\n",
    "    - run model up until the known value is done\n",
    "    - iterate through following values feeding previous output and hidden state"
   ]
  },
  {
   "cell_type": "markdown",
   "id": "compressed-blackberry",
   "metadata": {},
   "source": [
    "#### Initialize definitions"
   ]
  },
  {
   "cell_type": "code",
   "execution_count": 1,
   "id": "herbal-magnet",
   "metadata": {
    "scrolled": true,
    "tags": []
   },
   "outputs": [],
   "source": [
    "import numpy as np\n",
    "import random\n",
    "import matplotlib.pyplot as plt\n",
    "from sklearn.preprocessing import MinMaxScaler\n",
    "\n",
    "import tensorflow as tf\n",
    "\n",
    "# using tensorflow.keras may be necessary, keras by itself may not work\n",
    "from tensorflow.keras.layers import Bidirectional, Concatenate, Permute, Dot, Input, LSTM, Multiply, TimeDistributed, Reshape, Dropout\n",
    "from tensorflow.keras.layers import RepeatVector, Dense, Activation, Lambda\n",
    "from tensorflow.keras.optimizers import Adam\n",
    "from tensorflow.keras.models import load_model, Model\n",
    "import tensorflow.keras.backend as K"
   ]
  },
  {
   "cell_type": "code",
   "execution_count": 33,
   "id": "promising-china",
   "metadata": {
    "scrolled": true,
    "tags": []
   },
   "outputs": [],
   "source": [
    "# define constants and filepaths\n",
    "\n",
    "shareprices_path = 'us-shareprices-daily.csv'\n",
    "# shareprices_path = 'us-shareprices-latest.csv' # latest data only, helps shorten load time while developing\n",
    "\n",
    "MAX_DAYS = 9000 # number of total days possible for a stock\n",
    "T_x = 180 # number of timesteps\n",
    "T_y = 1 # number of outputs, T_x = T_y, or 1, depending on the architecture\n",
    "n_a = 64 # number of hidden activation units\n",
    "n_values = 1 # number of output predicted variables\n",
    "n_trailing = T_x # number of trailing days used for prediction\n",
    "n_lag = 15 # number of timesteps in advance for forward prediction\n",
    "m = 1500 # number of training examples\n",
    "\n",
    "sc = MinMaxScaler(feature_range=(0,1))"
   ]
  },
  {
   "cell_type": "code",
   "execution_count": 3,
   "id": "compressed-kazakhstan",
   "metadata": {
    "scrolled": true,
    "tags": []
   },
   "outputs": [],
   "source": [
    "# load prices of shares from the daily share price values\n",
    "# for with open as f documentation, see https://likegeeks.com/numpy-loadtxt-tutorial\n",
    "\n",
    "with open(shareprices_path) as f:\n",
    "    cols = f.readline().split(';')\n",
    "    sample = f.readline().split(';')\n",
    "\n",
    "# identify columns of interest and indices\n",
    "\n",
    "col_names = ['Ticker', 'SimFinId', 'Date', '\"Adj. Close\"', '\"Shares Outstanding\"\\n']\n",
    "col_nums = []\n",
    "for name in col_names:\n",
    "    col_nums.append(cols.index(name))\n",
    "col_names = ['Ticker', 'SimFinId', 'Date', 'Price', 'Shares']\n",
    "    \n",
    "# for cols.index documentation, see https://stackoverflow.com/questions/176918/finding-the-index-of-an-item-in-a-list\n",
    "# using np.genfromtxt instead of np.loadtxt because more flexibility with datatype (and no issue with floats)\n",
    "\n",
    "prices = np.genfromtxt(open(shareprices_path), \n",
    "                    delimiter=';', \n",
    "                    skip_header=1, \n",
    "                    usecols=(col_nums), \n",
    "                    dtype={'names': col_names,\n",
    "                     'formats': ('U6', 'i8', 'U10', 'f8', 'i8')})"
   ]
  },
  {
   "cell_type": "code",
   "execution_count": 4,
   "id": "loving-grove",
   "metadata": {
    "scrolled": true,
    "tags": []
   },
   "outputs": [],
   "source": [
    "def get_stock_price(prices, ticker):\n",
    "    \n",
    "    \"\"\"\n",
    "    Retrieves the stock price of a given ticker across time.\n",
    "    \n",
    "    Parameters:\n",
    "    prices -- numpy array of stock prices with ticker, price, and shares outstanding\n",
    "    ticker -- string, ticker for stock\n",
    "    \n",
    "    Return:\n",
    "    price -- numpy array of price\n",
    "    \"\"\"\n",
    "    \n",
    "    price = marketcap = prices[prices['Ticker']==ticker]['Price']\n",
    "    \n",
    "    return price"
   ]
  },
  {
   "cell_type": "code",
   "execution_count": 5,
   "id": "limited-navigation",
   "metadata": {
    "scrolled": true,
    "tags": []
   },
   "outputs": [],
   "source": [
    "def get_market_cap(prices, ticker, threshold=0.5):\n",
    "    \n",
    "    \"\"\"\n",
    "    Retrieves the market cap of a given ticker across time.\n",
    "    \n",
    "    Parameters:\n",
    "    prices -- numpy array of stock prices with ticker, price, and shares outstanding\n",
    "    ticker -- string, ticker for stock\n",
    "    threshold -- minimum market cap acceptable in output, in order to add robustness (default 0.5B)\n",
    "    \n",
    "    Return:\n",
    "    marketcap -- numpy array of market cap, in billions\n",
    "    \"\"\"\n",
    "    \n",
    "    marketcap = prices[prices['Ticker']==ticker]['Price'] * prices[prices['Ticker']==ticker]['Shares'] / 1000000000\n",
    "    marketcap = marketcap[marketcap>threshold]\n",
    "    \n",
    "    return marketcap"
   ]
  },
  {
   "cell_type": "code",
   "execution_count": 6,
   "id": "ordinary-congress",
   "metadata": {
    "scrolled": true
   },
   "outputs": [],
   "source": [
    "def prep_dataset(size):\n",
    "    \n",
    "    \"\"\"\n",
    "    Creates the dataset for training\n",
    "    \"\"\"\n",
    "    \n",
    "    # finds all stock tickers and randomly selects\n",
    "    \n",
    "    tickers = list(set(prices['Ticker']))\n",
    "    ticker_set = random.sample(tickers, k=size)\n",
    "    \n",
    "    divisor = int(MAX_DAYS/T_x) # reduces dataset by a factor of divisor to fit within T_x timesteps\n",
    "    \n",
    "    # initialize output variables\n",
    "    \n",
    "    full_dataset = np.zeros((len(ticker_set), T_x+n_lag)) # very large number temporarily\n",
    "    X = np.zeros((len(ticker_set), T_x))\n",
    "    Y = np.zeros((len(ticker_set), T_x))\n",
    "    \n",
    "    # loop through tickers to compile dataset\n",
    "    \n",
    "    for i, ticker in enumerate(ticker_set):\n",
    "        \n",
    "        # retrieve market cap and number of values\n",
    "        \n",
    "        marketcap = get_market_cap(prices, ticker, threshold=2.0)\n",
    "        n_prices = len(marketcap)\n",
    "        \n",
    "        marketcap = marketcap[::divisor] # reduces length of array by a factor of dataset to keep within T_x timesteps\n",
    "        n_prices = len(marketcap)\n",
    "        \n",
    "        # apply values to dataset and variables\n",
    "        \n",
    "        full_dataset[i, full_dataset.shape[1]-n_prices:] = marketcap\n",
    "    \n",
    "#     full_dataset = sc.fit_transform(full_dataset)\n",
    "    \n",
    "    for i, ticker in enumerate(ticker_set):\n",
    "        X[i, :] = full_dataset[i, :full_dataset.shape[1]-n_lag]\n",
    "        Y[i] = full_dataset[i, n_lag:]\n",
    "    \n",
    "    X = X.reshape((X.shape[0], X.shape[1], 1))\n",
    "    Y = Y.reshape((Y.shape[0], Y.shape[1], 1))\n",
    "    \n",
    "    return full_dataset, X, Y, ticker_set"
   ]
  },
  {
   "cell_type": "markdown",
   "id": "based-belief",
   "metadata": {},
   "source": [
    "#### Model Attempt 4"
   ]
  },
  {
   "cell_type": "code",
   "execution_count": 34,
   "id": "elementary-familiar",
   "metadata": {
    "scrolled": true
   },
   "outputs": [],
   "source": [
    "aaplmktcap = get_market_cap(prices, 'AAPL')"
   ]
  },
  {
   "cell_type": "code",
   "execution_count": 35,
   "id": "finished-daisy",
   "metadata": {
    "scrolled": true
   },
   "outputs": [
    {
     "name": "stdout",
     "output_type": "stream",
     "text": [
      "[[ 105.84970813]\n",
      " [ 105.09722205]\n",
      " [ 106.85302289]\n",
      " ...\n",
      " [1070.9424848 ]\n",
      " [1062.8916016 ]\n",
      " [ 995.3341904 ]]\n"
     ]
    }
   ],
   "source": [
    "num_days_aapl = len(aaplmktcap)\n",
    "dataset = np.zeros((num_days_aapl-n_trailing-n_lag+1, n_trailing+1)) # make sure the shape of np array is correct\n",
    "for i in range(num_days_aapl-n_trailing-n_lag+1):\n",
    "    dataset[i] = np.append(aaplmktcap[i:i+n_trailing], aaplmktcap[i+n_trailing+n_lag-1]) # make sure to include [start:end] correct syntax\n",
    "X = dataset[:,:-1]\n",
    "Y = dataset[:,-1:]\n",
    "print(Y)"
   ]
  },
  {
   "cell_type": "code",
   "execution_count": 36,
   "id": "strategic-conviction",
   "metadata": {
    "scrolled": true,
    "tags": []
   },
   "outputs": [],
   "source": [
    "def model4():\n",
    "    \n",
    "    \"\"\"\n",
    "    Uses an LSTM model with dense layers to predict n_lag days in advance, distinct from other models in only yielding one prediction\n",
    "    \"\"\"\n",
    "    \n",
    "    X_input = Input(shape=(T_x, n_values))\n",
    "    X = LSTM(units=128, return_sequences=True)(X_input)\n",
    "    X = Dense(units=256)(X)\n",
    "    X = LSTM(units=128)(X)\n",
    "    X = Dropout(0.2)(X)\n",
    "    X = Dense(units=64)(X)\n",
    "    output = Dense(units=1, activation='relu')(X)\n",
    "    \n",
    "    model = Model(inputs=X_input, outputs=output)\n",
    "    \n",
    "    return model"
   ]
  },
  {
   "cell_type": "code",
   "execution_count": null,
   "id": "maritime-electricity",
   "metadata": {},
   "outputs": [],
   "source": [
    "def model4_v1():\n",
    "    X_input = Input(shape=(T_x, n_values))\n",
    "    X = LSTM(units=128)(X_input)\n",
    "    output = Dense(units=1, activation='relu')(X)\n",
    "    model = Model(inputs=X_input, outputs=output)\n",
    "    return model"
   ]
  },
  {
   "cell_type": "code",
   "execution_count": 37,
   "id": "adjacent-chain",
   "metadata": {
    "tags": []
   },
   "outputs": [
    {
     "name": "stdout",
     "output_type": "stream",
     "text": [
      "Model: \"model_3\"\n",
      "_________________________________________________________________\n",
      "Layer (type)                 Output Shape              Param #   \n",
      "=================================================================\n",
      "input_5 (InputLayer)         [(None, 180, 1)]          0         \n",
      "_________________________________________________________________\n",
      "lstm_6 (LSTM)                (None, 180, 128)          66560     \n",
      "_________________________________________________________________\n",
      "dense_8 (Dense)              (None, 180, 256)          33024     \n",
      "_________________________________________________________________\n",
      "lstm_7 (LSTM)                (None, 128)               197120    \n",
      "_________________________________________________________________\n",
      "dropout_1 (Dropout)          (None, 128)               0         \n",
      "_________________________________________________________________\n",
      "dense_9 (Dense)              (None, 64)                8256      \n",
      "_________________________________________________________________\n",
      "dense_10 (Dense)             (None, 1)                 65        \n",
      "=================================================================\n",
      "Total params: 305,025\n",
      "Trainable params: 305,025\n",
      "Non-trainable params: 0\n",
      "_________________________________________________________________\n"
     ]
    }
   ],
   "source": [
    "model = model4()\n",
    "model.summary()\n",
    "model.compile(optimizer='adam', loss='mean_squared_error', metrics=['mean_squared_error'])"
   ]
  },
  {
   "cell_type": "code",
   "execution_count": 38,
   "id": "international-default",
   "metadata": {
    "scrolled": true,
    "tags": []
   },
   "outputs": [
    {
     "name": "stdout",
     "output_type": "stream",
     "text": [
      "Train on 2695 samples\n",
      "Epoch 1/15\n",
      "2695/2695 [==============================] - 83s 31ms/sample - loss: 305480.1206 - mean_squared_error: 305480.1562\n",
      "Epoch 2/15\n",
      "2695/2695 [==============================] - 78s 29ms/sample - loss: 131569.7970 - mean_squared_error: 131569.8281\n",
      "Epoch 3/15\n",
      "2695/2695 [==============================] - 77s 28ms/sample - loss: 75596.6667 - mean_squared_error: 75596.6562\n",
      "Epoch 4/15\n",
      "2695/2695 [==============================] - 78s 29ms/sample - loss: 37749.7734 - mean_squared_error: 37749.7812\n",
      "Epoch 5/15\n",
      "2695/2695 [==============================] - 77s 29ms/sample - loss: 12667.9320 - mean_squared_error: 12667.9307\n",
      "Epoch 6/15\n",
      "2695/2695 [==============================] - 78s 29ms/sample - loss: 7951.2288 - mean_squared_error: 7951.2290\n",
      "Epoch 7/15\n",
      "2695/2695 [==============================] - 78s 29ms/sample - loss: 6831.0970 - mean_squared_error: 6831.0981\n",
      "Epoch 8/15\n",
      "2695/2695 [==============================] - 79s 29ms/sample - loss: 5760.5596 - mean_squared_error: 5760.5601\n",
      "Epoch 9/15\n",
      "2695/2695 [==============================] - 79s 29ms/sample - loss: 4952.2735 - mean_squared_error: 4952.2725\n",
      "Epoch 10/15\n",
      "2695/2695 [==============================] - 79s 29ms/sample - loss: 4608.1554 - mean_squared_error: 4608.1548\n",
      "Epoch 11/15\n",
      "2695/2695 [==============================] - 79s 29ms/sample - loss: 3971.0367 - mean_squared_error: 3971.0366\n",
      "Epoch 12/15\n",
      "2695/2695 [==============================] - 79s 29ms/sample - loss: 4709.5766 - mean_squared_error: 4709.5771\n",
      "Epoch 13/15\n",
      "2695/2695 [==============================] - 79s 29ms/sample - loss: 4177.6280 - mean_squared_error: 4177.6284\n",
      "Epoch 14/15\n",
      "2695/2695 [==============================] - 83s 31ms/sample - loss: 3799.7775 - mean_squared_error: 3799.7778\n",
      "Epoch 15/15\n",
      "2695/2695 [==============================] - 80s 30ms/sample - loss: 3677.2194 - mean_squared_error: 3677.2200\n"
     ]
    },
    {
     "data": {
      "text/plain": [
       "<tensorflow.python.keras.callbacks.History at 0x7fc3c1b9ded0>"
      ]
     },
     "execution_count": 38,
     "metadata": {},
     "output_type": "execute_result"
    }
   ],
   "source": [
    "X = X.reshape(X.shape[0], X.shape[1], 1)\n",
    "model.fit(X, Y, batch_size=32, epochs=15) # small batch size (batch_size < 64) helps"
   ]
  },
  {
   "cell_type": "code",
   "execution_count": 39,
   "id": "regular-vehicle",
   "metadata": {},
   "outputs": [
    {
     "name": "stdout",
     "output_type": "stream",
     "text": [
      "(1, 180, 1)\n"
     ]
    }
   ],
   "source": [
    "aaplmktcap = get_market_cap(prices, 'AAPL')\n",
    "predictions = np.zeros((1000, 1))\n",
    "data = np.array(aaplmktcap[-n_lag-n_trailing-1300:-n_lag-1300])\n",
    "data = data.reshape(1, data.shape[0], 1)\n",
    "print(data.shape)\n",
    "for i in range(1000):\n",
    "    predictions[i] = model.predict(data)\n",
    "    data[:,:-1,:] = data[:,1:,:]\n",
    "    data[:,-1:,:] = predictions[i]"
   ]
  },
  {
   "cell_type": "code",
   "execution_count": 40,
   "id": "convenient-aberdeen",
   "metadata": {},
   "outputs": [
    {
     "data": {
      "text/plain": [
       "[<matplotlib.lines.Line2D at 0x7fc0d715f210>]"
      ]
     },
     "execution_count": 40,
     "metadata": {},
     "output_type": "execute_result"
    },
    {
     "data": {
      "image/png": "[encoded data removed]",
      "text/plain": [
       "<Figure size 432x288 with 1 Axes>"
      ]
     },
     "metadata": {
      "needs_background": "light"
     },
     "output_type": "display_data"
    }
   ],
   "source": [
    "alldata = np.append(aaplmktcap, predictions)\n",
    "sequence2 = np.append(aaplmktcap[:-1300], predictions)\n",
    "plt.plot(aaplmktcap)\n",
    "plt.plot(sequence2)"
   ]
  },
  {
   "cell_type": "code",
   "execution_count": 41,
   "id": "owned-impression",
   "metadata": {
    "tags": []
   },
   "outputs": [
    {
     "name": "stdout",
     "output_type": "stream",
     "text": [
      "(1, 180, 1)\n"
     ]
    }
   ],
   "source": [
    "aaplmktcap = get_market_cap(prices, 'AAPL')\n",
    "predictions = np.zeros((1000, 1))\n",
    "data = np.array(aaplmktcap[-n_lag-n_trailing-500:-n_lag-500])\n",
    "data = data.reshape(1, data.shape[0], 1)\n",
    "print(data.shape)\n",
    "for i in range(1000):\n",
    "    predictions[i] = model.predict(data)\n",
    "    data[:,:-1,:] = data[:,1:,:]\n",
    "    data[:,-1:,:] = predictions[i]"
   ]
  },
  {
   "cell_type": "code",
   "execution_count": 42,
   "id": "static-worker",
   "metadata": {},
   "outputs": [
    {
     "data": {
      "text/plain": [
       "[<matplotlib.lines.Line2D at 0x7fc3c29c8d10>]"
      ]
     },
     "execution_count": 42,
     "metadata": {},
     "output_type": "execute_result"
    },
    {
     "data": {
      "image/png": "[encoded data removed]",
      "text/plain": [
       "<Figure size 432x288 with 1 Axes>"
      ]
     },
     "metadata": {
      "needs_background": "light"
     },
     "output_type": "display_data"
    }
   ],
   "source": [
    "alldata = np.append(aaplmktcap, predictions)\n",
    "sequence2 = np.append(aaplmktcap[:-500], predictions)\n",
    "plt.plot(aaplmktcap)\n",
    "plt.plot(sequence2)"
   ]
  },
  {
   "cell_type": "code",
   "execution_count": 52,
   "id": "industrial-wings",
   "metadata": {
    "tags": []
   },
   "outputs": [
    {
     "name": "stdout",
     "output_type": "stream",
     "text": [
      "(1, 180, 1)\n"
     ]
    }
   ],
   "source": [
    "aaplmktcap = get_market_cap(prices, 'AAPL')\n",
    "predictions = np.zeros((1000, 1))\n",
    "data = np.array(aaplmktcap[-n_lag-n_trailing+1:-n_lag+1])\n",
    "data = data.reshape(1, data.shape[0], 1)\n",
    "print(data.shape)\n",
    "for i in range(1000):\n",
    "    predictions[i] = model.predict(data)\n",
    "    data[:,:-1,:] = data[:,1:,:]\n",
    "    data[:,-1:,:] = predictions[i]"
   ]
  },
  {
   "cell_type": "code",
   "execution_count": 53,
   "id": "imperial-albuquerque",
   "metadata": {},
   "outputs": [
    {
     "data": {
      "text/plain": [
       "[<matplotlib.lines.Line2D at 0x7fc0251f2b50>]"
      ]
     },
     "execution_count": 53,
     "metadata": {},
     "output_type": "execute_result"
    },
    {
     "data": {
      "image/png": "[encoded data removed]",
      "text/plain": [
       "<Figure size 432x288 with 1 Axes>"
      ]
     },
     "metadata": {
      "needs_background": "light"
     },
     "output_type": "display_data"
    }
   ],
   "source": [
    "aaplmktcap = get_market_cap(prices, 'AAPL')\n",
    "alldata = np.append(aaplmktcap, predictions)\n",
    "sequence2 = np.append(aaplmktcap[:], predictions)\n",
    "plt.plot(aaplmktcap)\n",
    "plt.plot(sequence2)"
   ]
  },
  {
   "cell_type": "code",
   "execution_count": 45,
   "id": "electronic-theme",
   "metadata": {
    "tags": []
   },
   "outputs": [
    {
     "name": "stdout",
     "output_type": "stream",
     "text": [
      "(1, 180, 1)\n"
     ]
    }
   ],
   "source": [
    "aaplmktcap = get_market_cap(prices, 'AMZN')\n",
    "predictions = np.zeros((1000, 1))\n",
    "data = np.array(aaplmktcap[-n_lag-n_trailing-500:-n_lag-500])\n",
    "data = data.reshape(1, data.shape[0], 1)\n",
    "print(data.shape)\n",
    "for i in range(1000):\n",
    "    predictions[i] = model.predict(data)\n",
    "    data[:,:-1,:] = data[:,1:,:]\n",
    "    data[:,-1:,:] = predictions[i]"
   ]
  },
  {
   "cell_type": "code",
   "execution_count": 46,
   "id": "genuine-bracket",
   "metadata": {},
   "outputs": [
    {
     "data": {
      "text/plain": [
       "[<matplotlib.lines.Line2D at 0x7fc067ca98d0>]"
      ]
     },
     "execution_count": 46,
     "metadata": {},
     "output_type": "execute_result"
    },
    {
     "data": {
      "image/png": "[encoded data removed]",
      "text/plain": [
       "<Figure size 432x288 with 1 Axes>"
      ]
     },
     "metadata": {
      "needs_background": "light"
     },
     "output_type": "display_data"
    }
   ],
   "source": [
    "alldata = np.append(aaplmktcap, predictions)\n",
    "sequence2 = np.append(aaplmktcap[:-500], predictions)\n",
    "plt.plot(aaplmktcap)\n",
    "plt.plot(sequence2)"
   ]
  },
  {
   "cell_type": "markdown",
   "id": "ready-checklist",
   "metadata": {},
   "source": [
    "#### Model Attempt 3\n",
    "\n",
    "LSTM &#8594; Dense &#8594; LSTM &#8594; Dropout &#8594; Dense &#8594; Dense"
   ]
  },
  {
   "cell_type": "code",
   "execution_count": 53,
   "id": "chemical-sarah",
   "metadata": {
    "scrolled": true,
    "tags": []
   },
   "outputs": [],
   "source": [
    "def model3(T_x=T_x, n_values=1):\n",
    "    \n",
    "    \"\"\"\n",
    "    This model is loosely based off of model 1 and further expands upon the LSTM and dense layer combination.\n",
    "    Achieves substantial results, but falls short as it has no predictive ability beyond time frame of known values based on model architecture.\n",
    "    \"\"\"\n",
    "    \n",
    "    X_input = Input(shape=(T_x, n_values))\n",
    "    X = LSTM(units=128, return_sequences=True)(X_input) # defining in terms of X_input instead of X for the first LSTM due to error may be based on bug or edge case, see https://github.com/keras-team/keras/issues/11746\n",
    "    X = TimeDistributed(Dense(units=256, activation='relu'))(X)\n",
    "    X = LSTM(units=128, return_sequences=True)(X)\n",
    "    X = Dropout(0.2)(X)\n",
    "    X = TimeDistributed(Dense(units=64, activation='relu'))(X)\n",
    "    outputs = TimeDistributed(Dense(units=1, activation='relu'))(X)\n",
    "    \n",
    "    model = Model(inputs=X_input, outputs=outputs)\n",
    "    \n",
    "    return model"
   ]
  },
  {
   "cell_type": "code",
   "execution_count": 54,
   "id": "alpine-inspector",
   "metadata": {
    "scrolled": true,
    "tags": []
   },
   "outputs": [],
   "source": [
    "model = model3(T_x=T_x)\n",
    "# model.summary()"
   ]
  },
  {
   "cell_type": "code",
   "execution_count": 55,
   "id": "quantitative-syria",
   "metadata": {
    "scrolled": true
   },
   "outputs": [],
   "source": [
    "model.compile(loss='mean_squared_error', optimizer='adam', metrics=['mean_squared_error'])"
   ]
  },
  {
   "cell_type": "code",
   "execution_count": 61,
   "id": "human-stranger",
   "metadata": {
    "collapsed": true,
    "jupyter": {
     "outputs_hidden": true
    },
    "scrolled": true,
    "tags": []
   },
   "outputs": [
    {
     "name": "stdout",
     "output_type": "stream",
     "text": [
      "Train on 1400 samples\n",
      "Epoch 1/30\n",
      "1400/1400 [==============================] - 27s 19ms/sample - loss: 599.5866 - mean_squared_error: 599.5866\n",
      "Epoch 2/30\n",
      "1400/1400 [==============================] - 23s 17ms/sample - loss: 552.4530 - mean_squared_error: 552.4529\n",
      "Epoch 3/30\n",
      "1400/1400 [==============================] - 23s 17ms/sample - loss: 521.9029 - mean_squared_error: 521.9028\n",
      "Epoch 4/30\n",
      "1400/1400 [==============================] - 23s 17ms/sample - loss: 496.0677 - mean_squared_error: 496.0677\n",
      "Epoch 5/30\n",
      "1400/1400 [==============================] - 23s 17ms/sample - loss: 477.0491 - mean_squared_error: 477.0490\n",
      "Epoch 6/30\n",
      "1400/1400 [==============================] - 23s 17ms/sample - loss: 459.5151 - mean_squared_error: 459.5151\n",
      "Epoch 7/30\n",
      "1400/1400 [==============================] - 23s 16ms/sample - loss: 449.0511 - mean_squared_error: 449.0511\n",
      "Epoch 8/30\n",
      "1400/1400 [==============================] - 23s 17ms/sample - loss: 437.9002 - mean_squared_error: 437.9001\n",
      "Epoch 9/30\n",
      "1400/1400 [==============================] - 23s 16ms/sample - loss: 436.1534 - mean_squared_error: 436.1533\n",
      "Epoch 10/30\n",
      "1400/1400 [==============================] - 23s 16ms/sample - loss: 434.0887 - mean_squared_error: 434.0887\n",
      "Epoch 11/30\n",
      "1400/1400 [==============================] - 23s 16ms/sample - loss: 427.1481 - mean_squared_error: 427.1481\n",
      "Epoch 12/30\n",
      "1400/1400 [==============================] - 23s 17ms/sample - loss: 418.3670 - mean_squared_error: 418.3670\n",
      "Epoch 13/30\n",
      "1400/1400 [==============================] - 23s 17ms/sample - loss: 422.6800 - mean_squared_error: 422.6799\n",
      "Epoch 14/30\n",
      "1400/1400 [==============================] - 23s 17ms/sample - loss: 439.5061 - mean_squared_error: 439.5061\n",
      "Epoch 15/30\n",
      "1400/1400 [==============================] - 23s 17ms/sample - loss: 435.8344 - mean_squared_error: 435.8344\n",
      "Epoch 16/30\n",
      "1400/1400 [==============================] - 23s 17ms/sample - loss: 423.7312 - mean_squared_error: 423.7312\n",
      "Epoch 17/30\n",
      "1400/1400 [==============================] - 23s 17ms/sample - loss: 416.6026 - mean_squared_error: 416.6026\n",
      "Epoch 18/30\n",
      "1400/1400 [==============================] - 23s 17ms/sample - loss: 405.7808 - mean_squared_error: 405.7809\n",
      "Epoch 19/30\n",
      "1400/1400 [==============================] - 23s 17ms/sample - loss: 403.1775 - mean_squared_error: 403.1776\n",
      "Epoch 20/30\n",
      "1400/1400 [==============================] - 23s 17ms/sample - loss: 416.7676 - mean_squared_error: 416.7676\n",
      "Epoch 21/30\n",
      "1400/1400 [==============================] - 24s 17ms/sample - loss: 397.8381 - mean_squared_error: 397.8382\n",
      "Epoch 22/30\n",
      "1400/1400 [==============================] - 24s 17ms/sample - loss: 393.8898 - mean_squared_error: 393.8898\n",
      "Epoch 23/30\n",
      "1400/1400 [==============================] - 23s 17ms/sample - loss: 392.5921 - mean_squared_error: 392.5921\n",
      "Epoch 24/30\n",
      "1400/1400 [==============================] - 23s 17ms/sample - loss: 383.1347 - mean_squared_error: 383.1347\n",
      "Epoch 25/30\n",
      "1400/1400 [==============================] - 24s 17ms/sample - loss: 433.6311 - mean_squared_error: 433.6312\n",
      "Epoch 26/30\n",
      "1400/1400 [==============================] - 23s 17ms/sample - loss: 395.7676 - mean_squared_error: 395.7676\n",
      "Epoch 27/30\n",
      "1400/1400 [==============================] - 23s 17ms/sample - loss: 390.9886 - mean_squared_error: 390.9886\n",
      "Epoch 28/30\n",
      "1400/1400 [==============================] - 23s 17ms/sample - loss: 385.5659 - mean_squared_error: 385.5659\n",
      "Epoch 29/30\n",
      "1400/1400 [==============================] - 24s 17ms/sample - loss: 379.7070 - mean_squared_error: 379.7070\n",
      "Epoch 30/30\n",
      "1400/1400 [==============================] - 23s 17ms/sample - loss: 377.8816 - mean_squared_error: 377.8815\n"
     ]
    },
    {
     "data": {
      "text/plain": [
       "<tensorflow.python.keras.callbacks.History at 0x7fe143329d90>"
      ]
     },
     "execution_count": 61,
     "metadata": {},
     "output_type": "execute_result"
    }
   ],
   "source": [
    "full_dataset, X, Y, ticker_set = prep_dataset(m)\n",
    "model.fit(X[:1400], Y[:1400], batch_size=32, epochs=30)"
   ]
  },
  {
   "cell_type": "code",
   "execution_count": 74,
   "id": "guilty-graphic",
   "metadata": {
    "scrolled": true
   },
   "outputs": [
    {
     "data": {
      "text/plain": [
       "[<matplotlib.lines.Line2D at 0x7fe145365590>]"
      ]
     },
     "execution_count": 74,
     "metadata": {},
     "output_type": "execute_result"
    },
    {
     "data": {
      "image/png": "[encoded data removed]",
      "text/plain": [
       "<Figure size 432x288 with 1 Axes>"
      ]
     },
     "metadata": {
      "needs_background": "light"
     },
     "output_type": "display_data"
    }
   ],
   "source": [
    "output = model.predict(X[1400:]) # make sure data input dimensions are aligned\n",
    "rand = random.randint(0,99)\n",
    "plt.plot(output[rand].reshape(T_x,1), 'b')\n",
    "plt.plot(full_dataset[1400+rand], 'g')"
   ]
  },
  {
   "cell_type": "code",
   "execution_count": 182,
   "id": "hollow-packaging",
   "metadata": {
    "collapsed": true,
    "jupyter": {
     "outputs_hidden": true
    },
    "scrolled": true,
    "tags": []
   },
   "outputs": [
    {
     "name": "stdout",
     "output_type": "stream",
     "text": [
      "[[[-0.        ]\n",
      "  [-0.        ]\n",
      "  [-0.        ]\n",
      "  ...\n",
      "  [-0.        ]\n",
      "  [-0.        ]\n",
      "  [-0.        ]]\n",
      "\n",
      " [[-0.        ]\n",
      "  [-0.        ]\n",
      "  [-0.        ]\n",
      "  ...\n",
      "  [-0.        ]\n",
      "  [-0.        ]\n",
      "  [-0.        ]]\n",
      "\n",
      " [[-0.        ]\n",
      "  [-0.        ]\n",
      "  [-0.        ]\n",
      "  ...\n",
      "  [ 0.15813439]\n",
      "  [ 0.13774917]\n",
      "  [ 0.13486812]]\n",
      "\n",
      " ...\n",
      "\n",
      " [[-0.        ]\n",
      "  [-0.        ]\n",
      "  [-0.        ]\n",
      "  ...\n",
      "  [-0.        ]\n",
      "  [-0.        ]\n",
      "  [-0.        ]]\n",
      "\n",
      " [[-0.        ]\n",
      "  [-0.        ]\n",
      "  [-0.        ]\n",
      "  ...\n",
      "  [ 7.154431  ]\n",
      "  [ 6.975465  ]\n",
      "  [ 6.809902  ]]\n",
      "\n",
      " [[-0.        ]\n",
      "  [-0.        ]\n",
      "  [-0.        ]\n",
      "  ...\n",
      "  [-0.        ]\n",
      "  [-0.        ]\n",
      "  [-0.        ]]]\n"
     ]
    }
   ],
   "source": [
    "print(output)"
   ]
  },
  {
   "cell_type": "code",
   "execution_count": 35,
   "id": "brilliant-money",
   "metadata": {
    "collapsed": true,
    "jupyter": {
     "outputs_hidden": true
    },
    "scrolled": true,
    "tags": []
   },
   "outputs": [
    {
     "name": "stdout",
     "output_type": "stream",
     "text": [
      "100/1 [========================================================================================================================================================================================================================================================================================================================================================================================================================================================================================================================================================================================================================================================================================================================================================================================================================================================================================================================================================================================================================================================================================================================================================================================================================================================================================================================================================================================================================================================================================================================================================================================================================================================================================================================================================================================================================================================================================================================================================================================================================================================================================================================================================================================================================================================================================================================================================================================================================================================================================================================================================================================================================================================================================================================================================================================================================================================================================================================================================================================================================================================================================================================] - 2s 16ms/sample - loss: 7.2472e-04 - mean_squared_error: 2.7865e-04\n"
     ]
    }
   ],
   "source": [
    "score = model.evaluate(X[1400:], Y[1400:])"
   ]
  },
  {
   "cell_type": "markdown",
   "id": "thick-vault",
   "metadata": {
    "tags": []
   },
   "source": [
    "#### Model Attempt 2\n",
    "\n",
    "Defines the LSTM and dense layers and loops through hidden states and cell states"
   ]
  },
  {
   "cell_type": "code",
   "execution_count": 9,
   "id": "looking-election",
   "metadata": {
    "scrolled": true
   },
   "outputs": [],
   "source": [
    "# define model layers\n",
    "\n",
    "reshaper = Reshape((1, n_values))\n",
    "LSTM_cell = LSTM(units=n_a, return_state=True) # default lstm cell, n_a is defined as a constant when initializing\n",
    "denser = Dense(units=n_values, activation='relu') # dense layer for hidden state to output prediction, only one unit because there is only one predicted value"
   ]
  },
  {
   "cell_type": "code",
   "execution_count": 10,
   "id": "fiscal-azerbaijan",
   "metadata": {
    "scrolled": true
   },
   "outputs": [],
   "source": [
    "def model2(T_x=T_x, n_values=1):\n",
    "    \n",
    "    \"\"\"\n",
    "    1. take in input\n",
    "    2. loop through timesteps\n",
    "        a. extract timestep from timesteps for input\n",
    "        b. reshape to (1, n_values)\n",
    "        c. run the lstm to extract the hidden state and cell state\n",
    "        d. dense layer\n",
    "        e. output\n",
    "    \"\"\"\n",
    "    \n",
    "    # initialize input variables\n",
    "    \n",
    "    X = Input(shape=(T_x, n_values)) # 2D tensor input of timesteps and input variables\n",
    "    a0 = Input(shape=(n_a, ), name='a0') # tensor of hidden activation states\n",
    "    c0 = Input(shape=(n_a, ), name='c0') # tensor of cell states\n",
    "    \n",
    "    #initialize intermediary and output variables\n",
    "    \n",
    "    a = a0\n",
    "    c = c0\n",
    "    outputs = []\n",
    "    \n",
    "    # loop through timesteps\n",
    "    \n",
    "    for t in range(T_x):\n",
    "        x = Lambda(lambda z: z[:, t, :])(X) # lambda works for keras tensor variables\n",
    "        x = reshaper(x)\n",
    "        a, _, c = LSTM_cell(inputs=x, initial_state=[a, c])\n",
    "        output = denser(a)\n",
    "        outputs.append(output)\n",
    "        \n",
    "    model = Model(inputs=[X, a0, c0], outputs=outputs)\n",
    "    \n",
    "    return model"
   ]
  },
  {
   "cell_type": "code",
   "execution_count": 11,
   "id": "variable-socket",
   "metadata": {
    "collapsed": true,
    "jupyter": {
     "outputs_hidden": true
    },
    "scrolled": true,
    "tags": []
   },
   "outputs": [
    {
     "name": "stdout",
     "output_type": "stream",
     "text": [
      "Model: \"model\"\n",
      "__________________________________________________________________________________________________\n",
      "Layer (type)                    Output Shape         Param #     Connected to                     \n",
      "==================================================================================================\n",
      "input_1 (InputLayer)            [(None, 100, 1)]     0                                            \n",
      "__________________________________________________________________________________________________\n",
      "lambda (Lambda)                 (None, 1)            0           input_1[0][0]                    \n",
      "__________________________________________________________________________________________________\n",
      "reshape (Reshape)               (None, 1, 1)         0           lambda[0][0]                     \n",
      "                                                                 lambda_1[0][0]                   \n",
      "                                                                 lambda_2[0][0]                   \n",
      "                                                                 lambda_3[0][0]                   \n",
      "                                                                 lambda_4[0][0]                   \n",
      "                                                                 lambda_5[0][0]                   \n",
      "                                                                 lambda_6[0][0]                   \n",
      "                                                                 lambda_7[0][0]                   \n",
      "                                                                 lambda_8[0][0]                   \n",
      "                                                                 lambda_9[0][0]                   \n",
      "                                                                 lambda_10[0][0]                  \n",
      "                                                                 lambda_11[0][0]                  \n",
      "                                                                 lambda_12[0][0]                  \n",
      "                                                                 lambda_13[0][0]                  \n",
      "                                                                 lambda_14[0][0]                  \n",
      "                                                                 lambda_15[0][0]                  \n",
      "                                                                 lambda_16[0][0]                  \n",
      "                                                                 lambda_17[0][0]                  \n",
      "                                                                 lambda_18[0][0]                  \n",
      "                                                                 lambda_19[0][0]                  \n",
      "                                                                 lambda_20[0][0]                  \n",
      "                                                                 lambda_21[0][0]                  \n",
      "                                                                 lambda_22[0][0]                  \n",
      "                                                                 lambda_23[0][0]                  \n",
      "                                                                 lambda_24[0][0]                  \n",
      "                                                                 lambda_25[0][0]                  \n",
      "                                                                 lambda_26[0][0]                  \n",
      "                                                                 lambda_27[0][0]                  \n",
      "                                                                 lambda_28[0][0]                  \n",
      "                                                                 lambda_29[0][0]                  \n",
      "                                                                 lambda_30[0][0]                  \n",
      "                                                                 lambda_31[0][0]                  \n",
      "                                                                 lambda_32[0][0]                  \n",
      "                                                                 lambda_33[0][0]                  \n",
      "                                                                 lambda_34[0][0]                  \n",
      "                                                                 lambda_35[0][0]                  \n",
      "                                                                 lambda_36[0][0]                  \n",
      "                                                                 lambda_37[0][0]                  \n",
      "                                                                 lambda_38[0][0]                  \n",
      "                                                                 lambda_39[0][0]                  \n",
      "                                                                 lambda_40[0][0]                  \n",
      "                                                                 lambda_41[0][0]                  \n",
      "                                                                 lambda_42[0][0]                  \n",
      "                                                                 lambda_43[0][0]                  \n",
      "                                                                 lambda_44[0][0]                  \n",
      "                                                                 lambda_45[0][0]                  \n",
      "                                                                 lambda_46[0][0]                  \n",
      "                                                                 lambda_47[0][0]                  \n",
      "                                                                 lambda_48[0][0]                  \n",
      "                                                                 lambda_49[0][0]                  \n",
      "                                                                 lambda_50[0][0]                  \n",
      "                                                                 lambda_51[0][0]                  \n",
      "                                                                 lambda_52[0][0]                  \n",
      "                                                                 lambda_53[0][0]                  \n",
      "                                                                 lambda_54[0][0]                  \n",
      "                                                                 lambda_55[0][0]                  \n",
      "                                                                 lambda_56[0][0]                  \n",
      "                                                                 lambda_57[0][0]                  \n",
      "                                                                 lambda_58[0][0]                  \n",
      "                                                                 lambda_59[0][0]                  \n",
      "                                                                 lambda_60[0][0]                  \n",
      "                                                                 lambda_61[0][0]                  \n",
      "                                                                 lambda_62[0][0]                  \n",
      "                                                                 lambda_63[0][0]                  \n",
      "                                                                 lambda_64[0][0]                  \n",
      "                                                                 lambda_65[0][0]                  \n",
      "                                                                 lambda_66[0][0]                  \n",
      "                                                                 lambda_67[0][0]                  \n",
      "                                                                 lambda_68[0][0]                  \n",
      "                                                                 lambda_69[0][0]                  \n",
      "                                                                 lambda_70[0][0]                  \n",
      "                                                                 lambda_71[0][0]                  \n",
      "                                                                 lambda_72[0][0]                  \n",
      "                                                                 lambda_73[0][0]                  \n",
      "                                                                 lambda_74[0][0]                  \n",
      "                                                                 lambda_75[0][0]                  \n",
      "                                                                 lambda_76[0][0]                  \n",
      "                                                                 lambda_77[0][0]                  \n",
      "                                                                 lambda_78[0][0]                  \n",
      "                                                                 lambda_79[0][0]                  \n",
      "                                                                 lambda_80[0][0]                  \n",
      "                                                                 lambda_81[0][0]                  \n",
      "                                                                 lambda_82[0][0]                  \n",
      "                                                                 lambda_83[0][0]                  \n",
      "                                                                 lambda_84[0][0]                  \n",
      "                                                                 lambda_85[0][0]                  \n",
      "                                                                 lambda_86[0][0]                  \n",
      "                                                                 lambda_87[0][0]                  \n",
      "                                                                 lambda_88[0][0]                  \n",
      "                                                                 lambda_89[0][0]                  \n",
      "                                                                 lambda_90[0][0]                  \n",
      "                                                                 lambda_91[0][0]                  \n",
      "                                                                 lambda_92[0][0]                  \n",
      "                                                                 lambda_93[0][0]                  \n",
      "                                                                 lambda_94[0][0]                  \n",
      "                                                                 lambda_95[0][0]                  \n",
      "                                                                 lambda_96[0][0]                  \n",
      "                                                                 lambda_97[0][0]                  \n",
      "                                                                 lambda_98[0][0]                  \n",
      "                                                                 lambda_99[0][0]                  \n",
      "__________________________________________________________________________________________________\n",
      "a0 (InputLayer)                 [(None, 64)]         0                                            \n",
      "__________________________________________________________________________________________________\n",
      "c0 (InputLayer)                 [(None, 64)]         0                                            \n",
      "__________________________________________________________________________________________________\n",
      "lambda_1 (Lambda)               (None, 1)            0           input_1[0][0]                    \n",
      "__________________________________________________________________________________________________\n",
      "lstm (LSTM)                     [(None, 64), (None,  16896       reshape[0][0]                    \n",
      "                                                                 a0[0][0]                         \n",
      "                                                                 c0[0][0]                         \n",
      "                                                                 reshape[1][0]                    \n",
      "                                                                 lstm[0][0]                       \n",
      "                                                                 lstm[0][2]                       \n",
      "                                                                 reshape[2][0]                    \n",
      "                                                                 lstm[1][0]                       \n",
      "                                                                 lstm[1][2]                       \n",
      "                                                                 reshape[3][0]                    \n",
      "                                                                 lstm[2][0]                       \n",
      "                                                                 lstm[2][2]                       \n",
      "                                                                 reshape[4][0]                    \n",
      "                                                                 lstm[3][0]                       \n",
      "                                                                 lstm[3][2]                       \n",
      "                                                                 reshape[5][0]                    \n",
      "                                                                 lstm[4][0]                       \n",
      "                                                                 lstm[4][2]                       \n",
      "                                                                 reshape[6][0]                    \n",
      "                                                                 lstm[5][0]                       \n",
      "                                                                 lstm[5][2]                       \n",
      "                                                                 reshape[7][0]                    \n",
      "                                                                 lstm[6][0]                       \n",
      "                                                                 lstm[6][2]                       \n",
      "                                                                 reshape[8][0]                    \n",
      "                                                                 lstm[7][0]                       \n",
      "                                                                 lstm[7][2]                       \n",
      "                                                                 reshape[9][0]                    \n",
      "                                                                 lstm[8][0]                       \n",
      "                                                                 lstm[8][2]                       \n",
      "                                                                 reshape[10][0]                   \n",
      "                                                                 lstm[9][0]                       \n",
      "                                                                 lstm[9][2]                       \n",
      "                                                                 reshape[11][0]                   \n",
      "                                                                 lstm[10][0]                      \n",
      "                                                                 lstm[10][2]                      \n",
      "                                                                 reshape[12][0]                   \n",
      "                                                                 lstm[11][0]                      \n",
      "                                                                 lstm[11][2]                      \n",
      "                                                                 reshape[13][0]                   \n",
      "                                                                 lstm[12][0]                      \n",
      "                                                                 lstm[12][2]                      \n",
      "                                                                 reshape[14][0]                   \n",
      "                                                                 lstm[13][0]                      \n",
      "                                                                 lstm[13][2]                      \n",
      "                                                                 reshape[15][0]                   \n",
      "                                                                 lstm[14][0]                      \n",
      "                                                                 lstm[14][2]                      \n",
      "                                                                 reshape[16][0]                   \n",
      "                                                                 lstm[15][0]                      \n",
      "                                                                 lstm[15][2]                      \n",
      "                                                                 reshape[17][0]                   \n",
      "                                                                 lstm[16][0]                      \n",
      "                                                                 lstm[16][2]                      \n",
      "                                                                 reshape[18][0]                   \n",
      "                                                                 lstm[17][0]                      \n",
      "                                                                 lstm[17][2]                      \n",
      "                                                                 reshape[19][0]                   \n",
      "                                                                 lstm[18][0]                      \n",
      "                                                                 lstm[18][2]                      \n",
      "                                                                 reshape[20][0]                   \n",
      "                                                                 lstm[19][0]                      \n",
      "                                                                 lstm[19][2]                      \n",
      "                                                                 reshape[21][0]                   \n",
      "                                                                 lstm[20][0]                      \n",
      "                                                                 lstm[20][2]                      \n",
      "                                                                 reshape[22][0]                   \n",
      "                                                                 lstm[21][0]                      \n",
      "                                                                 lstm[21][2]                      \n",
      "                                                                 reshape[23][0]                   \n",
      "                                                                 lstm[22][0]                      \n",
      "                                                                 lstm[22][2]                      \n",
      "                                                                 reshape[24][0]                   \n",
      "                                                                 lstm[23][0]                      \n",
      "                                                                 lstm[23][2]                      \n",
      "                                                                 reshape[25][0]                   \n",
      "                                                                 lstm[24][0]                      \n",
      "                                                                 lstm[24][2]                      \n",
      "                                                                 reshape[26][0]                   \n",
      "                                                                 lstm[25][0]                      \n",
      "                                                                 lstm[25][2]                      \n",
      "                                                                 reshape[27][0]                   \n",
      "                                                                 lstm[26][0]                      \n",
      "                                                                 lstm[26][2]                      \n",
      "                                                                 reshape[28][0]                   \n",
      "                                                                 lstm[27][0]                      \n",
      "                                                                 lstm[27][2]                      \n",
      "                                                                 reshape[29][0]                   \n",
      "                                                                 lstm[28][0]                      \n",
      "                                                                 lstm[28][2]                      \n",
      "                                                                 reshape[30][0]                   \n",
      "                                                                 lstm[29][0]                      \n",
      "                                                                 lstm[29][2]                      \n",
      "                                                                 reshape[31][0]                   \n",
      "                                                                 lstm[30][0]                      \n",
      "                                                                 lstm[30][2]                      \n",
      "                                                                 reshape[32][0]                   \n",
      "                                                                 lstm[31][0]                      \n",
      "                                                                 lstm[31][2]                      \n",
      "                                                                 reshape[33][0]                   \n",
      "                                                                 lstm[32][0]                      \n",
      "                                                                 lstm[32][2]                      \n",
      "                                                                 reshape[34][0]                   \n",
      "                                                                 lstm[33][0]                      \n",
      "                                                                 lstm[33][2]                      \n",
      "                                                                 reshape[35][0]                   \n",
      "                                                                 lstm[34][0]                      \n",
      "                                                                 lstm[34][2]                      \n",
      "                                                                 reshape[36][0]                   \n",
      "                                                                 lstm[35][0]                      \n",
      "                                                                 lstm[35][2]                      \n",
      "                                                                 reshape[37][0]                   \n",
      "                                                                 lstm[36][0]                      \n",
      "                                                                 lstm[36][2]                      \n",
      "                                                                 reshape[38][0]                   \n",
      "                                                                 lstm[37][0]                      \n",
      "                                                                 lstm[37][2]                      \n",
      "                                                                 reshape[39][0]                   \n",
      "                                                                 lstm[38][0]                      \n",
      "                                                                 lstm[38][2]                      \n",
      "                                                                 reshape[40][0]                   \n",
      "                                                                 lstm[39][0]                      \n",
      "                                                                 lstm[39][2]                      \n",
      "                                                                 reshape[41][0]                   \n",
      "                                                                 lstm[40][0]                      \n",
      "                                                                 lstm[40][2]                      \n",
      "                                                                 reshape[42][0]                   \n",
      "                                                                 lstm[41][0]                      \n",
      "                                                                 lstm[41][2]                      \n",
      "                                                                 reshape[43][0]                   \n",
      "                                                                 lstm[42][0]                      \n",
      "                                                                 lstm[42][2]                      \n",
      "                                                                 reshape[44][0]                   \n",
      "                                                                 lstm[43][0]                      \n",
      "                                                                 lstm[43][2]                      \n",
      "                                                                 reshape[45][0]                   \n",
      "                                                                 lstm[44][0]                      \n",
      "                                                                 lstm[44][2]                      \n",
      "                                                                 reshape[46][0]                   \n",
      "                                                                 lstm[45][0]                      \n",
      "                                                                 lstm[45][2]                      \n",
      "                                                                 reshape[47][0]                   \n",
      "                                                                 lstm[46][0]                      \n",
      "                                                                 lstm[46][2]                      \n",
      "                                                                 reshape[48][0]                   \n",
      "                                                                 lstm[47][0]                      \n",
      "                                                                 lstm[47][2]                      \n",
      "                                                                 reshape[49][0]                   \n",
      "                                                                 lstm[48][0]                      \n",
      "                                                                 lstm[48][2]                      \n",
      "                                                                 reshape[50][0]                   \n",
      "                                                                 lstm[49][0]                      \n",
      "                                                                 lstm[49][2]                      \n",
      "                                                                 reshape[51][0]                   \n",
      "                                                                 lstm[50][0]                      \n",
      "                                                                 lstm[50][2]                      \n",
      "                                                                 reshape[52][0]                   \n",
      "                                                                 lstm[51][0]                      \n",
      "                                                                 lstm[51][2]                      \n",
      "                                                                 reshape[53][0]                   \n",
      "                                                                 lstm[52][0]                      \n",
      "                                                                 lstm[52][2]                      \n",
      "                                                                 reshape[54][0]                   \n",
      "                                                                 lstm[53][0]                      \n",
      "                                                                 lstm[53][2]                      \n",
      "                                                                 reshape[55][0]                   \n",
      "                                                                 lstm[54][0]                      \n",
      "                                                                 lstm[54][2]                      \n",
      "                                                                 reshape[56][0]                   \n",
      "                                                                 lstm[55][0]                      \n",
      "                                                                 lstm[55][2]                      \n",
      "                                                                 reshape[57][0]                   \n",
      "                                                                 lstm[56][0]                      \n",
      "                                                                 lstm[56][2]                      \n",
      "                                                                 reshape[58][0]                   \n",
      "                                                                 lstm[57][0]                      \n",
      "                                                                 lstm[57][2]                      \n",
      "                                                                 reshape[59][0]                   \n",
      "                                                                 lstm[58][0]                      \n",
      "                                                                 lstm[58][2]                      \n",
      "                                                                 reshape[60][0]                   \n",
      "                                                                 lstm[59][0]                      \n",
      "                                                                 lstm[59][2]                      \n",
      "                                                                 reshape[61][0]                   \n",
      "                                                                 lstm[60][0]                      \n",
      "                                                                 lstm[60][2]                      \n",
      "                                                                 reshape[62][0]                   \n",
      "                                                                 lstm[61][0]                      \n",
      "                                                                 lstm[61][2]                      \n",
      "                                                                 reshape[63][0]                   \n",
      "                                                                 lstm[62][0]                      \n",
      "                                                                 lstm[62][2]                      \n",
      "                                                                 reshape[64][0]                   \n",
      "                                                                 lstm[63][0]                      \n",
      "                                                                 lstm[63][2]                      \n",
      "                                                                 reshape[65][0]                   \n",
      "                                                                 lstm[64][0]                      \n",
      "                                                                 lstm[64][2]                      \n",
      "                                                                 reshape[66][0]                   \n",
      "                                                                 lstm[65][0]                      \n",
      "                                                                 lstm[65][2]                      \n",
      "                                                                 reshape[67][0]                   \n",
      "                                                                 lstm[66][0]                      \n",
      "                                                                 lstm[66][2]                      \n",
      "                                                                 reshape[68][0]                   \n",
      "                                                                 lstm[67][0]                      \n",
      "                                                                 lstm[67][2]                      \n",
      "                                                                 reshape[69][0]                   \n",
      "                                                                 lstm[68][0]                      \n",
      "                                                                 lstm[68][2]                      \n",
      "                                                                 reshape[70][0]                   \n",
      "                                                                 lstm[69][0]                      \n",
      "                                                                 lstm[69][2]                      \n",
      "                                                                 reshape[71][0]                   \n",
      "                                                                 lstm[70][0]                      \n",
      "                                                                 lstm[70][2]                      \n",
      "                                                                 reshape[72][0]                   \n",
      "                                                                 lstm[71][0]                      \n",
      "                                                                 lstm[71][2]                      \n",
      "                                                                 reshape[73][0]                   \n",
      "                                                                 lstm[72][0]                      \n",
      "                                                                 lstm[72][2]                      \n",
      "                                                                 reshape[74][0]                   \n",
      "                                                                 lstm[73][0]                      \n",
      "                                                                 lstm[73][2]                      \n",
      "                                                                 reshape[75][0]                   \n",
      "                                                                 lstm[74][0]                      \n",
      "                                                                 lstm[74][2]                      \n",
      "                                                                 reshape[76][0]                   \n",
      "                                                                 lstm[75][0]                      \n",
      "                                                                 lstm[75][2]                      \n",
      "                                                                 reshape[77][0]                   \n",
      "                                                                 lstm[76][0]                      \n",
      "                                                                 lstm[76][2]                      \n",
      "                                                                 reshape[78][0]                   \n",
      "                                                                 lstm[77][0]                      \n",
      "                                                                 lstm[77][2]                      \n",
      "                                                                 reshape[79][0]                   \n",
      "                                                                 lstm[78][0]                      \n",
      "                                                                 lstm[78][2]                      \n",
      "                                                                 reshape[80][0]                   \n",
      "                                                                 lstm[79][0]                      \n",
      "                                                                 lstm[79][2]                      \n",
      "                                                                 reshape[81][0]                   \n",
      "                                                                 lstm[80][0]                      \n",
      "                                                                 lstm[80][2]                      \n",
      "                                                                 reshape[82][0]                   \n",
      "                                                                 lstm[81][0]                      \n",
      "                                                                 lstm[81][2]                      \n",
      "                                                                 reshape[83][0]                   \n",
      "                                                                 lstm[82][0]                      \n",
      "                                                                 lstm[82][2]                      \n",
      "                                                                 reshape[84][0]                   \n",
      "                                                                 lstm[83][0]                      \n",
      "                                                                 lstm[83][2]                      \n",
      "                                                                 reshape[85][0]                   \n",
      "                                                                 lstm[84][0]                      \n",
      "                                                                 lstm[84][2]                      \n",
      "                                                                 reshape[86][0]                   \n",
      "                                                                 lstm[85][0]                      \n",
      "                                                                 lstm[85][2]                      \n",
      "                                                                 reshape[87][0]                   \n",
      "                                                                 lstm[86][0]                      \n",
      "                                                                 lstm[86][2]                      \n",
      "                                                                 reshape[88][0]                   \n",
      "                                                                 lstm[87][0]                      \n",
      "                                                                 lstm[87][2]                      \n",
      "                                                                 reshape[89][0]                   \n",
      "                                                                 lstm[88][0]                      \n",
      "                                                                 lstm[88][2]                      \n",
      "                                                                 reshape[90][0]                   \n",
      "                                                                 lstm[89][0]                      \n",
      "                                                                 lstm[89][2]                      \n",
      "                                                                 reshape[91][0]                   \n",
      "                                                                 lstm[90][0]                      \n",
      "                                                                 lstm[90][2]                      \n",
      "                                                                 reshape[92][0]                   \n",
      "                                                                 lstm[91][0]                      \n",
      "                                                                 lstm[91][2]                      \n",
      "                                                                 reshape[93][0]                   \n",
      "                                                                 lstm[92][0]                      \n",
      "                                                                 lstm[92][2]                      \n",
      "                                                                 reshape[94][0]                   \n",
      "                                                                 lstm[93][0]                      \n",
      "                                                                 lstm[93][2]                      \n",
      "                                                                 reshape[95][0]                   \n",
      "                                                                 lstm[94][0]                      \n",
      "                                                                 lstm[94][2]                      \n",
      "                                                                 reshape[96][0]                   \n",
      "                                                                 lstm[95][0]                      \n",
      "                                                                 lstm[95][2]                      \n",
      "                                                                 reshape[97][0]                   \n",
      "                                                                 lstm[96][0]                      \n",
      "                                                                 lstm[96][2]                      \n",
      "                                                                 reshape[98][0]                   \n",
      "                                                                 lstm[97][0]                      \n",
      "                                                                 lstm[97][2]                      \n",
      "                                                                 reshape[99][0]                   \n",
      "                                                                 lstm[98][0]                      \n",
      "                                                                 lstm[98][2]                      \n",
      "__________________________________________________________________________________________________\n",
      "lambda_2 (Lambda)               (None, 1)            0           input_1[0][0]                    \n",
      "__________________________________________________________________________________________________\n",
      "lambda_3 (Lambda)               (None, 1)            0           input_1[0][0]                    \n",
      "__________________________________________________________________________________________________\n",
      "lambda_4 (Lambda)               (None, 1)            0           input_1[0][0]                    \n",
      "__________________________________________________________________________________________________\n",
      "lambda_5 (Lambda)               (None, 1)            0           input_1[0][0]                    \n",
      "__________________________________________________________________________________________________\n",
      "lambda_6 (Lambda)               (None, 1)            0           input_1[0][0]                    \n",
      "__________________________________________________________________________________________________\n",
      "lambda_7 (Lambda)               (None, 1)            0           input_1[0][0]                    \n",
      "__________________________________________________________________________________________________\n",
      "lambda_8 (Lambda)               (None, 1)            0           input_1[0][0]                    \n",
      "__________________________________________________________________________________________________\n",
      "lambda_9 (Lambda)               (None, 1)            0           input_1[0][0]                    \n",
      "__________________________________________________________________________________________________\n",
      "lambda_10 (Lambda)              (None, 1)            0           input_1[0][0]                    \n",
      "__________________________________________________________________________________________________\n",
      "lambda_11 (Lambda)              (None, 1)            0           input_1[0][0]                    \n",
      "__________________________________________________________________________________________________\n",
      "lambda_12 (Lambda)              (None, 1)            0           input_1[0][0]                    \n",
      "__________________________________________________________________________________________________\n",
      "lambda_13 (Lambda)              (None, 1)            0           input_1[0][0]                    \n",
      "__________________________________________________________________________________________________\n",
      "lambda_14 (Lambda)              (None, 1)            0           input_1[0][0]                    \n",
      "__________________________________________________________________________________________________\n",
      "lambda_15 (Lambda)              (None, 1)            0           input_1[0][0]                    \n",
      "__________________________________________________________________________________________________\n",
      "lambda_16 (Lambda)              (None, 1)            0           input_1[0][0]                    \n",
      "__________________________________________________________________________________________________\n",
      "lambda_17 (Lambda)              (None, 1)            0           input_1[0][0]                    \n",
      "__________________________________________________________________________________________________\n",
      "lambda_18 (Lambda)              (None, 1)            0           input_1[0][0]                    \n",
      "__________________________________________________________________________________________________\n",
      "lambda_19 (Lambda)              (None, 1)            0           input_1[0][0]                    \n",
      "__________________________________________________________________________________________________\n",
      "lambda_20 (Lambda)              (None, 1)            0           input_1[0][0]                    \n",
      "__________________________________________________________________________________________________\n",
      "lambda_21 (Lambda)              (None, 1)            0           input_1[0][0]                    \n",
      "__________________________________________________________________________________________________\n",
      "lambda_22 (Lambda)              (None, 1)            0           input_1[0][0]                    \n",
      "__________________________________________________________________________________________________\n",
      "lambda_23 (Lambda)              (None, 1)            0           input_1[0][0]                    \n",
      "__________________________________________________________________________________________________\n",
      "lambda_24 (Lambda)              (None, 1)            0           input_1[0][0]                    \n",
      "__________________________________________________________________________________________________\n",
      "lambda_25 (Lambda)              (None, 1)            0           input_1[0][0]                    \n",
      "__________________________________________________________________________________________________\n",
      "lambda_26 (Lambda)              (None, 1)            0           input_1[0][0]                    \n",
      "__________________________________________________________________________________________________\n",
      "lambda_27 (Lambda)              (None, 1)            0           input_1[0][0]                    \n",
      "__________________________________________________________________________________________________\n",
      "lambda_28 (Lambda)              (None, 1)            0           input_1[0][0]                    \n",
      "__________________________________________________________________________________________________\n",
      "lambda_29 (Lambda)              (None, 1)            0           input_1[0][0]                    \n",
      "__________________________________________________________________________________________________\n",
      "lambda_30 (Lambda)              (None, 1)            0           input_1[0][0]                    \n",
      "__________________________________________________________________________________________________\n",
      "lambda_31 (Lambda)              (None, 1)            0           input_1[0][0]                    \n",
      "__________________________________________________________________________________________________\n",
      "lambda_32 (Lambda)              (None, 1)            0           input_1[0][0]                    \n",
      "__________________________________________________________________________________________________\n",
      "lambda_33 (Lambda)              (None, 1)            0           input_1[0][0]                    \n",
      "__________________________________________________________________________________________________\n",
      "lambda_34 (Lambda)              (None, 1)            0           input_1[0][0]                    \n",
      "__________________________________________________________________________________________________\n",
      "lambda_35 (Lambda)              (None, 1)            0           input_1[0][0]                    \n",
      "__________________________________________________________________________________________________\n",
      "lambda_36 (Lambda)              (None, 1)            0           input_1[0][0]                    \n",
      "__________________________________________________________________________________________________\n",
      "lambda_37 (Lambda)              (None, 1)            0           input_1[0][0]                    \n",
      "__________________________________________________________________________________________________\n",
      "lambda_38 (Lambda)              (None, 1)            0           input_1[0][0]                    \n",
      "__________________________________________________________________________________________________\n",
      "lambda_39 (Lambda)              (None, 1)            0           input_1[0][0]                    \n",
      "__________________________________________________________________________________________________\n",
      "lambda_40 (Lambda)              (None, 1)            0           input_1[0][0]                    \n",
      "__________________________________________________________________________________________________\n",
      "lambda_41 (Lambda)              (None, 1)            0           input_1[0][0]                    \n",
      "__________________________________________________________________________________________________\n",
      "lambda_42 (Lambda)              (None, 1)            0           input_1[0][0]                    \n",
      "__________________________________________________________________________________________________\n",
      "lambda_43 (Lambda)              (None, 1)            0           input_1[0][0]                    \n",
      "__________________________________________________________________________________________________\n",
      "lambda_44 (Lambda)              (None, 1)            0           input_1[0][0]                    \n",
      "__________________________________________________________________________________________________\n",
      "lambda_45 (Lambda)              (None, 1)            0           input_1[0][0]                    \n",
      "__________________________________________________________________________________________________\n",
      "lambda_46 (Lambda)              (None, 1)            0           input_1[0][0]                    \n",
      "__________________________________________________________________________________________________\n",
      "lambda_47 (Lambda)              (None, 1)            0           input_1[0][0]                    \n",
      "__________________________________________________________________________________________________\n",
      "lambda_48 (Lambda)              (None, 1)            0           input_1[0][0]                    \n",
      "__________________________________________________________________________________________________\n",
      "lambda_49 (Lambda)              (None, 1)            0           input_1[0][0]                    \n",
      "__________________________________________________________________________________________________\n",
      "lambda_50 (Lambda)              (None, 1)            0           input_1[0][0]                    \n",
      "__________________________________________________________________________________________________\n",
      "lambda_51 (Lambda)              (None, 1)            0           input_1[0][0]                    \n",
      "__________________________________________________________________________________________________\n",
      "lambda_52 (Lambda)              (None, 1)            0           input_1[0][0]                    \n",
      "__________________________________________________________________________________________________\n",
      "lambda_53 (Lambda)              (None, 1)            0           input_1[0][0]                    \n",
      "__________________________________________________________________________________________________\n",
      "lambda_54 (Lambda)              (None, 1)            0           input_1[0][0]                    \n",
      "__________________________________________________________________________________________________\n",
      "lambda_55 (Lambda)              (None, 1)            0           input_1[0][0]                    \n",
      "__________________________________________________________________________________________________\n",
      "lambda_56 (Lambda)              (None, 1)            0           input_1[0][0]                    \n",
      "__________________________________________________________________________________________________\n",
      "lambda_57 (Lambda)              (None, 1)            0           input_1[0][0]                    \n",
      "__________________________________________________________________________________________________\n",
      "lambda_58 (Lambda)              (None, 1)            0           input_1[0][0]                    \n",
      "__________________________________________________________________________________________________\n",
      "lambda_59 (Lambda)              (None, 1)            0           input_1[0][0]                    \n",
      "__________________________________________________________________________________________________\n",
      "lambda_60 (Lambda)              (None, 1)            0           input_1[0][0]                    \n",
      "__________________________________________________________________________________________________\n",
      "lambda_61 (Lambda)              (None, 1)            0           input_1[0][0]                    \n",
      "__________________________________________________________________________________________________\n",
      "lambda_62 (Lambda)              (None, 1)            0           input_1[0][0]                    \n",
      "__________________________________________________________________________________________________\n",
      "lambda_63 (Lambda)              (None, 1)            0           input_1[0][0]                    \n",
      "__________________________________________________________________________________________________\n",
      "lambda_64 (Lambda)              (None, 1)            0           input_1[0][0]                    \n",
      "__________________________________________________________________________________________________\n",
      "lambda_65 (Lambda)              (None, 1)            0           input_1[0][0]                    \n",
      "__________________________________________________________________________________________________\n",
      "lambda_66 (Lambda)              (None, 1)            0           input_1[0][0]                    \n",
      "__________________________________________________________________________________________________\n",
      "lambda_67 (Lambda)              (None, 1)            0           input_1[0][0]                    \n",
      "__________________________________________________________________________________________________\n",
      "lambda_68 (Lambda)              (None, 1)            0           input_1[0][0]                    \n",
      "__________________________________________________________________________________________________\n",
      "lambda_69 (Lambda)              (None, 1)            0           input_1[0][0]                    \n",
      "__________________________________________________________________________________________________\n",
      "lambda_70 (Lambda)              (None, 1)            0           input_1[0][0]                    \n",
      "__________________________________________________________________________________________________\n",
      "lambda_71 (Lambda)              (None, 1)            0           input_1[0][0]                    \n",
      "__________________________________________________________________________________________________\n",
      "lambda_72 (Lambda)              (None, 1)            0           input_1[0][0]                    \n",
      "__________________________________________________________________________________________________\n",
      "lambda_73 (Lambda)              (None, 1)            0           input_1[0][0]                    \n",
      "__________________________________________________________________________________________________\n",
      "lambda_74 (Lambda)              (None, 1)            0           input_1[0][0]                    \n",
      "__________________________________________________________________________________________________\n",
      "lambda_75 (Lambda)              (None, 1)            0           input_1[0][0]                    \n",
      "__________________________________________________________________________________________________\n",
      "lambda_76 (Lambda)              (None, 1)            0           input_1[0][0]                    \n",
      "__________________________________________________________________________________________________\n",
      "lambda_77 (Lambda)              (None, 1)            0           input_1[0][0]                    \n",
      "__________________________________________________________________________________________________\n",
      "lambda_78 (Lambda)              (None, 1)            0           input_1[0][0]                    \n",
      "__________________________________________________________________________________________________\n",
      "lambda_79 (Lambda)              (None, 1)            0           input_1[0][0]                    \n",
      "__________________________________________________________________________________________________\n",
      "lambda_80 (Lambda)              (None, 1)            0           input_1[0][0]                    \n",
      "__________________________________________________________________________________________________\n",
      "lambda_81 (Lambda)              (None, 1)            0           input_1[0][0]                    \n",
      "__________________________________________________________________________________________________\n",
      "lambda_82 (Lambda)              (None, 1)            0           input_1[0][0]                    \n",
      "__________________________________________________________________________________________________\n",
      "lambda_83 (Lambda)              (None, 1)            0           input_1[0][0]                    \n",
      "__________________________________________________________________________________________________\n",
      "lambda_84 (Lambda)              (None, 1)            0           input_1[0][0]                    \n",
      "__________________________________________________________________________________________________\n",
      "lambda_85 (Lambda)              (None, 1)            0           input_1[0][0]                    \n",
      "__________________________________________________________________________________________________\n",
      "lambda_86 (Lambda)              (None, 1)            0           input_1[0][0]                    \n",
      "__________________________________________________________________________________________________\n",
      "lambda_87 (Lambda)              (None, 1)            0           input_1[0][0]                    \n",
      "__________________________________________________________________________________________________\n",
      "lambda_88 (Lambda)              (None, 1)            0           input_1[0][0]                    \n",
      "__________________________________________________________________________________________________\n",
      "lambda_89 (Lambda)              (None, 1)            0           input_1[0][0]                    \n",
      "__________________________________________________________________________________________________\n",
      "lambda_90 (Lambda)              (None, 1)            0           input_1[0][0]                    \n",
      "__________________________________________________________________________________________________\n",
      "lambda_91 (Lambda)              (None, 1)            0           input_1[0][0]                    \n",
      "__________________________________________________________________________________________________\n",
      "lambda_92 (Lambda)              (None, 1)            0           input_1[0][0]                    \n",
      "__________________________________________________________________________________________________\n",
      "lambda_93 (Lambda)              (None, 1)            0           input_1[0][0]                    \n",
      "__________________________________________________________________________________________________\n",
      "lambda_94 (Lambda)              (None, 1)            0           input_1[0][0]                    \n",
      "__________________________________________________________________________________________________\n",
      "lambda_95 (Lambda)              (None, 1)            0           input_1[0][0]                    \n",
      "__________________________________________________________________________________________________\n",
      "lambda_96 (Lambda)              (None, 1)            0           input_1[0][0]                    \n",
      "__________________________________________________________________________________________________\n",
      "lambda_97 (Lambda)              (None, 1)            0           input_1[0][0]                    \n",
      "__________________________________________________________________________________________________\n",
      "lambda_98 (Lambda)              (None, 1)            0           input_1[0][0]                    \n",
      "__________________________________________________________________________________________________\n",
      "lambda_99 (Lambda)              (None, 1)            0           input_1[0][0]                    \n",
      "__________________________________________________________________________________________________\n",
      "dense (Dense)                   (None, 1)            65          lstm[0][0]                       \n",
      "                                                                 lstm[1][0]                       \n",
      "                                                                 lstm[2][0]                       \n",
      "                                                                 lstm[3][0]                       \n",
      "                                                                 lstm[4][0]                       \n",
      "                                                                 lstm[5][0]                       \n",
      "                                                                 lstm[6][0]                       \n",
      "                                                                 lstm[7][0]                       \n",
      "                                                                 lstm[8][0]                       \n",
      "                                                                 lstm[9][0]                       \n",
      "                                                                 lstm[10][0]                      \n",
      "                                                                 lstm[11][0]                      \n",
      "                                                                 lstm[12][0]                      \n",
      "                                                                 lstm[13][0]                      \n",
      "                                                                 lstm[14][0]                      \n",
      "                                                                 lstm[15][0]                      \n",
      "                                                                 lstm[16][0]                      \n",
      "                                                                 lstm[17][0]                      \n",
      "                                                                 lstm[18][0]                      \n",
      "                                                                 lstm[19][0]                      \n",
      "                                                                 lstm[20][0]                      \n",
      "                                                                 lstm[21][0]                      \n",
      "                                                                 lstm[22][0]                      \n",
      "                                                                 lstm[23][0]                      \n",
      "                                                                 lstm[24][0]                      \n",
      "                                                                 lstm[25][0]                      \n",
      "                                                                 lstm[26][0]                      \n",
      "                                                                 lstm[27][0]                      \n",
      "                                                                 lstm[28][0]                      \n",
      "                                                                 lstm[29][0]                      \n",
      "                                                                 lstm[30][0]                      \n",
      "                                                                 lstm[31][0]                      \n",
      "                                                                 lstm[32][0]                      \n",
      "                                                                 lstm[33][0]                      \n",
      "                                                                 lstm[34][0]                      \n",
      "                                                                 lstm[35][0]                      \n",
      "                                                                 lstm[36][0]                      \n",
      "                                                                 lstm[37][0]                      \n",
      "                                                                 lstm[38][0]                      \n",
      "                                                                 lstm[39][0]                      \n",
      "                                                                 lstm[40][0]                      \n",
      "                                                                 lstm[41][0]                      \n",
      "                                                                 lstm[42][0]                      \n",
      "                                                                 lstm[43][0]                      \n",
      "                                                                 lstm[44][0]                      \n",
      "                                                                 lstm[45][0]                      \n",
      "                                                                 lstm[46][0]                      \n",
      "                                                                 lstm[47][0]                      \n",
      "                                                                 lstm[48][0]                      \n",
      "                                                                 lstm[49][0]                      \n",
      "                                                                 lstm[50][0]                      \n",
      "                                                                 lstm[51][0]                      \n",
      "                                                                 lstm[52][0]                      \n",
      "                                                                 lstm[53][0]                      \n",
      "                                                                 lstm[54][0]                      \n",
      "                                                                 lstm[55][0]                      \n",
      "                                                                 lstm[56][0]                      \n",
      "                                                                 lstm[57][0]                      \n",
      "                                                                 lstm[58][0]                      \n",
      "                                                                 lstm[59][0]                      \n",
      "                                                                 lstm[60][0]                      \n",
      "                                                                 lstm[61][0]                      \n",
      "                                                                 lstm[62][0]                      \n",
      "                                                                 lstm[63][0]                      \n",
      "                                                                 lstm[64][0]                      \n",
      "                                                                 lstm[65][0]                      \n",
      "                                                                 lstm[66][0]                      \n",
      "                                                                 lstm[67][0]                      \n",
      "                                                                 lstm[68][0]                      \n",
      "                                                                 lstm[69][0]                      \n",
      "                                                                 lstm[70][0]                      \n",
      "                                                                 lstm[71][0]                      \n",
      "                                                                 lstm[72][0]                      \n",
      "                                                                 lstm[73][0]                      \n",
      "                                                                 lstm[74][0]                      \n",
      "                                                                 lstm[75][0]                      \n",
      "                                                                 lstm[76][0]                      \n",
      "                                                                 lstm[77][0]                      \n",
      "                                                                 lstm[78][0]                      \n",
      "                                                                 lstm[79][0]                      \n",
      "                                                                 lstm[80][0]                      \n",
      "                                                                 lstm[81][0]                      \n",
      "                                                                 lstm[82][0]                      \n",
      "                                                                 lstm[83][0]                      \n",
      "                                                                 lstm[84][0]                      \n",
      "                                                                 lstm[85][0]                      \n",
      "                                                                 lstm[86][0]                      \n",
      "                                                                 lstm[87][0]                      \n",
      "                                                                 lstm[88][0]                      \n",
      "                                                                 lstm[89][0]                      \n",
      "                                                                 lstm[90][0]                      \n",
      "                                                                 lstm[91][0]                      \n",
      "                                                                 lstm[92][0]                      \n",
      "                                                                 lstm[93][0]                      \n",
      "                                                                 lstm[94][0]                      \n",
      "                                                                 lstm[95][0]                      \n",
      "                                                                 lstm[96][0]                      \n",
      "                                                                 lstm[97][0]                      \n",
      "                                                                 lstm[98][0]                      \n",
      "                                                                 lstm[99][0]                      \n",
      "==================================================================================================\n",
      "Total params: 16,961\n",
      "Trainable params: 16,961\n",
      "Non-trainable params: 0\n",
      "__________________________________________________________________________________________________\n"
     ]
    }
   ],
   "source": [
    "model = model2(T_x=T_x)\n",
    "model.summary()"
   ]
  },
  {
   "cell_type": "code",
   "execution_count": 60,
   "id": "brief-blackberry",
   "metadata": {
    "scrolled": true
   },
   "outputs": [],
   "source": [
    "model.compile(loss='mean_squared_error', optimizer='adam', metrics=['mean_squared_error'])"
   ]
  },
  {
   "cell_type": "code",
   "execution_count": 17,
   "id": "clear-given",
   "metadata": {
    "collapsed": true,
    "jupyter": {
     "outputs_hidden": true
    },
    "scrolled": true,
    "tags": []
   },
   "outputs": [
    {
     "ename": "KeyboardInterrupt",
     "evalue": "",
     "output_type": "error",
     "traceback": [
      "\u001b[0;31m---------------------------------------------------------------------------\u001b[0m",
      "\u001b[0;31mKeyboardInterrupt\u001b[0m                         Traceback (most recent call last)",
      "\u001b[0;32m<ipython-input-17-860c1458b0f9>\u001b[0m in \u001b[0;36m<module>\u001b[0;34m\u001b[0m\n\u001b[0;32m----> 1\u001b[0;31m \u001b[0mfull_dataset\u001b[0m\u001b[0;34m,\u001b[0m \u001b[0mX\u001b[0m\u001b[0;34m,\u001b[0m \u001b[0mY\u001b[0m\u001b[0;34m,\u001b[0m \u001b[0mticker_set\u001b[0m \u001b[0;34m=\u001b[0m \u001b[0mprep_dataset\u001b[0m\u001b[0;34m(\u001b[0m\u001b[0mm\u001b[0m\u001b[0;34m)\u001b[0m\u001b[0;34m\u001b[0m\u001b[0;34m\u001b[0m\u001b[0m\n\u001b[0m\u001b[1;32m      2\u001b[0m \u001b[0ma0\u001b[0m \u001b[0;34m=\u001b[0m \u001b[0mnp\u001b[0m\u001b[0;34m.\u001b[0m\u001b[0mzeros\u001b[0m\u001b[0;34m(\u001b[0m\u001b[0;34m(\u001b[0m\u001b[0mm\u001b[0m\u001b[0;34m,\u001b[0m \u001b[0mn_a\u001b[0m\u001b[0;34m)\u001b[0m\u001b[0;34m)\u001b[0m\u001b[0;34m\u001b[0m\u001b[0;34m\u001b[0m\u001b[0m\n\u001b[1;32m      3\u001b[0m \u001b[0mc0\u001b[0m \u001b[0;34m=\u001b[0m \u001b[0mnp\u001b[0m\u001b[0;34m.\u001b[0m\u001b[0mzeros\u001b[0m\u001b[0;34m(\u001b[0m\u001b[0;34m(\u001b[0m\u001b[0mm\u001b[0m\u001b[0;34m,\u001b[0m \u001b[0mn_a\u001b[0m\u001b[0;34m)\u001b[0m\u001b[0;34m)\u001b[0m\u001b[0;34m\u001b[0m\u001b[0;34m\u001b[0m\u001b[0m\n\u001b[1;32m      4\u001b[0m \u001b[0mY\u001b[0m \u001b[0;34m=\u001b[0m \u001b[0mlist\u001b[0m\u001b[0;34m(\u001b[0m\u001b[0mY\u001b[0m\u001b[0;34m.\u001b[0m\u001b[0mswapaxes\u001b[0m\u001b[0;34m(\u001b[0m\u001b[0;36m0\u001b[0m\u001b[0;34m,\u001b[0m \u001b[0;36m1\u001b[0m\u001b[0;34m)\u001b[0m\u001b[0;34m)\u001b[0m \u001b[0;31m# super important for the output ordering!\u001b[0m\u001b[0;34m\u001b[0m\u001b[0;34m\u001b[0m\u001b[0m\n\u001b[1;32m      5\u001b[0m \u001b[0mmodel\u001b[0m\u001b[0;34m.\u001b[0m\u001b[0mfit\u001b[0m\u001b[0;34m(\u001b[0m\u001b[0;34m[\u001b[0m\u001b[0mX\u001b[0m\u001b[0;34m,\u001b[0m \u001b[0ma0\u001b[0m\u001b[0;34m,\u001b[0m \u001b[0mc0\u001b[0m\u001b[0;34m]\u001b[0m\u001b[0;34m,\u001b[0m \u001b[0mY\u001b[0m\u001b[0;34m,\u001b[0m \u001b[0mbatch_size\u001b[0m\u001b[0;34m=\u001b[0m\u001b[0;36m32\u001b[0m\u001b[0;34m,\u001b[0m \u001b[0mepochs\u001b[0m\u001b[0;34m=\u001b[0m\u001b[0;36m50\u001b[0m\u001b[0;34m)\u001b[0m\u001b[0;34m\u001b[0m\u001b[0;34m\u001b[0m\u001b[0m\n",
      "\u001b[0;32m<ipython-input-15-76aa5ccf4126>\u001b[0m in \u001b[0;36mprep_dataset\u001b[0;34m(size)\u001b[0m\n\u001b[1;32m     24\u001b[0m         \u001b[0;31m# retrieve market cap and number of values\u001b[0m\u001b[0;34m\u001b[0m\u001b[0;34m\u001b[0m\u001b[0;34m\u001b[0m\u001b[0m\n\u001b[1;32m     25\u001b[0m \u001b[0;34m\u001b[0m\u001b[0m\n\u001b[0;32m---> 26\u001b[0;31m         \u001b[0mmarketcap\u001b[0m \u001b[0;34m=\u001b[0m \u001b[0mget_market_cap\u001b[0m\u001b[0;34m(\u001b[0m\u001b[0mprices\u001b[0m\u001b[0;34m,\u001b[0m \u001b[0mticker\u001b[0m\u001b[0;34m,\u001b[0m \u001b[0mthreshold\u001b[0m\u001b[0;34m=\u001b[0m\u001b[0;36m2.0\u001b[0m\u001b[0;34m)\u001b[0m\u001b[0;34m\u001b[0m\u001b[0;34m\u001b[0m\u001b[0m\n\u001b[0m\u001b[1;32m     27\u001b[0m         \u001b[0mn_prices\u001b[0m \u001b[0;34m=\u001b[0m \u001b[0mlen\u001b[0m\u001b[0;34m(\u001b[0m\u001b[0mmarketcap\u001b[0m\u001b[0;34m)\u001b[0m\u001b[0;34m\u001b[0m\u001b[0;34m\u001b[0m\u001b[0m\n\u001b[1;32m     28\u001b[0m \u001b[0;34m\u001b[0m\u001b[0m\n",
      "\u001b[0;32m<ipython-input-14-f234235119ec>\u001b[0m in \u001b[0;36mget_market_cap\u001b[0;34m(prices, ticker, threshold)\u001b[0m\n\u001b[1;32m     13\u001b[0m     \"\"\"\n\u001b[1;32m     14\u001b[0m \u001b[0;34m\u001b[0m\u001b[0m\n\u001b[0;32m---> 15\u001b[0;31m     \u001b[0mmarketcap\u001b[0m \u001b[0;34m=\u001b[0m \u001b[0mprices\u001b[0m\u001b[0;34m[\u001b[0m\u001b[0mprices\u001b[0m\u001b[0;34m[\u001b[0m\u001b[0;34m'Ticker'\u001b[0m\u001b[0;34m]\u001b[0m\u001b[0;34m==\u001b[0m\u001b[0mticker\u001b[0m\u001b[0;34m]\u001b[0m\u001b[0;34m[\u001b[0m\u001b[0;34m'Price'\u001b[0m\u001b[0;34m]\u001b[0m \u001b[0;34m*\u001b[0m \u001b[0mprices\u001b[0m\u001b[0;34m[\u001b[0m\u001b[0mprices\u001b[0m\u001b[0;34m[\u001b[0m\u001b[0;34m'Ticker'\u001b[0m\u001b[0;34m]\u001b[0m\u001b[0;34m==\u001b[0m\u001b[0mticker\u001b[0m\u001b[0;34m]\u001b[0m\u001b[0;34m[\u001b[0m\u001b[0;34m'Shares'\u001b[0m\u001b[0;34m]\u001b[0m \u001b[0;34m/\u001b[0m \u001b[0;36m1000000000\u001b[0m\u001b[0;34m\u001b[0m\u001b[0;34m\u001b[0m\u001b[0m\n\u001b[0m\u001b[1;32m     16\u001b[0m     \u001b[0mmarketcap\u001b[0m \u001b[0;34m=\u001b[0m \u001b[0mmarketcap\u001b[0m\u001b[0;34m[\u001b[0m\u001b[0mmarketcap\u001b[0m\u001b[0;34m>\u001b[0m\u001b[0mthreshold\u001b[0m\u001b[0;34m]\u001b[0m\u001b[0;34m\u001b[0m\u001b[0;34m\u001b[0m\u001b[0m\n\u001b[1;32m     17\u001b[0m \u001b[0;34m\u001b[0m\u001b[0m\n",
      "\u001b[0;31mKeyboardInterrupt\u001b[0m: "
     ]
    }
   ],
   "source": [
    "full_dataset, X, Y, ticker_set = prep_dataset(m)\n",
    "a0 = np.zeros((m, n_a))\n",
    "c0 = np.zeros((m, n_a))\n",
    "Y = list(Y.swapaxes(0, 1)) # super important for the output ordering!\n",
    "model.fit([X, a0, c0], Y, batch_size=32, epochs=50)"
   ]
  },
  {
   "cell_type": "markdown",
   "id": "finite-apollo",
   "metadata": {},
   "source": [
    "#### Model Attempt 1\n",
    "\n",
    "1 LSTM layer and 1 time-distributed dense layer"
   ]
  },
  {
   "cell_type": "code",
   "execution_count": 4,
   "id": "moving-corner",
   "metadata": {
    "scrolled": true,
    "tags": []
   },
   "outputs": [
    {
     "name": "stdout",
     "output_type": "stream",
     "text": [
      "[187.67094708 188.18510485 375.65510014 ... 753.81538351 766.52330332\n",
      " 736.99062003]\n"
     ]
    }
   ],
   "source": [
    "# prices = np.reshape(prices, (prices.size, 1)) # unnecessary, but keeping just in case\n",
    "# prices = np.array(prices) # also unnecessary\n",
    "marketcap = prices[prices['Ticker']=='GOOG']['Price'] * prices[prices['Ticker']=='GOOG']['Shares'] / 1000000000\n",
    "print(marketcap)"
   ]
  },
  {
   "cell_type": "code",
   "execution_count": 7,
   "id": "preceding-emergency",
   "metadata": {
    "collapsed": true,
    "jupyter": {
     "outputs_hidden": true
    },
    "scrolled": true,
    "tags": []
   },
   "outputs": [
    {
     "name": "stdout",
     "output_type": "stream",
     "text": [
      "[]\n",
      "{'SIVB', 'UIHC', 'TOWR', 'VIVE', 'FET', 'IHT', 'AHCP', 'STLD', 'CWS', 'ACLZ', 'RAVE', 'WIFI', 'QEBR', 'ZION', 'CVA', 'ICE', 'HALO', 'CNA', 'HCSG', 'NGL', 'ANF', 'KMI', 'BLCM', 'KORS', 'ALXN', 'CTXR', 'RLH', 'RKDA', 'CHEF', 'ABTX', 'BABY', 'ASPN', 'ABT', 'ELY', 'SCVL', 'CBL', 'AVGO', 'MNI', 'NHC', 'CHDN', 'REMI', 'ACN', 'MARK', 'PAA', 'TYL', 'AMT', 'RE', 'CNND', 'ADMA', 'CMRO', 'JCP', 'GFF', 'MCBC', 'MNRL', 'DDS', 'MEDF', 'RCII', 'SEAS', 'DY', 'PCMI', 'AVT', 'STRT', 'ALV', 'GOLF', 'WRK', 'ENDP_o', 'RCUS', 'MPWR', 'UPS', 'CLX', 'HDP', 'RFMD', 'HAR', 'NXST', 'SGMO', 'CMT', 'SNPS', 'FPH', 'ESV', 'ITNM', 'DKS', 'CRR', 'OXFD', 'SAAX', 'ALTR', 'ALPN', 'GPRO', 'IMGN', 'UIS', 'UHAL', 'MUX', 'FOX', 'HNI', 'ADOM', 'MOS', 'GE', 'PLPC', 'ICUI', 'PK', 'HURC', 'SAIC', 'LMT', 'PPSI', 'HRL', 'XHR', 'TTD', 'FICO', 'DHR', 'FII', 'CVX', 'PH', 'CPE', 'MSG', 'INCY', 'REI', 'M', 'YELP', 'MASI', 'CF', 'IFON', 'EPE', 'QLGC', 'PRSC', 'TPIC', 'AXL', 'AMC', 'TSRO', 'AVLR', 'SCI', 'VXRT', 'DMLP', 'AHS', 'KONA', 'BRY', 'KSS', 'FORR', 'QNST', 'FFIV', 'BSET', 'AVGR', 'CSGP', 'SOHO', 'HE', 'MNRO', 'HTGM', 'AON', 'BRRE', 'FRGI', 'MBOT', 'SANW', 'CE', 'KRO', 'GPC', 'FIX', 'TCO', 'NTAP', 'SAH', 'AVTR', 'ACER', 'TEL', 'KATE', 'DLR', 'SCG', 'PHH', 'AE', 'LEAF', 'ALLE', 'ENDP', 'ISR', 'PANW', 'O', 'CLOUD', 'THO', 'BWLA', 'AEPI', 'STBA', 'AOSL', 'TSCO', 'PBF', 'BPOP', 'PSSR', 'PNRA', 'MNK', 'PRI', 'NCS', 'HBAN', 'CYNK', 'ROIA', 'SUI', 'SOTK', 'ACGL', 'APC', 'SHPGF', 'NBL', 'WTR', 'AMG', 'ITW', 'ALGT', 'NGHC', 'DCI', 'BGS', 'ABM', 'EXC', 'ZYXI', 'TREE', 'IART', 'PEGA', 'MTZ', 'SCWX', 'ARQL', 'REN', 'LHCG', 'AXP', 'RSLS', 'PLNT', 'AAPL', 'RDNT', 'CLRB', 'SMID', 'LABL', 'SMP', 'SGEN', 'STJ', 'DENN', 'COTV', 'FCNCA', 'PLAB', 'AZPN', 'CFX', 'BLUE', 'PJT', 'GLC', 'BREW', 'DYNT', 'HSTM', 'CMP', 'ICHR', 'CACC', 'BOX', 'SEDG', 'COT', 'WNDW', 'COMM', 'OII', 'KBH', 'RESI', 'HOT', 'BGCP', 'SWX', 'LAD', 'VIRC', 'CPST', 'ODFL', 'UTX', 'AMD', 'PXD', 'AES', 'AMOT', 'XRX', 'PCH', 'ALX', 'OOMA', 'DXCM', 'MDXG', 'IHRC', 'ARE', 'WPG', 'MRTX', 'HRT', 'KPTI', 'TER', 'KKD', 'LNG', 'RJF', 'PFE', 'PACW', 'GME', 'GUID', 'VR', 'USAP', 'YOGA', 'AXTA', 'SEIC', 'IDXX', 'PRLE', 'TIF', 'THS', 'AAOI', 'DELL', 'HIG', 'HYH', 'CBSH', 'DGX', 'BE', 'AKR', 'CXP', 'AREX', 'PPIH', 'SCRH', 'AXN', 'NBIX', 'JNPR', 'ICPW', 'OGS', 'ALRM', 'TROX', 'GRWG', 'ALSN', 'TSC', 'DPZ', 'VRS', 'TDOC', 'MDSO', 'ELAN', 'PSEG', 'YITD', 'MRO', 'MIK', 'DLTH', 'IMDZ', 'JOY', 'TUSK', 'TXN', 'MPX', 'SCHL', 'ADSK', 'BTAI', 'FUL', 'RES', 'TELL', 'SLG', 'CSU', 'CL', 'SSNC', 'GSEG', 'SGMS', 'APU', 'PNW', 'IHC', 'IEP', 'SFM', 'ABUS', 'TWLO', 'RDFN', 'UFS', 'BRID', 'UTHR', 'IMMY', 'WEB', 'ENBL', 'UDR', 'CAR', 'ES', 'EGP', 'CPLG', 'CIO', 'AVEO', 'OPHT', 'CA', 'AIR', 'SIG', 'EIX', 'AIZ', 'PYPL', 'SINO', 'XOXO', 'SNA', 'WCC', 'MSFT', 'BNCL', 'AAP', 'HOME', 'DRAD', 'AMH', 'VRTX', 'SAFM', 'XNCR', 'PNM', 'RELY', 'PI', 'CIDM', 'BDX', 'GNTX', 'NTRS', 'USG', 'FLLZ', 'GDOT', 'PDFS', 'CHRS', 'AJBI', 'DUK', 'STZ', 'HOMB', 'BHLB', 'TERP', 'TYPE', 'APGH', 'ANDE', 'WNC', 'NICK', 'GNW', 'HP', 'HAE', 'TSE', 'ADBE', 'CPXX', 'IAC', 'MED', 'ALK', 'EAT', 'KWR', 'BERY', 'VAPE', 'EGY', 'MDT', 'AAON', 'TU', 'IVTY', 'FSI', 'DLB', 'DK', 'TPCS', 'RJDG', 'ON', 'FELE', 'TACO', 'PROV', 'CLI', 'INFO', 'FIS', 'NI', 'NEU', 'MDP', 'OC', 'AGCO', 'KW', 'CHAP', 'OMI', 'BHR', 'HMHC', 'KRA', 'KDP', 'GD', 'MHH', 'ATNX', 'SHO', 'PRGB', 'CQH', 'EPAY', 'WPTH', 'NXPI', 'STMP', 'SWK', 'DHI', 'PACB', 'APIC', 'KIRK', 'FHB', 'TRHC', 'WAL', 'FDX', 'SAFE', 'BV', 'FCN', 'SEE', 'PRPO', 'HOFT', 'MECK', 'RLGY', 'HLT', 'BBBY', 'IEX', 'PRAH', 'SIGM', 'ILMN', 'SAIL', 'FTEK', 'OVV', 'RRGB', 'KEY', 'OZRK', 'CALD', 'SSD', 'CUBE', 'USAT', 'AMDA', 'AVXL', 'KNX', 'GPRE', 'CRS', 'GPN', 'IPOA', 'FMBH', 'NURO', 'DNKN', 'SAM', 'ERIE', 'CNFR', 'FRPT', 'EVOP', 'FPRX', 'HCP', 'MIST', 'WSM', 'OSK', 'AVA', 'CCMP', 'ZEUS', 'ARO', 'AHH', 'SRE', 'AMRU', 'WMAR', 'FIVN', 'CYAN', 'SYNT', 'SWKS', 'DOCU', 'GNRC', 'WHR', 'NTNX', 'EAF', 'SHAK', 'FSLR', 'SCND', 'PBYI', 'CDNA', 'CREE', 'LKQ', 'TESO', 'NCLH', 'PSTG', 'STOK', 'BKE', 'MAS', 'RGS', 'CHSP', 'SHOS', 'MOV', 'ELS', 'WH', 'BERK', 'ALE', 'HZO', 'WAT', 'PSN', 'PIXY', 'SDON', 'DVAX', 'FRT', 'SBSA', 'BKR', 'SRCE', 'LUNA', 'CSII', 'SO', 'LII', 'GMRE', 'DCPH', 'INTU', 'PKG', 'ALJJ', 'DAL', 'OLN', 'SPOK', 'EVTC', 'ARA', 'ETRN', 'EXP', 'SLFC', 'SCX', 'ARAY', 'WR', 'CFR', 'CY', 'EOG', 'CYRP', 'LECO', 'NUAN', 'XEC', 'ROKU', 'VSAT', 'VNE', 'MMMB', 'AIV', 'KOOL', 'KTWO', 'CAG', 'HYLN', 'MATR', 'MDLZ', 'ENV', 'BKS', 'PVHO', 'HUBS', 'IDLM', 'SON', 'KEX', 'TTMI', 'RSYS', 'MGM', 'INFU', 'SFBC', 'COP', 'AR', 'HGEN', 'FCPT', 'PVAC', 'SVMK', 'UNM', 'SSC', 'HPTX', 'AKER', 'DNR', 'AL', 'CRD-A', 'CCOI', 'ABEO', 'CVLT', 'MVIS', 'TMUS', 'NSSC', 'JCI', 'UPWK', 'EPRT', 'GPS', 'FLXS', 'CAGU', 'VERI', 'ESGR', 'PSTI', 'CGA', 'LKSD', 'TRNS', 'BLDR', 'PCTY', 'JAGX', 'CTL', 'PNC', 'OKTA', 'T', 'TRMB', 'NOW', 'DTIL', 'AYX', 'LBTYA', 'LB', 'BRC', 'KNSL', 'RATE', 'TWI', 'CVS', 'CBB', 'BMS', 'KHC', 'RSG', 'GRUB', 'SYY', 'SATS', 'NLNK', 'GTN', 'MIC', 'GOEV', 'AXON', 'PLAN', 'HIBB', 'TKR', 'CELG', 'KIM', 'STI', 'COG', 'GRPN', 'ARWR', 'CASY', 'STX', 'JYNT', 'CRAY', 'AKAM', 'ADP', 'JEC', 'MLAB', 'VERU', 'SESN', 'MGP', 'LRCX', 'AMZN', 'DHX', 'CLDR', 'TRC', 'CW', 'DFCO', 'BSM', 'ARVN', 'MAR', 'ALEX', 'STLR', 'MEDP', 'NDSN', 'AVP', 'PUB', 'TWTR', 'CQP', 'RH', 'TOL', 'AEP', 'NSP', 'PZZA', 'CALA', 'RMD', 'CR', 'CHD', 'SBAC', 'LARK', 'CRSP', 'ACIW', 'SJI', 'BPL', 'FSLY', 'TSS', 'DSW', 'SPXC', 'EMGL', 'CYCC', 'PX', 'MYGN', 'EME', 'LPSN', 'ENG', 'QSIM', 'RIOT', 'LUV', 'NEE', 'ASYS', 'NANO', 'FR', 'CIVI', 'CAPC', 'ORC', 'IBKR', 'CBM', 'SMG', 'FCX', 'BOKF', 'LEE', 'ACY', 'GH', 'MAMS', 'SYF', 'MEET', 'UVE', 'EVA', 'DDOG', 'AAC', 'AVYA', 'USMD', 'CHNG', 'CARG', 'USCR', 'SPWR', 'ALOT', 'CRM', 'GWPH', 'TRUE', 'EA', 'SWI', 'CRWD', 'WBA', 'SOLS', 'VAC', 'TMK', 'OMCL', 'CYCA', 'NATL', 'HSY', 'BOFI', 'JNJ', 'PCP', 'IVAC', 'MU', 'MXIM', 'CYIG', 'ASPU', 'SORL', 'HCOM', 'FOR', 'CWRL', 'NOV', 'GO', 'CBKM', 'MYL', 'SLFI', 'RWLK', 'CNP', 'CMND', 'IOTS', 'ICPT', 'COF', 'VFC', 'SF', 'FB', 'INSW', 'FSP', 'TGLO', 'FOX_ol', 'BSTC', 'RDEN', 'CNXR', 'SKX', 'OTRK', 'AAXN', 'CHWY', 'INFI', 'CBRL', 'GNL', 'ITCI', 'GWRE', 'BNFT', 'SAVA', 'WMGI', 'TAYD', 'PD', 'BMRA', 'ONVO', 'CMD', 'LVLT', 'FTI_ol', 'EPD', 'GLW', 'CCS', 'TIME', 'AOS', 'NGRP', 'RGNX', 'MFRM', 'WING', 'ISIL', 'SPY', 'TBTC', 'CHRW', 'LDOS', 'MLHR', 'CAMP', 'BAH', 'FMC', 'NKE', 'UBNT', 'KODK', 'CBT', 'WM', 'ORI', 'WKHS', 'BK', 'SKYW', 'SNHY', 'FC', 'CWT', 'INTT', 'ONS', 'GIDYL', 'TSQ', 'USB', 'KN', 'FARM', 'AMED', 'MTG', 'JMBA', 'UPL', 'AGN', 'EBS', 'EBAY', 'ALB', 'EMMS', 'MA', 'DEST', 'GEL', 'EVRG', 'BLD', 'MORN', 'JELD', 'VRSK', 'VVV', 'ESI', 'PHM', 'PRLB', 'BLFS', 'IBKC', 'PDEX', 'MXWL', 'CP', 'MSA', 'HPP', 'AVNW', 'PRPL', 'TTC', 'MTCH', 'NVTA', 'OTEX', 'BZH', 'ADES', 'LIVE', 'ACC', 'AME', 'AHC', 'LCUT', 'SPPI', 'VC', 'APH', 'TFX', 'EFOI', 'YUM', 'PTON', 'TLRD', 'MGPI', 'VIRT', 'WFT', 'RS', 'SANP', 'WES', 'SKT', 'ABD', 'SRT', 'APRN', 'BRKS', 'ADTM', 'MRCY', 'VGR', 'ETE', 'MMS', 'DGLF', 'LL', 'HON', 'MMP', 'OKE', 'SONC', 'ISSC', 'MUR', 'CARS', 'NS', 'NLST', 'KRC', 'LLY', 'IGT', 'BPMC', 'WLB', 'VNO', 'WGO', 'APVO', 'LEGH', 'SMA', 'SEEK', 'CTO', 'VNCE', 'MN', 'AIG', 'FRD', 'LPG', 'BGG', 'CHJI', 'DTRM', 'SWN', 'CLC', 'NKTR', 'WEN', 'CRY', 'DECK', 'ADPT', 'ATW', 'AGNC', 'BID', 'RUBI', 'IR', 'FLT', 'ISBC', 'ENR', 'NSC', 'CLR', 'COST', 'NTGR', 'QSR', 'AMCX', 'LYFT', 'TRT', 'CCL', 'SRNE', 'SCHW', 'PBCT', 'STAY', 'HLF', 'KEYS', 'TPB', 'XYL', 'MELI', 'BJRI', 'ADPT_d', 'JWN', 'JKHY', 'FRP', 'NMBL', 'REGN', 'EEP', 'DM', 'PHX', 'AAT', 'MSI', 'CERN', 'RIGL', 'DFFN', 'EGHT', 'FF', 'RNR', 'EVLO', 'AAMC', 'PINS', 'RRR', 'GGG', 'MNKD', 'NCMI', 'BXC', 'FRED', 'MYCC', 'CDR', 'ADM', 'AZZ', 'ACAT', 'SOHU', 'CETX', 'HCCI', 'VWR', 'ARCW', 'AJX', 'DPLO', 'COL', 'INOV', 'JVA', 'ADT', 'HTZ', 'DEI', 'MPC', 'LGND', 'YELL', 'ITG', 'PLAY', 'VSM', 'CME', 'EIGI', 'FLUG', 'ALKS', 'JBCT', 'UBX', 'PETM', 'ESRX', 'EVH', 'TRV', 'ACET', 'FNSR', 'BHF', 'IRBT', 'HII', 'CNDT', 'GIII', 'DLTR', 'GLGI', 'VOXX', 'AZO', 'RIG', 'JBHT', 'QCOM', 'RST', 'SURF', 'OGE', 'KKR', 'BFLD', 'GIS', 'TRCY', 'MHP', 'GTHX', 'NLSN', 'CNS', 'WU', 'BFS', 'BCOR', 'FDS', 'MCD', 'GEOS', 'EPAM', 'CTSH', 'ALTM', 'GDDY', 'CMTL', 'JOE', 'ITI', 'MANH', 'WMT', 'HAS', 'PII', 'LULU', 'ENVA', 'BVSN', 'PKE', 'QCP', 'DFS', 'OXY', 'ESCA', 'AGR', 'IBM', 'WLK', 'NEO', 'AA', 'AGX', 'ESTE', 'TIS', 'ESNT', 'LBUY', 'ALNY', 'FLR', 'BURL', 'SFIX', 'ENZ', 'BKNG', 'CHH', 'OTEL', 'RGLS', 'ATVI', 'SHLO', 'CULP', 'CI', 'LVS', 'WRLD', 'BPI', 'QTNA', 'MRK', 'NDAQ', 'HOLX', 'HES', 'GPT', 'ANTM', 'TVTY', 'MENT', 'AAME', 'C', 'TCX', 'PENN', 'HTLD', 'PTAM', 'PMD', 'RGA', 'FOSL', 'KBR', 'WSCI', 'BMI', 'NPTN', 'LVIS', 'GBT', 'INTL', 'NBY', 'ST', 'VAR', 'XPEL', 'CSBR', 'NWL', 'COKE', 'BBGI', 'BHI', 'WYND', 'FMCC', 'LSXMA', 'ARRS', 'IPG', 'PCG', 'BOOT', 'FITB', 'JCOM', 'TCBI', 'NWE', 'RYN', 'XONE', 'WELL', 'SSP', 'APTI', 'MLM', 'WSTC', 'OPY', 'BX', 'CSWI', 'UOLI', 'EXPO', 'ACIA', 'ONDK', 'TSSI', 'WDAY', 'BSPM', 'ZIOP', 'BRO', 'PEP', 'RA', 'NFLX', 'JJSF', 'CAL', 'TGNA', 'VEC', 'UGI', 'FRAN', 'AWI', 'MFON', 'OSIS', 'BKD', 'CPSI', 'SNDR', 'ROL', 'ATRO', 'PAYC', 'SYK', 'VIA', 'EGLT', 'GBX', 'SRGA', 'KLXI', 'MTD', 'DIS', 'ESTC', 'MMM', 'IMPV', 'CXO', 'BKH', 'ESL', 'VRTU', 'NFX', 'GLYC', 'CNX', 'SXC', 'PTC', 'NSA', 'LOGI', 'OXM', 'CBS', 'MS', 'VAL', 'LVGO', 'RHE', 'BIO', 'TREX', 'CCH', 'AIRI', 'MIND', 'STOR', 'LNT', 'LCNB', 'ABCB', 'AMRK', 'DOC', 'LE', 'ADTN', 'HFC', 'TAGG', 'MCK', 'FBHS', 'CLAR', 'WTS', 'FLOW', 'WYNN', 'UE', 'CTAS', 'BLK', 'TOCA', 'TLCC', 'WDHR', 'MGNX', 'HL', 'VRSN', 'PLCE', 'BKYI', 'ZUMZ', 'GEO', 'DRQ', 'MENI', 'LNC', 'JBLU', 'GCO', 'CCE', 'NHI', 'LGCY', 'DBX', 'NHTC', 'ARCP', 'ARI', 'AROC', 'CBLK', 'ADUS', 'CCK', 'MIXX', 'EMR', 'HPQ', 'MITK', 'FND', 'MUSA', 'CSLT', 'AC', 'AEE', 'SHOR', 'CAH', 'CNXT', 'MKSI', 'LLTC', 'MD', 'OSTK', 'BABL', 'SE', 'PAYS', 'NYT', 'DLX', 'UNAM', 'HSII', 'NKLA', 'CUZ', 'WMB', 'LTC', 'RHI', 'CDE', 'EFCT', 'SVT', 'IMSCQ', 'SGH', 'TUES', 'APPS', 'TYME', 'MNTM', 'P', 'GHC', 'TXMD', 'FOE', 'SLB', 'ARW', 'MGLN', 'ETH', 'CBRE', 'MTRN', 'HSIC', 'MMI', 'NEOS', 'SNDK', 'ROG', 'SUPN', 'CRVS', 'INBI', 'BBY', 'CDI', 'BLKB', 'WORK', 'USX', 'LSI', 'PM', 'MEIP', 'SFLY', 'NEWR', 'LAKE', 'WSO', 'NTRI', 'EXEL', 'HRB', 'WWW', 'SNH', 'RFIL', 'FORD', 'VEEV', 'IBOC', 'LH', 'PRO', 'CONE', 'FAF', 'KO', 'PGRE', 'HRS', 'WSR', 'APOG', 'CLF', 'VMW', 'CLNC', 'MAN', 'STML', 'VLRX', 'SRLP', 'NUTR', 'AVGO_o', 'RAX', 'REZI', 'HEMA', 'BGNE', 'EVFM', 'ADXS', 'BRMK', 'SDPI', 'CAKE', 'JBGS', 'HNRG', 'SNX', 'RECN', 'MCHP', 'RNG', 'TBI', 'K', 'AYI', 'NVEC', 'VLO', 'ALLY', 'BRG', 'GOBK', 'RRC', 'RGC', 'EVRI', 'CMCSA', 'NAV', 'CDW', 'WINA', 'HI', 'TRGP', 'KRFT', 'SKPN', 'WSTL', 'ACT', 'SEMG', 'FLIR', 'MTOR', 'TGI', 'LNN', 'AKRX', 'TWER', 'IONS', 'RFP', 'LYB', 'KR', 'FEYE', 'HXL', 'RMBL', 'TRUP', 'TITN', 'FNB', 'ASCMA', 'AMTD', 'AN', 'MCO', 'UNP', 'GIMO', 'EHC', 'ISRG', 'CTIC', 'X', 'LMNR', 'OFLX', 'EMIS', 'ETR', 'TEP', 'REGI', 'HTM', 'NEOG', 'TTEK', 'CMC', 'NJR', 'DKNG', 'AFI', 'WWD', 'WSBC', 'CAT', 'OCN', 'CMCO', 'WEX', 'IVDN', 'ETM', 'MNST', 'PPL', 'IPGP', 'CIK0', 'ROCK', 'LOPE', 'DOV', 'DXC', 'AMGN', 'SPLK', 'NEM', 'TSRI', 'ANDX', 'VZ', 'QDEL', 'PEGI', 'SCOR', 'PURE', 'COR', 'RLI', 'SPNE', 'LW', 'WBC', 'HELE', 'AJRD', 'FNGR', 'SPG', 'TA', 'GHDX', 'ABAX', 'TTGT', 'ACW', 'DAN', 'EE', 'DOMO', 'SNI', 'RAMP', 'BBRG', 'GRMN', 'CVNA', 'UFI', 'MATX', 'REDG', 'ETEC', 'EPR', 'GB', 'OLP', 'BFB', 'GGP_ol', 'ARCI', 'ACA', 'DF', 'AJG', 'CC', 'HMTV', 'W', 'RMCF', 'CLFD', 'GLPI', 'GRMM', 'URI', 'EXPE', 'USNA', 'EVC', 'R', 'ESS', 'ATSR', 'CMO', 'RICK', 'PSB', 'EFR', 'FANG', 'BEBE', 'REXR', 'DRTT', 'SPNC', 'ORLY', 'VUZI', 'SRDX', 'GWRS', 'BRSS', 'KMG', 'NRG', 'MO', 'TWX', 'CDK', 'ETFC', 'ALSK', 'IMKI', 'ACRX', 'Y', 'OAK', 'ARMK_o', 'LEN', 'ETN', 'SIX', 'MDU', 'ARNA', 'CTT', 'QRTEA', 'ALCO', 'AWK', 'PLD', 'SBRA', 'SDC', 'RILY', 'AWRE', 'BWA', 'AMKR', 'SNAK', 'JW-A', 'ZUO', 'WERN', 'MSCC', 'TENB', 'LLNW', 'MIDD', 'LOW', 'HCACU', 'TTWO', 'ZYNE', 'ECA', 'EV', 'HNNA', 'BHE', 'HTH', 'EMN', 'PINC', 'DDD', 'STE', 'EFX', 'ADIL', 'AMWD', 'LXRX', 'INTC', 'IO', 'CLH', 'ELMD', 'BMY', 'WGL', 'ALL', 'CCXI', 'MTEM', 'XOM', 'EPZM', 'VTVT', 'TMDX', 'JACK', 'MJTK', 'SPLS', 'VRNS', 'DBD', 'EXAS', 'ADV', 'JLL', 'ZNGA', 'FDC', 'CMPR', 'IFF', 'MFA', 'BSIG', 'PRTS', 'PODD', 'XSPY', 'LGL', 'REAL', 'RL', 'CALX', 'FL', 'RP', 'AXTI', 'RF', 'VTR', 'ATHN', 'VSTO', 'ABCD', 'AAL', 'MJCO', 'MAA', 'CODI', 'VRNT', 'BRKA', 'POOL', 'XRAY', 'PS', 'ADVM', 'POM', 'FIZZ', 'BG', 'IPAR', 'EQIX', 'WEC', 'DOW', 'AHFD', 'AVAV', 'MWW', 'BPMP', 'SERV', 'CWH', 'CROX', 'ATUS', 'SJW', 'TRNC', 'NDLS', 'NVCR', 'MAXR', 'DX', 'USFD', 'PCRX', 'ACHC', 'CABO', 'FGEN', 'BRX', 'PTEN', 'MTB', 'BYND', 'NGVT', 'BAX', 'YORW', 'RBBN', 'LXP', 'FTK', 'LXRP', 'CSS', 'DXPE', 'MRNA', 'BAC', 'LFUS', 'COVS', 'TLRA', 'AGLE', 'SMLP', 'QLYS', 'SLM', 'TZOO', 'AXS', 'TRIP', 'HEI', 'BKU', 'EFH', 'UA', 'MDRX', 'AVY', 'APD', 'ATKR', 'DDR', 'ULBI', 'SAVE', 'SILK', 'SCSS', 'MTRX', 'MMC', 'KSU', 'REV', 'COTY', 'FAST', 'ENS', 'HAYN', 'BTU', 'DISCA', 'CASI', 'SEV', 'ATOM', 'NATR', 'EXA', 'SRG', 'ISDR', 'BKTI', 'APA', 'ED', 'SYMC', 'SMED', 'UMPQ', 'HICKA', 'UBER', 'SPB', 'CNNX', 'JCS', 'WFC', 'BBT', 'APPF', 'BR', 'TST', 'LNTH', 'PTE', 'TAP', 'IMO', 'BXP', 'MBFI', 'LOGM', 'PSA', 'MRC', 'SWM', 'INT', 'AWH', 'GSIT', 'PVH', 'THC', 'LCI', 'OLED', 'CMG', 'AGI', 'NXRT', 'IHRT', 'IPAS', 'FEIM', 'AINC', 'RDC', 'UNH', 'SNCR', 'CPN', 'CSRA', 'TDG', 'AGIO', 'REED', 'SABR', 'DDE', 'XCO', 'NEPH', 'IVZ', 'CNVR', 'RSPP', 'GHML', 'FTNT', 'JPM', 'AGN_ol', 'GWW', 'SPRT', 'ABMD', 'QSII', 'ERS', 'BC', 'MMEG', 'BBSI', 'CSV', 'FTV', 'GLBL', 'TGT', 'MTBC', 'PDCO', 'LEDS', 'EXTR', 'ODP', 'OMGB', 'HPJ', 'ALJ', 'TROV', 'EW', 'PRU', 'DE', 'ANDV', 'OCC', 'PBI', 'ALR', 'CORT', 'ARG', 'KTOS', 'QUOT', 'HD', 'PPG', 'PG', 'GMED', 'XHUA', 'MTN', 'CMA', 'CRUS', 'AXGN', 'FCFS', 'PFGC', 'ATK', 'BWXT', 'SGM', 'SIGI', 'SFD', 'CORR', 'SLGN', 'CAVM', 'CHKE', 'SHLX', 'RCL', 'STRM', 'CATO', 'BRS', 'ADS', 'ABTL', 'RGEN', 'SYRG', 'BLOX', 'EQT', 'CSL', 'ININ', 'CPRT', 'ABG', 'NERO', 'PRSP', 'ZS', 'FLEX', 'TR', 'CELH', 'NWPX', 'CXW', 'TXRH', 'SAFT', 'CSC', 'ENPH', 'FARO', 'AEHR', 'LIVN', 'MYL_ol', 'IDSY', 'ATR', 'AIT', 'D', 'AHPI', 'AET', 'SLNM', 'RPM', 'SBGI', 'ULH', 'MRAM', 'ADC', 'RAD', 'KMB', 'KFY', 'IRG', 'NRZ', 'LSI_ol', 'ITT', 'PGTI', 'GS', 'SMCI', 'BRCM', 'JOUT', 'CSCO', 'OTTR', 'DLPH', 'GES', 'GENC', 'MEI', 'CHART', 'EEFT', 'AMCI', 'SLAB', 'BFAM', 'TCMD', 'LAZ', 'TRN', 'EB', 'LAYN', 'OFC', 'SFS', 'AKS', 'IAA', 'VIDE', 'BOMN', 'EXR', 'SIRI', 'FLWS', 'GWR', 'TEUM', 'HDSN', 'WINH', 'SD', 'SPR', 'ROST', 'COHR', 'HST', 'MGCD', 'CACI', 'CINF', 'NWS', 'TPX', 'MGEE', 'AVB', 'GTXI', 'VOYA', 'TESS', 'AKDS', 'OPTT', 'BYD', 'LTRPA', 'HUBB', 'RIHT', 'Q', 'JAKK', 'CLSK', 'IP', 'TBIO', 'CLCT', 'SM', 'LINE', 'KND', 'EEI', 'IRM', 'SUP', 'CRZO', 'INFN', 'VMC', 'SBH', 'CBI', 'SYRS', 'POST', 'GMAN', 'DXLG', 'TSLA', 'WFM', 'LLPP', 'LPTH', 'ZEN', 'FOLD', 'MICT', 'AMAT', 'CSOD', 'FUEL', 'CLNY', 'CRL', 'FONR', 'OSPN', 'URBN', 'YGYI', 'CETV', 'STAA', 'PEB', 'ETSY', 'A', 'MJN', 'CENT', 'LOV', 'ACAD', 'BIIB', 'AMSWA', 'SRRA', 'NVDA', 'IT', 'INVA', 'CRWS', 'TPL', 'GT', 'BCO', 'OMP', 'RGLD', 'ACLS', 'SYUT', 'ZMH', 'ANIK', 'EXPR', 'HOG', 'PPHM', 'KEM', 'OA', 'CCF', 'NACCO', 'NLS', 'ARLP', 'DATA', 'IPI', 'XLNX', 'FISV', 'CIT', 'FE', 'MAC', 'CLBS', 'GXP', 'MCGI', 'SGMA', 'LEA', 'CBK', 'BSTG', 'WBMD', 'MARA', 'SONO', 'INOD', 'TLYS', 'IPHI', 'STRA', 'TGTX', 'PATK', 'AFSI', 'HIW', 'MTSI', 'SQ', 'PCTI', 'FKWL', 'ECL', 'BCPC', 'ADRO', 'INGR', 'CNK', 'FIT', 'LANC', 'PGC', 'DRH', 'OLLI', 'ARCB', 'CLNE', 'TECH', 'TEVA', 'V', 'UAL', 'ABR', 'FLS', 'AEIS', 'SBUX', 'PTN', 'HDS', 'FNKO', 'FRSH', 'GCI', 'DIT', 'MHK', 'LPX', 'MDR', 'INVH', 'MAT', 'OI', 'HAL', 'ZAGG', 'LPLA', 'CRI', 'NSPR', 'BOXL', 'CPT', 'TWIN', 'WDC', 'WRI', 'JTBK', 'SLCA', 'SGA', 'RUSHA', 'ZM', 'CSGS', 'GTY', 'TXT', 'SRCL', 'ALRN', 'CPS', 'TJX', 'AOBC', 'KOPN', 'NTRA', 'TVPT', 'SWY', 'GERN', 'CKP', 'IPXL', 'IIPR', 'CWEN', 'SHW', 'ITRI', 'ZTS', 'DVA', 'ESDI', 'TEN', 'QEP', 'SSNI', 'WCG', 'GLP', 'NP', 'HCA', 'DD', 'GLUU', 'DJCO', 'LZB', 'SCPL', 'DISH', 'HK', 'UNIT', 'UNFI', 'SAIA', 'GEVO', 'SMSI', 'LRDC', 'CST', 'ADI', 'WAB', 'EXPD', 'WMK', 'FFIN', 'UTMD', 'ABMC', 'ANSS', 'EQM', 'ALT', 'NOC', 'RUN', 'PERF', 'SSNT', 'TWOU', 'OMC', 'DMRC', 'AP', 'TUP', 'MACK', 'PRGS', 'TCNT', 'SPH', 'IDT', 'HUM', 'VMI', 'ESRT', 'JEF', 'GSIG', 'CLBK', 'PIR', 'WAIR', 'EBIX', 'IPDN', 'TFSL', 'IDA', 'LQDT', 'CDNS', 'PKD', 'FOXF', 'HMNY', 'IRET', 'GRC', 'APTV', 'SOLY', 'FCS', 'SHLM', 'EWBC', 'EL', 'BEN', 'TTPH', 'TAST', 'WHG', 'NLN', 'CEQP', 'JBL', 'SMIT', 'LC', 'CSX', 'PRKA', 'CDAY', 'TRCO', 'JUVF', 'WGP', 'ASNA', 'SIGN', 'UMBF', 'PESI', 'SRPT', 'PAH', 'MKTX', 'NAVI', 'GOOG', 'LSTR', 'FMAO', 'HTA', 'TMED', 'RLOC', 'PPC', 'SNAP', 'SSTK', 'KRG', 'PNFP', 'TWMC', 'ROK', 'WATT', 'XCRA', 'FCEL', 'LION', 'GEF', 'KAR', 'DNB', 'GM', 'KURA', 'VSLR', 'GSHD', 'CGNX', 'JSDA', 'MCF', 'HR', 'GGP', 'CMLS', 'DPHC', 'ASH', 'EMC', 'CBOE', 'CHE', 'SMTC', 'COUP', 'XBIT', 'CSPR', 'ENSG', 'TIVO', 'XPO', 'MCFT', 'BSQR', 'MSGO', 'EXPI', 'LLL', 'UMRX', 'PCAR', 'SXT', 'SMRT', 'FMSA', 'CHGG', 'CMS', 'CUO', 'CFMS', 'OHI', 'ATU', 'SSYS', 'SQBG', 'BCR', 'GWGH', 'PSTL', 'AGO', 'ARCH', 'YHOO', 'LGIH', 'CVGI', 'KE', 'BOOM', 'FTDR', 'ZDGE', 'FNJN', 'PE', 'CFG', 'CALM', 'PBH', 'BSX', 'EVR', 'PGNX', 'LXU', 'BRCD', 'NNN', 'ENZB', 'HURN', 'LYV', 'HEP', 'MBWM', 'HQY', 'TDW', 'G', 'NFG', 'DRE', 'CZR', 'EVBG', 'KTEC', 'NK', 'UG', 'MSM', 'ZAYO', 'ASGN', 'VISI', 'NWY', 'SCSC', 'PFG', 'PGR', 'ULTI', 'NGVC', 'BOH', 'ATO', 'LEG', 'PDLI', 'PLUG', 'DFT', 'MKC', 'OMED', 'CONN', 'OUT', 'CRTO', 'KLAC', 'CNC', 'IEHC', 'BMRN', 'CUB', 'PRXL', 'SVU', 'COO', 'ABBV', 'AMP', 'PUMP', 'ALG', 'MRSN', 'PETS', 'HIL', 'DTE', 'HNGR', 'MDB', 'AMSC', 'HUN', 'FLO', 'ALGN', 'LIN', 'CLGX', 'VIDA', 'HRI', 'GEPC', 'UPLD', 'BH', 'SJM', 'SYNH', 'VALU', 'CALL', 'CMI', 'GDI', 'TMO', 'CIEN', 'L', 'CLDT', 'AFG', 'SHEN', 'IRDM', 'CVSI', 'TECD', 'HPE', 'ANET', 'SANM', 'PFPT', 'WCIC', 'IDDR', 'UTL', 'LTHM', 'JGPK', 'NKSH', 'LITE', 'PTI', 'WSH', 'KOS', 'ADNT', 'CODA', 'WPC', 'CASA', 'WOR', 'ESP', 'SCTY', 'CPB', 'ROP', 'ATI', 'ONEM', 'NERV', 'PAYX', 'KANP', 'PRGX', 'ZGNX', 'ARKR', 'NUVA', 'DNOW', 'TTOO', 'STT', 'BNED', 'YEXT', 'LSYN', 'LMB', 'SITE', 'RLJE', 'KITE', 'EGAN', 'FSS', 'HEAR', 'AWX', 'ABC', 'RTN', 'WRE', 'BRBR', 'WTW', 'DORM', 'SRC', 'PEN', 'VLGEA', 'SPAN', 'EBF', 'TROW', 'NVR', 'NE', 'TDC', 'AHL', 'PROM', 'EPM', 'IVR', 'FSCT', 'RAVN', 'CMBM', 'NATI', 'GILD', 'ACE', 'ZINCQ', 'WWE', 'AIMC', 'NVAX', 'ODT', 'MKL', 'F', 'LADR', 'NEP', 'NCR', 'XEL', 'BGSF', 'JAZZ', 'GOV', 'MC', 'BCEI', 'VSTM', 'SGY', 'JILL', 'AMBA', 'AAWW', 'FTI', 'ULTA', 'LAMR', 'BA', 'TLND', 'EYPT', 'OPRX', 'S', 'CTOP', 'NX', 'PSX', 'RAI', 'HRC', 'CIE', 'CRIS', 'ACM', 'VRX', 'TNDM', 'CNSL', 'CAPL', 'FIVE', 'MSCI', 'AEO', 'WPX', 'GAMZ', 'BB', 'BDN', 'BL', 'PRCP', 'IIN', 'ANGI', 'LDOS_o', 'ORA', 'GBCI', 'MXPT', 'APO', 'USM', 'AGHI', 'CCI', 'IDCC', 'RHT', 'RYAM', 'DEA', 'DRI', 'EQR', 'TNET', 'PAHC', 'H', 'WK', 'CTXS', 'COLM', 'WY', 'ARTX', 'EHTH', 'BOJA', 'ACU', 'VRA', 'VKTX', 'MOBL', 'SKY', 'UHS', 'PRGO', 'BLL', 'CXBS', 'ORCL', 'ES_old', 'CIK', 'CHTR', 'NAII', 'ASTC', 'MET', 'RAIL', 'CTS', 'ZG', 'MRVL', 'IMTV', 'SEB', 'LTRX', 'BKI', 'WIRE', 'SYNA', 'KLIC', 'GLRP', 'SOFO', 'TPR', 'KMX', 'FORM', 'TLRY', 'NUE', 'TSN', 'KLEG', 'FGP', 'PRTX', 'ERI', 'GRA', 'BONT', 'HCHC', 'MXMG', 'PKI', 'MNR', 'BIG', 'DIN', 'CTMX', 'EVI', 'HBI', 'XPER', 'MB', 'HLI', 'HRTG', 'RUTH', 'RT', 'FCF', 'CVCO', 'DG', 'AGYS', 'MPW', 'RDN', 'SCHN', 'DVN', 'PNR', 'HBHC', 'BBBI', 'PEDH', 'HABT', 'ECYT', 'WFT_ol', 'AFL'}\n",
      "2594\n"
     ]
    }
   ],
   "source": [
    "# test cell\n",
    "# for i in get_market_cap(prices, 'AAPL'):\n",
    "#     print(i)\n",
    "print(prices[prices['Ticker']=='SHOP'])\n",
    "print(set(prices['Ticker']))\n",
    "print(len(set(prices['Ticker'])))"
   ]
  },
  {
   "cell_type": "code",
   "execution_count": 8,
   "id": "applicable-hollow",
   "metadata": {
    "collapsed": true,
    "jupyter": {
     "outputs_hidden": true
    },
    "scrolled": true,
    "tags": []
   },
   "outputs": [
    {
     "data": {
      "image/png": "[encoded data removed]",
      "text/plain": [
       "<Figure size 432x288 with 1 Axes>"
      ]
     },
     "metadata": {
      "needs_background": "light"
     },
     "output_type": "display_data"
    }
   ],
   "source": [
    "plt.plot(get_market_cap(prices, 'V'))"
   ]
  },
  {
   "cell_type": "code",
   "execution_count": 101,
   "id": "vital-reliance",
   "metadata": {
    "scrolled": true,
    "tags": []
   },
   "outputs": [],
   "source": [
    "# attempt 1 at dataset preparation\n",
    "\n",
    "stockset = list(set(prices['Ticker']))\n",
    "# sampleset = ['AAPL', 'AMZN', 'MSFT', 'UAL', 'BA', 'TWTR', 'SQ', 'INTU']\n",
    "sampleset = random.sample(stockset, k = 500)\n",
    "print(sampleset)\n",
    "sampledataset = np.zeros((len(sampleset), 500))\n",
    "sampleresult = np.zeros((len(sampleset), 500))\n",
    "for i, ticker in enumerate(sampleset):\n",
    "    stockmktcap = get_market_cap(prices, ticker)\n",
    "    days = stockmktcap.size\n",
    "    sampledataset[i, 500-days:] = stockmktcap\n",
    "    sampleresult[i,0:499] = sampledataset[i,1:500]\n",
    "    sampleresult[i,499] = sampledataset[i,499]\n",
    "sampledataset = sampledataset.reshape((sampledataset.shape[0], sampledataset.shape[1], 1))\n",
    "sampleresult = sampleresult.reshape((sampleresult.shape[0], sampleresult.shape[1], 1))"
   ]
  },
  {
   "cell_type": "code",
   "execution_count": 13,
   "id": "accredited-dispute",
   "metadata": {
    "scrolled": true,
    "tags": []
   },
   "outputs": [],
   "source": [
    "# attempt 1 at model\n",
    "\n",
    "def model(Tx, Ty):\n",
    "    \n",
    "    X = Input(shape=(Tx,1))\n",
    "    a = LSTM(units=128, return_sequences=True)(X)\n",
    "    a = TimeDistributed(Dense(units=32))(a)\n",
    "    output = TimeDistributed(Dense(units=1))(a)\n",
    "    \n",
    "    model = Model(inputs=X, outputs=output)\n",
    "    return model"
   ]
  },
  {
   "cell_type": "code",
   "execution_count": 43,
   "id": "sublime-tracy",
   "metadata": {
    "scrolled": true
   },
   "outputs": [],
   "source": [
    "sample = sampledataset[457].reshape(1,500,1)\n",
    "plt.plot(model.predict(sample).reshape(500,1))\n",
    "plt.plot(sampleresult[457])"
   ]
  },
  {
   "cell_type": "code",
   "execution_count": 120,
   "id": "seventh-thirty",
   "metadata": {
    "scrolled": true
   },
   "outputs": [],
   "source": [
    "# incomplete\n",
    "\n",
    "def predict(Tx,Ty):\n",
    "    X = Input(shape=(Tx,1))\n",
    "    a = LSTM(units=32)"
   ]
  },
  {
   "cell_type": "code",
   "execution_count": null,
   "id": "computational-combining",
   "metadata": {
    "scrolled": true
   },
   "outputs": [],
   "source": [
    "output = model.predict([X, a0, c0])\n",
    "# plt.plot(.reshape(T_x,1))\n",
    "# plt.plot(sampleresult[4])"
   ]
  }
 ],
 "metadata": {
  "kernelspec": {
   "display_name": "Python 3",
   "language": "python",
   "name": "python3"
  },
  "language_info": {
   "codemirror_mode": {
    "name": "ipython",
    "version": 3
   },
   "file_extension": ".py",
   "mimetype": "text/x-python",
   "name": "python",
   "nbconvert_exporter": "python",
   "pygments_lexer": "ipython3",
   "version": "3.7.10"
  },
  "toc-autonumbering": false,
  "toc-showcode": false,
  "toc-showmarkdowntxt": false
 },
 "nbformat": 4,
 "nbformat_minor": 5
}
