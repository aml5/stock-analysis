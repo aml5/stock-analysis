{
 "cells": [
  {
   "cell_type": "code",
   "execution_count": 1,
   "id": "tender-cocktail",
   "metadata": {},
   "outputs": [],
   "source": [
    "import numpy as np\n",
    "import pandas as pd"
   ]
  },
  {
   "cell_type": "code",
   "execution_count": null,
   "id": "thick-uniform",
   "metadata": {},
   "outputs": [],
   "source": [
    "# removes any rows with zeros\n",
    "\n",
    "def remove_zeros(df):\n",
    "    return df[(df!=0).any(axis=1)]"
   ]
  },
  {
   "cell_type": "code",
   "execution_count": null,
   "id": "owned-angel",
   "metadata": {},
   "outputs": [],
   "source": [
    "# removes any rows with NaN\n",
    "\n",
    "def remove_na(df):\n",
    "    return df.dropna()"
   ]
  },
  {
   "cell_type": "code",
   "execution_count": 4,
   "id": "parental-heather",
   "metadata": {},
   "outputs": [],
   "source": [
    "# retrieves all rows with zero values\n",
    "\n",
    "def get_zeros(df):\n",
    "    return df[(df==0).any(axis=1)]"
   ]
  },
  {
   "cell_type": "code",
   "execution_count": 3,
   "id": "earned-wildlife",
   "metadata": {},
   "outputs": [],
   "source": [
    "# retrieves all rows with NaN values\n",
    "\n",
    "def get_na(df):\n",
    "    return df[df.isna().any(axis=1)]"
   ]
  },
  {
   "cell_type": "code",
   "execution_count": null,
   "id": "moderate-publicity",
   "metadata": {},
   "outputs": [],
   "source": [
    "# reorders index\n",
    "\n",
    "def reindex(df, index):\n",
    "    return df.reindex(columns=index)"
   ]
  },
  {
   "cell_type": "code",
   "execution_count": null,
   "id": "continuing-arbor",
   "metadata": {},
   "outputs": [],
   "source": [
    "# resets a specified index and adds into dataframe as a column\n",
    "\n",
    "def reset_index(df, index):\n",
    "    return df.reset_index(level=index)"
   ]
  },
  {
   "cell_type": "code",
   "execution_count": null,
   "id": "split-evolution",
   "metadata": {},
   "outputs": [],
   "source": [
    "# retrieves all columns that contain values of non-string dtype\n",
    "\n",
    "def get_numerical_cols(df):\n",
    "    return df.columns[df.dtypes!='object']"
   ]
  },
  {
   "cell_type": "code",
   "execution_count": 6,
   "id": "funny-muscle",
   "metadata": {},
   "outputs": [],
   "source": [
    "# sends desktop notification, see https://stackoverflow.com/a/41318195/6501621\n",
    "\n",
    "import os\n",
    "\n",
    "def notify(title, text):\n",
    "    os.system(\"\"\"\n",
    "              osascript -e 'display notification \"{}\" with title \"{}\"'\n",
    "              \"\"\".format(text, title))\n",
    "\n",
    "notify(\"Title\", \"Text\")"
   ]
  },
  {
   "cell_type": "code",
   "execution_count": null,
   "id": "mental-grocery",
   "metadata": {},
   "outputs": [],
   "source": [
    "import pync\n",
    "\n"
   ]
  }
 ],
 "metadata": {
  "kernelspec": {
   "display_name": "Python 3",
   "language": "python",
   "name": "python3"
  },
  "language_info": {
   "codemirror_mode": {
    "name": "ipython",
    "version": 3
   },
   "file_extension": ".py",
   "mimetype": "text/x-python",
   "name": "python",
   "nbconvert_exporter": "python",
   "pygments_lexer": "ipython3",
   "version": "3.7.10"
  }
 },
 "nbformat": 4,
 "nbformat_minor": 5
}
